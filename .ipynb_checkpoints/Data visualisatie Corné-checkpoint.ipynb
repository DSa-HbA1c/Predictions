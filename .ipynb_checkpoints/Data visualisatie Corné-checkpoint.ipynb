{
 "cells": [
  {
   "cell_type": "code",
   "execution_count": 185,
   "id": "c5ff6be2",
   "metadata": {},
   "outputs": [
    {
     "data": {
      "text/html": [
       "        <script type=\"text/javascript\">\n",
       "        window.PlotlyConfig = {MathJaxConfig: 'local'};\n",
       "        if (window.MathJax && window.MathJax.Hub && window.MathJax.Hub.Config) {window.MathJax.Hub.Config({SVG: {font: \"STIX-Web\"}});}\n",
       "        if (typeof require !== 'undefined') {\n",
       "        require.undef(\"plotly\");\n",
       "        requirejs.config({\n",
       "            paths: {\n",
       "                'plotly': ['https://cdn.plot.ly/plotly-2.12.1.min']\n",
       "            }\n",
       "        });\n",
       "        require(['plotly'], function(Plotly) {\n",
       "            window._Plotly = Plotly;\n",
       "        });\n",
       "        }\n",
       "        </script>\n",
       "        "
      ]
     },
     "metadata": {},
     "output_type": "display_data"
    }
   ],
   "source": [
    "import pandas as pd\n",
    "import seaborn as sns\n",
    "import matplotlib.pyplot as plt\n",
    "from ipywidgets import interact, interactive, fixed, interact_manual\n",
    "import ipywidgets as widgets\n",
    "import plotly.express as px\n",
    "import cufflinks as cf\n",
    "import numpy as np\n",
    "import statsmodels.api as sm\n",
    "cf.go_offline()\n",
    "cf.set_config_file(offline=False, world_readable=True)"
   ]
  },
  {
   "cell_type": "markdown",
   "id": "ca2dd0c0",
   "metadata": {},
   "source": [
    "# Business understanding\n",
    "Het ziekenhuis Isala wil de zorg voor diabetespatiënten verbeteren. Het gaat hier specifiek om het behandelproces door onnauwkeurigheden in metingen te filteren en hierop te baseren of een behandelplan aangepast moet worden of niet. Visualisaties zullen helpen bij het verkrijgen van inzicht van diverse meetmethoden om vervolgens conclusies te kunnen trekken. Die zijn er nog niet. deze onnauwkeurigheden voor aangegeven als CV. De CV is de variatiecoëfficiënt. Dit is een maat voor de relatieve variabiliteit. Het is de verhouding tussen de standaardafwijking en het gemiddelde (gemiddelde genomen van de spreiding van meetpunten). Hoe kleiner de variatiecoëfficiënt is, hoe minder de gegevens verspreid zijn vanuit het gemiddelde.\n",
    "\n",
    "Variatiecoëfficiënt = (Standaardafwijking/ Gemiddelde) * 100.\n",
    "\n",
    " \n",
    "# Data understanding\n",
    "Welke databronnen zijn gegeven en in welk formaat: Een excel bestand genaamd: Complete-dataset-FINAL.xlsx\n",
    "\n",
    "note\n",
    "Het excel bestand dat gebruikt gaat worden, is het resultaat van rapporten die om zijn gezet naar excel. Dit is de meest recente versie waarin de meetmethoden zijn genormaliseerd en de waarden dubbelgecheckt zijn.\n",
    "\n",
    "Hoe groot zijn deze databronnen: 355 kB\n",
    "\n",
    "-4685 rijen\n",
    "\n",
    "-12 kolommen\n",
    "\n",
    "Kolomnamen: Method name, N (no. labs), Mean, Bias, CV, Sample, Reference value, Year, Source, Type, Manufacturer (fabrikant).\n",
    "\n",
    "# Data preparation\n",
    "De dataset wordt aangepast, zodat het bruikbaar is om de bapaalde visualisaties te ontwikkelen, onze product owner wilde distinctie tussen de 2 verschillende surveys (CAP & eura1c)"
   ]
  },
  {
   "cell_type": "code",
   "execution_count": 139,
   "id": "dc8ec13f",
   "metadata": {},
   "outputs": [],
   "source": [
    "df = pd.read_excel('Complete-dataset-final.xlsx')\n",
    "df_fout = df.groupby(['Method name','Year']).mean().reset_index().set_index('Method name')\n",
    "df_cap = df.loc[df['Source (CAP/EurA1c)'] == 'CAP']\n",
    "df_cap_all = df_cap.groupby(['Year']).mean().reset_index()\n",
    "df_cap_all  = df_cap_all.drop(columns = ['Bias','Reference Value','Total Error','Mean'])\n",
    "df_eura1c = df.loc[df['Source (CAP/EurA1c)'] == 'EURA1c']\n",
    "df_eura1c_all  = df_eura1c.groupby(['Year']).mean().reset_index()\n",
    "df_eura1c_all = df_eura1c_all.drop(columns = ['Bias','Reference Value','Total Error','Mean'])\n",
    "df_cap = df_cap.groupby(['Method name','Year']).mean().reset_index().set_index('Method name')\n",
    "df_cap = df_cap.drop(columns = ['Bias','Reference Value','Total Error','Mean'])\n",
    "df_eura1c = df_eura1c.groupby(['Method name','Year']).mean().reset_index().set_index('Method name')\n",
    "df_eura1c = df_eura1c.drop(columns = ['Bias','Reference Value','Total Error','Mean'])"
   ]
  },
  {
   "cell_type": "code",
   "execution_count": 176,
   "id": "8ebbe8ec",
   "metadata": {},
   "outputs": [],
   "source": [
    "df_best = df.dropna().groupby('Manufacturer')\n",
    "test = df_best.size().sort_values(ascending=False)\n",
    "test = test[test > 100]\n",
    "df_manufacturer_cap = df[df['Manufacturer'].isin(test.index)]\n",
    "df_manufacturer_cap = df_manufacturer_cap[df_manufacturer_cap['Source (CAP/EurA1c)'] == 'CAP']\n",
    "df_manufacturer_cap = df_manufacturer_cap.drop(columns=['Mean','Bias','Total Error','Reference Value','Year'])\n",
    "df_manufacturer_cap = df_manufacturer_cap.groupby('Manufacturer').mean()\n",
    "df_manufacturer_cap = df_manufacturer_cap.sort_values(by = 'CV').reset_index()\n",
    "\n",
    "df_manufacturer_eura1c = df[df['Manufacturer'].isin(test.index)]\n",
    "df_manufacturer_eura1c = df_manufacturer_eura1c[df_manufacturer_eura1c['Source (CAP/EurA1c)'] == 'EURA1c']\n",
    "df_manufacturer_eura1c = df_manufacturer_eura1c.drop(columns=['Mean','Bias','Total Error','Reference Value','Year'])\n",
    "df_manufacturer_eura1c = df_manufacturer_eura1c.groupby('Manufacturer').mean()\n",
    "df_manufacturer_eura1c = df_manufacturer_eura1c.sort_values(by = 'CV').reset_index()"
   ]
  },
  {
   "cell_type": "markdown",
   "id": "1bac295d",
   "metadata": {},
   "source": [
    "# Modeling\n",
    "CAP en eura1c gemiddelde CV per jaar per methode"
   ]
  },
  {
   "cell_type": "code",
   "execution_count": 130,
   "id": "ad3c9d39",
   "metadata": {},
   "outputs": [],
   "source": [
    "def plotCV_fout(method):\n",
    "    df_fout.loc[[method]].iplot(\n",
    "                    xTitle='Year',\n",
    "                    x = 'Year',\n",
    "                    y = 'CV',\n",
    "                    mode='lines+markers',\n",
    "                    yTitle='CV {}'.format(method),\n",
    "                    xaxis_range=[2006,2021],\n",
    "                    title = 'Average CV per Year FOUT'\n",
    "        \n",
    "                     )"
   ]
  },
  {
   "cell_type": "code",
   "execution_count": 119,
   "id": "7ac96bd3",
   "metadata": {},
   "outputs": [],
   "source": [
    "def plotCV_CAP(method):\n",
    "    df_cap.loc[[method]].iplot(\n",
    "                    xTitle='Year',\n",
    "                    x = 'Year',\n",
    "                    y = 'CV',\n",
    "                    mode='lines+markers',\n",
    "                    yTitle='CV {}'.format(method),\n",
    "                    xaxis_range=[2006,2021],\n",
    "                    title = 'Average CV per Year'\n",
    "        \n",
    "                     )"
   ]
  },
  {
   "cell_type": "code",
   "execution_count": 124,
   "id": "c3f4da83",
   "metadata": {},
   "outputs": [],
   "source": [
    "def plotCV_eura1c(method):\n",
    "    df_eura1c.loc[[method]].iplot(\n",
    "                    xTitle='Year',\n",
    "                    x = 'Year',\n",
    "                    y = 'CV',\n",
    "                    mode='lines+markers',\n",
    "                    yTitle='CV {}'.format(method),\n",
    "                    xaxis_range=[2016,2020],\n",
    "                    title = 'Average CV per Year'\n",
    "        \n",
    "                     )"
   ]
  },
  {
   "cell_type": "code",
   "execution_count": 132,
   "id": "c6db6c3f",
   "metadata": {},
   "outputs": [
    {
     "data": {
      "application/vnd.jupyter.widget-view+json": {
       "model_id": "d9fc09fc75394dca8b799825114dc383",
       "version_major": 2,
       "version_minor": 0
      },
      "text/plain": [
       "interactive(children=(Dropdown(description='method', options=('A1cNOW', 'Abbott Alinity', 'Abbott Alinity ci s…"
      ]
     },
     "metadata": {},
     "output_type": "display_data"
    },
    {
     "data": {
      "text/plain": [
       "<function __main__.plotCV_fout(method)>"
      ]
     },
     "execution_count": 132,
     "metadata": {},
     "output_type": "execute_result"
    }
   ],
   "source": [
    "interact(plotCV_fout, method=df_fout.index.unique())"
   ]
  },
  {
   "cell_type": "code",
   "execution_count": 121,
   "id": "1b5a91d5",
   "metadata": {},
   "outputs": [
    {
     "data": {
      "application/vnd.jupyter.widget-view+json": {
       "model_id": "ab7dc00cb43f4995b675348662e6475e",
       "version_major": 2,
       "version_minor": 0
      },
      "text/plain": [
       "interactive(children=(Dropdown(description='method', options=('A1cNOW', 'Abbott Alinity ci series', 'Abbott Ar…"
      ]
     },
     "metadata": {},
     "output_type": "display_data"
    },
    {
     "data": {
      "text/plain": [
       "<function __main__.plotCV_CAP(method)>"
      ]
     },
     "execution_count": 121,
     "metadata": {},
     "output_type": "execute_result"
    }
   ],
   "source": [
    "interact(plotCV_CAP, method=df_cap.index.unique())"
   ]
  },
  {
   "cell_type": "code",
   "execution_count": 125,
   "id": "de01adab",
   "metadata": {
    "scrolled": false
   },
   "outputs": [
    {
     "data": {
      "application/vnd.jupyter.widget-view+json": {
       "model_id": "1bebeb8c3e2e40de9bd2751c124f0075",
       "version_major": 2,
       "version_minor": 0
      },
      "text/plain": [
       "interactive(children=(Dropdown(description='method', options=('Abbott Alinity', 'Abbott Architect', 'Abbott Ar…"
      ]
     },
     "metadata": {},
     "output_type": "display_data"
    },
    {
     "data": {
      "text/plain": [
       "<function __main__.plotCV_eura1c(method)>"
      ]
     },
     "execution_count": 125,
     "metadata": {},
     "output_type": "execute_result"
    }
   ],
   "source": [
    "interact(plotCV_eura1c, method=df_eura1c.index.unique())"
   ]
  },
  {
   "cell_type": "code",
   "execution_count": 182,
   "id": "908cca89",
   "metadata": {},
   "outputs": [
    {
     "data": {
      "text/plain": [
       "Text(0.5, 1.0, 'gemiddelde CV waardes cap')"
      ]
     },
     "execution_count": 182,
     "metadata": {},
     "output_type": "execute_result"
    },
    {
     "data": {
      "image/png": "[encoded data removed]",
      "text/plain": [
       "<Figure size 432x288 with 1 Axes>"
      ]
     },
     "metadata": {
      "needs_background": "light"
     },
     "output_type": "display_data"
    }
   ],
   "source": [
    "sns.regplot(data=df_cap_all, x = 'Year', y = 'CV').set_title('gemiddelde CV waardes cap')"
   ]
  },
  {
   "cell_type": "code",
   "execution_count": 202,
   "id": "d97d20a1",
   "metadata": {},
   "outputs": [
    {
     "data": {
      "text/plain": [
       "<AxesSubplot:xlabel='Year', ylabel='CV'>"
      ]
     },
     "execution_count": 202,
     "metadata": {},
     "output_type": "execute_result"
    },
    {
     "data": {
      "image/png": "[encoded data removed]",
      "text/plain": [
       "<Figure size 432x288 with 1 Axes>"
      ]
     },
     "metadata": {
      "needs_background": "light"
     },
     "output_type": "display_data"
    }
   ],
   "source": [
    "X = df_cap_all[\"Year\"]\n",
    "y = df_cap_all[\"CV\"]\n",
    "\n",
    "# Fit and make the predictions by the model\n",
    "model = sm.OLS(y, X).fit()\n",
    "predictions = model.predict(X)\n",
    "preddf = pd.DataFrame(predictions, columns=['CV'])\n",
    "preddf['Year'] = \"2022\"\n",
    "preddf = preddf.groupby('Year').mean().reset_index()\n",
    "test = pd.concat([df_cap_all,preddf])\n",
    "test['Year'] = test['Year'].astype(str).astype(int)\n",
    "test = test.reset_index(drop=True)\n",
    "sns.lineplot(x = 'Year', y = 'CV', data = test)\n",
    "sns.lineplot(x = 'Year', y = 'CV', data = test[(test['Year'] >= 2021) & (test['Year'] <= 2022)], color= 'red')"
   ]
  },
  {
   "cell_type": "code",
   "execution_count": 206,
   "id": "3ab2095d",
   "metadata": {},
   "outputs": [
    {
     "data": {
      "text/plain": [
       "<AxesSubplot:xlabel='Year', ylabel='CV'>"
      ]
     },
     "execution_count": 206,
     "metadata": {},
     "output_type": "execute_result"
    },
    {
     "data": {
      "image/png": "[encoded data removed]",
      "text/plain": [
       "<Figure size 432x288 with 1 Axes>"
      ]
     },
     "metadata": {
      "needs_background": "light"
     },
     "output_type": "display_data"
    }
   ],
   "source": [
    "X = df_eura1c_all[\"Year\"]\n",
    "y = df_eura1c_all[\"CV\"]\n",
    "\n",
    "# Fit and make the predictions by the model\n",
    "model = sm.OLS(y, X).fit()\n",
    "predictions = model.predict(X)\n",
    "preddf = pd.DataFrame(predictions, columns=['CV'])\n",
    "preddf['Year'] = \"2021\"\n",
    "preddf = preddf.groupby('Year').mean().reset_index()\n",
    "test = pd.concat([df_eura1c_all,preddf])\n",
    "test['Year'] = test['Year'].astype(str).astype(int)\n",
    "test = test.reset_index(drop=True)\n",
    "sns.lineplot(x = 'Year', y = 'CV', data = test)\n",
    "sns.lineplot(x = 'Year', y = 'CV', data = test[(test['Year'] >= 2020) & (test['Year'] <= 2021)], color= 'red')"
   ]
  },
  {
   "cell_type": "code",
   "execution_count": null,
   "id": "41dc6a44",
   "metadata": {},
   "outputs": [],
   "source": [
    "sns.lineplot(x = 'Year', y = 'CV', data = test)\n",
    "sns.lineplot(x = 'Year', y = 'CV', data = test[(test['Year'] >= 2021) & (test['Year'] <= 2022)], color= 'red')"
   ]
  },
  {
   "cell_type": "code",
   "execution_count": 183,
   "id": "d4656770",
   "metadata": {},
   "outputs": [
    {
     "data": {
      "text/plain": [
       "Text(0.5, 1.0, 'gemiddelde CV waardes eura1c')"
      ]
     },
     "execution_count": 183,
     "metadata": {},
     "output_type": "execute_result"
    },
    {
     "data": {
      "image/png": "[encoded data removed]",
      "text/plain": [
       "<Figure size 432x288 with 1 Axes>"
      ]
     },
     "metadata": {
      "needs_background": "light"
     },
     "output_type": "display_data"
    }
   ],
   "source": [
    "sns.regplot(data=df_eura1c_all, x = 'Year', y = 'CV').set_title('gemiddelde CV waardes eura1c')"
   ]
  },
  {
   "cell_type": "code",
   "execution_count": 179,
   "id": "1b1bafa2",
   "metadata": {},
   "outputs": [
    {
     "data": {
      "image/png": "[encoded data removed]",
      "text/plain": [
       "<Figure size 432x288 with 1 Axes>"
      ]
     },
     "metadata": {
      "needs_background": "light"
     },
     "output_type": "display_data"
    }
   ],
   "source": [
    "sns.barplot(data = df_manufacturer_cap, x = 'Manufacturer', y = 'CV')\n",
    "plt.xticks(rotation=90)\n",
    "plt.tight_layout()"
   ]
  },
  {
   "cell_type": "code",
   "execution_count": 181,
   "id": "9df0d66f",
   "metadata": {},
   "outputs": [
    {
     "data": {
      "image/png": "[encoded data removed]",
      "text/plain": [
       "<Figure size 432x288 with 1 Axes>"
      ]
     },
     "metadata": {
      "needs_background": "light"
     },
     "output_type": "display_data"
    }
   ],
   "source": [
    "sns.barplot(data = df_manufacturer_eura1c, x = 'Manufacturer', y = 'CV')\n",
    "plt.xticks(rotation=90)\n",
    "plt.tight_layout()"
   ]
  },
  {
   "cell_type": "markdown",
   "id": "305afa60",
   "metadata": {},
   "source": [
    "# Evaluation\n",
    "Onze product owner vond het belangrijk om inzicht te krijgen in hoe de methodes het over de jaren heen het deden met de cv waardes, onze data bestond uit twee verschillende surveys, de Amerikaanse(CAP) en de europeaanse(eura1c), om de cv waardes te visualiseren hadden we dan ook de cv waardes per methode per jaar het gemiddelde gepakt en dat gevisualiseerd. Na een stakeholder meeting waar we dit product opleverde kwamen we erachter dat de cv waardes van de CAP en eura1c beide anders worden berekend en opgesteld. Hierdoor waren we genoodzaakt om 2 grafieken te ontwikkelen, één van de CAP data en één van de eura1c data. Gelukkig hadden we onze dataset zo opgesteld dat in onze complete dataset een variabel was waar we hadden aangegeven of de data van de CAP of de eura1c survey was."
   ]
  },
  {
   "cell_type": "markdown",
   "id": "f59e67fd",
   "metadata": {},
   "source": [
    "Mijn eerste bevinding bij allebei de grafieken die ik kan maken is dat er veel data punten missen. Hierdoor is het lastig om nou een heel erg duidelijk beeld te krijgen hoe de methodes het nou over de jaren heen doen (sommige methodes hebben maar 1 jaar aan data en andere wel over meerdere jaren). Bijvoorbeeld bij de CAP data is de Tosoh G7 Auto HPLC goed gedocumenteerd over de jaren heen en kan je zien of de methode zich verbeterd of alleen maar slechter word. Hier kan je zien dat de CV waarde in 2017 opeens een stuk lager en dus beter werd maar in 2018 de waarde snel weer naar boven schoot weer bijna terug naar ongeveer dezelfde waardes als jaren ervoor. Dit soort schommelingen komen vaker voor in de dataset, daarom is het ook interessant om hier verder naar te kijken"
   ]
  },
  {
   "cell_type": "markdown",
   "id": "b7dfb527",
   "metadata": {},
   "source": [
    "Mijn tweede bevinding is dat er bij de cap en eura1c data verschillende manufacturers het beste zijn bij hun data, maar toch ook weer veel hetzelfde. De nummers 1-5 en 6-10 zijn namelijk allemaal dezelfde manufacturers maar net op een andere positie. Dit laat toch zien dat er wel duidelijk verschil zit tussen de manufacturers."
   ]
  },
  {
   "cell_type": "markdown",
   "id": "0f4d0fd2",
   "metadata": {},
   "source": [
    "Daarom hebben we een nieuwe grafiek gerealiseerd om de gemiddelde CV waardes van alle methoden over alle jaren heen te laten zien en zie je dat over de jaren heen er een trend naar beneden is bij de cap data en bij de eura1c er juist een trend naar boven is bij de laatste paar jare. De grote schommelingen per jaar komen wel echt alleen per methode voor en niet in het algemeen over de hele dataset, ik zit geen punten in de grafiek die heel erg afwijken van de regressielijn."
   ]
  },
  {
   "cell_type": "markdown",
   "id": "afc6fd2f",
   "metadata": {},
   "source": [
    "# Conclusie"
   ]
  },
  {
   "cell_type": "markdown",
   "id": "c5157b05",
   "metadata": {},
   "source": [
    "Onze product owner heeft nu een duidelijk beeld van hoe de methodes het over de jaren heen ontwikkelen, ook zijn we erachter gekomen dat bij de CAP data alle methodes over de afgelopen jaren steeds beter presteren, bij de eura1c juist minder goed. Het kan daarom interessant zijn om onderzoek te doen naar waarom dit het geval is."
   ]
  },
  {
   "cell_type": "markdown",
   "id": "8a091cd8",
   "metadata": {},
   "source": [
    "Ook is er voor onze product owner nu een duidelijker beeld wat betreft de onnauwkeurigheden binnen de verschillende manufacturers. Het is daarom ook interresant om onderzoek te doen naar de slechter presterende manufacturers waarom dit zo is, dit gaat helaas buiten onze scope om."
   ]
  }
 ],
 "metadata": {
  "kernelspec": {
   "display_name": "Python 3 (ipykernel)",
   "language": "python",
   "name": "python3"
  },
  "language_info": {
   "codemirror_mode": {
    "name": "ipython",
    "version": 3
   },
   "file_extension": ".py",
   "mimetype": "text/x-python",
   "name": "python",
   "nbconvert_exporter": "python",
   "pygments_lexer": "ipython3",
   "version": "3.9.7"
  }
 },
 "nbformat": 4,
 "nbformat_minor": 5
}
