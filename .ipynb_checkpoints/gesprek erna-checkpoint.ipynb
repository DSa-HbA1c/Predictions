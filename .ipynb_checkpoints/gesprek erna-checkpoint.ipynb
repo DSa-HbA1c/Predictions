{
 "cells": [
  {
   "cell_type": "code",
   "execution_count": 1,
   "id": "c94edd45",
   "metadata": {},
   "outputs": [
    {
     "data": {
      "text/html": [
       "        <script type=\"text/javascript\">\n",
       "        window.PlotlyConfig = {MathJaxConfig: 'local'};\n",
       "        if (window.MathJax && window.MathJax.Hub && window.MathJax.Hub.Config) {window.MathJax.Hub.Config({SVG: {font: \"STIX-Web\"}});}\n",
       "        if (typeof require !== 'undefined') {\n",
       "        require.undef(\"plotly\");\n",
       "        requirejs.config({\n",
       "            paths: {\n",
       "                'plotly': ['https://cdn.plot.ly/plotly-2.12.1.min']\n",
       "            }\n",
       "        });\n",
       "        require(['plotly'], function(Plotly) {\n",
       "            window._Plotly = Plotly;\n",
       "        });\n",
       "        }\n",
       "        </script>\n",
       "        "
      ]
     },
     "metadata": {},
     "output_type": "display_data"
    }
   ],
   "source": [
    "import pandas as pd\n",
    "import seaborn as sns\n",
    "import matplotlib.pyplot as plt\n",
    "from ipywidgets import interact, interactive, fixed, interact_manual\n",
    "import ipywidgets as widgets\n",
    "import plotly.express as px\n",
    "import cufflinks as cf\n",
    "import numpy as np\n",
    "cf.go_offline()\n",
    "cf.set_config_file(offline=False, world_readable=True)"
   ]
  },
  {
   "cell_type": "code",
   "execution_count": 2,
   "id": "16910dc6",
   "metadata": {},
   "outputs": [],
   "source": [
    "df = pd.read_excel('Complete-dataset-FINAL.xlsx')\n",
    "df = df.dropna()\n",
    "df2 = df.groupby(['Method name','Year']).mean().reset_index()\n",
    "df3 = df2.set_index('Method name')\n",
    "df4 = df.set_index('Method name')\n",
    "df5 = df3[['Year','Bias','CV','Total Error']]\n",
    "df6 = df.groupby(['Manufacturer','Year']).mean().reset_index().set_index('Manufacturer')\n",
    "df6 = df6[['Year','Bias','CV','Total Error']]\n",
    "df7 = df.groupby('Manufacturer').mean().dropna()\n",
    "df7 = df7.sort_values(by='CV')\n",
    "df7 = df7.drop(columns=['Mean','Bias','Total Error','Reference Value','Year'])\n",
    "df7 = df7.reset_index()\n",
    "df8 = df.groupby('Manufacturer').mean().dropna()\n",
    "df8 = df8.sort_values(by='Bias')\n",
    "df8 = df8.drop(columns=['Mean','CV','Total Error','Reference Value','Year'])\n",
    "df8 = df8.reset_index()"
   ]
  },
  {
   "cell_type": "code",
   "execution_count": 3,
   "id": "f6ce5db9",
   "metadata": {},
   "outputs": [],
   "source": [
    "def plotEverythingMethod(method):\n",
    "    df5.loc[[method]].iplot(\n",
    "                    xTitle='Year',\n",
    "                    x = 'Year',\n",
    "                    mode='lines+markers',\n",
    "                    yTitle='Total Error {}'.format(method)\n",
    "                    \n",
    "        \n",
    "                     )"
   ]
  },
  {
   "cell_type": "code",
   "execution_count": 4,
   "id": "56c32fc3",
   "metadata": {},
   "outputs": [],
   "source": [
    "def plotEverythingManufacturer(method):\n",
    "    df6.loc[[method]].iplot(\n",
    "                    xTitle='Year',\n",
    "                    x = 'Year',\n",
    "                    mode='lines+markers',\n",
    "                    yTitle='Total Error {}'.format(method)\n",
    "                    \n",
    "        \n",
    "                     )"
   ]
  },
  {
   "cell_type": "markdown",
   "id": "fcc4eea3",
   "metadata": {},
   "source": [
    "# De bias, cv en total error per methode per jaar"
   ]
  },
  {
   "cell_type": "code",
   "execution_count": 5,
   "id": "e4014172",
   "metadata": {},
   "outputs": [
    {
     "data": {
      "application/vnd.jupyter.widget-view+json": {
       "model_id": "fffeeac3b842401288d27912d70095eb",
       "version_major": 2,
       "version_minor": 0
      },
      "text/plain": [
       "interactive(children=(Dropdown(description='method', options=('A1cNOW', 'Abbott Alinity', 'Abbott Alinity ci s…"
      ]
     },
     "metadata": {},
     "output_type": "display_data"
    },
    {
     "data": {
      "text/plain": [
       "<function __main__.plotEverythingMethod(method)>"
      ]
     },
     "execution_count": 5,
     "metadata": {},
     "output_type": "execute_result"
    }
   ],
   "source": [
    "interact(plotEverythingMethod, method=df3.index.unique())"
   ]
  },
  {
   "cell_type": "markdown",
   "id": "02d53537",
   "metadata": {},
   "source": [
    "# De bias, cv en total error per manufacturer per jaar"
   ]
  },
  {
   "cell_type": "code",
   "execution_count": 6,
   "id": "357ea3bc",
   "metadata": {
    "scrolled": false
   },
   "outputs": [
    {
     "data": {
      "application/vnd.jupyter.widget-view+json": {
       "model_id": "406048459882459cad950871ca83c689",
       "version_major": 2,
       "version_minor": 0
      },
      "text/plain": [
       "interactive(children=(Dropdown(description='method', options=('Abbott', 'Alere', 'Arkray', 'Axis-Shield', 'Bay…"
      ]
     },
     "metadata": {},
     "output_type": "display_data"
    },
    {
     "data": {
      "text/plain": [
       "<function __main__.plotEverythingManufacturer(method)>"
      ]
     },
     "execution_count": 6,
     "metadata": {},
     "output_type": "execute_result"
    }
   ],
   "source": [
    "interact(plotEverythingManufacturer, method=df6.index.unique())"
   ]
  },
  {
   "cell_type": "markdown",
   "id": "49688814",
   "metadata": {},
   "source": [
    "# manufacturers sorted by lowest average CV"
   ]
  },
  {
   "cell_type": "code",
   "execution_count": 7,
   "id": "cc929a13",
   "metadata": {},
   "outputs": [
    {
     "data": {
      "image/png": "[encoded data removed]",
      "text/plain": [
       "<Figure size 432x288 with 1 Axes>"
      ]
     },
     "metadata": {
      "needs_background": "light"
     },
     "output_type": "display_data"
    }
   ],
   "source": [
    "ax = sns.barplot(x=\"Manufacturer\", y=\"CV\", data=df7).set_title('Top manufacturers CV values')\n",
    "plt.xticks(rotation=90)\n",
    "plt.tight_layout()"
   ]
  }
 ],
 "metadata": {
  "kernelspec": {
   "display_name": "Python 3 (ipykernel)",
   "language": "python",
   "name": "python3"
  },
  "language_info": {
   "codemirror_mode": {
    "name": "ipython",
    "version": 3
   },
   "file_extension": ".py",
   "mimetype": "text/x-python",
   "name": "python",
   "nbconvert_exporter": "python",
   "pygments_lexer": "ipython3",
   "version": "3.9.7"
  }
 },
 "nbformat": 4,
 "nbformat_minor": 5
}
