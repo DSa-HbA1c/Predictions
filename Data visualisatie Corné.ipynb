{
 "cells": [
  {
   "cell_type": "code",
   "execution_count": 1,
   "id": "ed7ed8a6",
   "metadata": {},
   "outputs": [
    {
     "data": {
      "text/html": [
       "        <script type=\"text/javascript\">\n",
       "        window.PlotlyConfig = {MathJaxConfig: 'local'};\n",
       "        if (window.MathJax && window.MathJax.Hub && window.MathJax.Hub.Config) {window.MathJax.Hub.Config({SVG: {font: \"STIX-Web\"}});}\n",
       "        if (typeof require !== 'undefined') {\n",
       "        require.undef(\"plotly\");\n",
       "        requirejs.config({\n",
       "            paths: {\n",
       "                'plotly': ['https://cdn.plot.ly/plotly-2.12.1.min']\n",
       "            }\n",
       "        });\n",
       "        require(['plotly'], function(Plotly) {\n",
       "            window._Plotly = Plotly;\n",
       "        });\n",
       "        }\n",
       "        </script>\n",
       "        "
      ]
     },
     "metadata": {},
     "output_type": "display_data"
    }
   ],
   "source": [
    "import pandas as pd\n",
    "import seaborn as sns\n",
    "import matplotlib.pyplot as plt\n",
    "from ipywidgets import interact, interactive, fixed, interact_manual\n",
    "import ipywidgets as widgets\n",
    "import plotly.express as px\n",
    "import cufflinks as cf\n",
    "import numpy as np\n",
    "import statsmodels.api as sm\n",
    "cf.go_offline()\n",
    "cf.set_config_file(offline=False, world_readable=True)"
   ]
  },
  {
   "cell_type": "markdown",
   "id": "a1415c00",
   "metadata": {},
   "source": [
    "# Business understanding\n",
    "Het ziekenhuis Isala wil de zorg voor diabetespatiënten verbeteren. Het gaat hier specifiek om het behandelproces door onnauwkeurigheden in metingen te filteren en hierop te baseren of een behandelplan aangepast moet worden of niet. Visualisaties zullen helpen bij het verkrijgen van inzicht van diverse meetmethoden om vervolgens conclusies te kunnen trekken. Die zijn er nog niet. deze onnauwkeurigheden voor aangegeven als CV. De CV is de variatiecoëfficiënt. Dit is een maat voor de relatieve variabiliteit. Het is de verhouding tussen de standaardafwijking en het gemiddelde (gemiddelde genomen van de spreiding van meetpunten). Hoe kleiner de variatiecoëfficiënt is, hoe minder de gegevens verspreid zijn vanuit het gemiddelde.\n",
    "\n",
    "Variatiecoëfficiënt = (Standaardafwijking/ Gemiddelde) * 100.\n",
    "\n",
    " \n",
    "# Data understanding\n",
    "Welke databronnen zijn gegeven en in welk formaat: Een excel bestand genaamd: Complete-dataset-FINAL.xlsx\n",
    "\n",
    "note\n",
    "Het excel bestand dat gebruikt gaat worden, is het resultaat van rapporten die om zijn gezet naar excel. Dit is de meest recente versie waarin de meetmethoden zijn genormaliseerd en de waarden dubbelgecheckt zijn.\n",
    "\n",
    "Hoe groot zijn deze databronnen: 355 kB\n",
    "\n",
    "-4685 rijen\n",
    "\n",
    "-12 kolommen\n",
    "\n",
    "Kolomnamen: Method name, N (no. labs), Mean, Bias, CV, Sample, Reference value, Year, Source, Type, Manufacturer (fabrikant).\n",
    "\n",
    "# Data preparation\n",
    "De dataset wordt aangepast, zodat het bruikbaar is om de bapaalde visualisaties te ontwikkelen, onze product owner wilde distinctie tussen de 2 verschillende surveys (CAP & eura1c)"
   ]
  },
  {
   "cell_type": "code",
   "execution_count": 2,
   "id": "488c3fbf",
   "metadata": {},
   "outputs": [],
   "source": [
    "# De dataset die we gaan gebruiken\n",
    "df = pd.read_excel('Complete-dataset-final.xlsx')\n",
    "# Data gebruikt voor de gecombineerde CV grafiek van de eura1c en CAP samengevoegd\n",
    "df_fout = df.groupby(['Method name','Year']).mean().reset_index().set_index('Method name')\n",
    "# Alleen CAP data\n",
    "df_cap_prep = df.loc[df['Source (CAP/EurA1c)'] == 'CAP']\n",
    "# Gemiddelde waardes CV pakken per jaar\n",
    "df_cap_all = df_cap_prep.groupby(['Year']).mean().reset_index()\n",
    "# Overige kolommen droppen\n",
    "df_cap_all  = df_cap_all.drop(columns = ['Bias','Reference Value','Total Error','Mean'])\n",
    "# Gemiddelde waardes CV pakken\n",
    "df_cap = df_cap_prep.groupby(['Method name','Year']).mean().reset_index().set_index('Method name')\n",
    "df_cap = df_cap.drop(columns = ['Bias','Reference Value','Total Error','Mean'])\n",
    "# Alleen eura1c data\n",
    "df_eura1c_prep = df.loc[df['Source (CAP/EurA1c)'] == 'EURA1c']\n",
    "df_eura1c_all  = df_eura1c_prep.groupby(['Year']).mean().reset_index()\n",
    "df_eura1c_all = df_eura1c_all.drop(columns = ['Bias','Reference Value','Total Error','Mean'])\n",
    "df_eura1c = df_eura1c_prep.groupby(['Method name','Year']).mean().reset_index().set_index('Method name')\n",
    "df_eura1c = df_eura1c.drop(columns = ['Bias','Reference Value','Total Error','Mean'])"
   ]
  },
  {
   "cell_type": "code",
   "execution_count": 3,
   "id": "c2cc736b",
   "metadata": {},
   "outputs": [],
   "source": [
    "df_best = df.dropna().groupby('Manufacturer')\n",
    "test = df_best.size().sort_values(ascending=False)\n",
    "test = test[test > 100]\n",
    "df_manufacturer_cap = df[df['Manufacturer'].isin(test.index)]\n",
    "df_manufacturer_cap = df_manufacturer_cap[df_manufacturer_cap['Source (CAP/EurA1c)'] == 'CAP']\n",
    "df_manufacturer_cap = df_manufacturer_cap.drop(columns=['Mean','Bias','Total Error','Reference Value','Year'])\n",
    "df_manufacturer_cap = df_manufacturer_cap.groupby('Manufacturer').mean()\n",
    "df_manufacturer_cap = df_manufacturer_cap.sort_values(by = 'CV').reset_index()\n",
    "\n",
    "df_manufacturer_eura1c = df[df['Manufacturer'].isin(test.index)]\n",
    "df_manufacturer_eura1c = df_manufacturer_eura1c[df_manufacturer_eura1c['Source (CAP/EurA1c)'] == 'EURA1c']\n",
    "df_manufacturer_eura1c = df_manufacturer_eura1c.drop(columns=['Mean','Bias','Total Error','Reference Value','Year'])\n",
    "df_manufacturer_eura1c = df_manufacturer_eura1c.groupby('Manufacturer').mean()\n",
    "df_manufacturer_eura1c = df_manufacturer_eura1c.sort_values(by = 'CV').reset_index()"
   ]
  },
  {
   "cell_type": "markdown",
   "id": "b25fca4b",
   "metadata": {},
   "source": [
    "# Modeling\n",
    "CAP en eura1c gemiddelde CV per jaar per methode"
   ]
  },
  {
   "cell_type": "code",
   "execution_count": 4,
   "id": "92bc9391",
   "metadata": {},
   "outputs": [],
   "source": [
    "def plotCV_fout(method):\n",
    "    df_fout.loc[[method]].iplot(\n",
    "                    xTitle='Year',\n",
    "                    x = 'Year',\n",
    "                    y = 'CV',\n",
    "                    mode='lines+markers',\n",
    "                    yTitle='CV {}'.format(method),\n",
    "                    xaxis_range=[2006,2021],\n",
    "                    title = 'Average CV per Year FOUT'\n",
    "        \n",
    "                     )"
   ]
  },
  {
   "cell_type": "code",
   "execution_count": 5,
   "id": "d034cf93",
   "metadata": {},
   "outputs": [],
   "source": [
    "def plotCV_CAP(method):\n",
    "    df_cap.loc[[method]].iplot(\n",
    "                    xTitle='Year',\n",
    "                    x = 'Year',\n",
    "                    y = 'CV',\n",
    "                    mode='lines+markers',\n",
    "                    yTitle='CV {}'.format(method),\n",
    "                    xaxis_range=[2006,2021],\n",
    "                    title = 'Average CV per Year'\n",
    "        \n",
    "                     )"
   ]
  },
  {
   "cell_type": "code",
   "execution_count": 6,
   "id": "218c63f1",
   "metadata": {},
   "outputs": [],
   "source": [
    "def plotCV_eura1c(method):\n",
    "    df_eura1c.loc[[method]].iplot(\n",
    "                    xTitle='Year',\n",
    "                    x = 'Year',\n",
    "                    y = 'CV',\n",
    "                    mode='lines+markers',\n",
    "                    yTitle='CV {}'.format(method),\n",
    "                    xaxis_range=[2016,2020],\n",
    "                    title = 'Average CV per Year'\n",
    "        \n",
    "                     )"
   ]
  },
  {
   "cell_type": "code",
   "execution_count": 7,
   "id": "d3dbb12c",
   "metadata": {},
   "outputs": [
    {
     "data": {
      "application/vnd.jupyter.widget-view+json": {
       "model_id": "37eeb46edd1c44348d6ec8de6259a01d",
       "version_major": 2,
       "version_minor": 0
      },
      "text/plain": [
       "interactive(children=(Dropdown(description='method', options=('A1cNOW', 'Abbott Alinity', 'Abbott Alinity ci s…"
      ]
     },
     "metadata": {},
     "output_type": "display_data"
    },
    {
     "data": {
      "text/plain": [
       "<function __main__.plotCV_fout(method)>"
      ]
     },
     "execution_count": 7,
     "metadata": {},
     "output_type": "execute_result"
    }
   ],
   "source": [
    "interact(plotCV_fout, method=df_fout.index.unique())"
   ]
  },
  {
   "cell_type": "code",
   "execution_count": 8,
   "id": "baa36af4",
   "metadata": {},
   "outputs": [
    {
     "data": {
      "application/vnd.jupyter.widget-view+json": {
       "model_id": "1c1c0e275e0c4bff9ba4defb721a610f",
       "version_major": 2,
       "version_minor": 0
      },
      "text/plain": [
       "interactive(children=(Dropdown(description='method', options=('A1cNOW', 'Abbott Alinity ci series', 'Abbott Ar…"
      ]
     },
     "metadata": {},
     "output_type": "display_data"
    },
    {
     "data": {
      "text/plain": [
       "<function __main__.plotCV_CAP(method)>"
      ]
     },
     "execution_count": 8,
     "metadata": {},
     "output_type": "execute_result"
    }
   ],
   "source": [
    "interact(plotCV_CAP, method=df_cap.index.unique())"
   ]
  },
  {
   "cell_type": "code",
   "execution_count": 9,
   "id": "a90d0db5",
   "metadata": {
    "scrolled": false
   },
   "outputs": [
    {
     "data": {
      "application/vnd.jupyter.widget-view+json": {
       "model_id": "666cb15b07594078bd96a3b51d0352d1",
       "version_major": 2,
       "version_minor": 0
      },
      "text/plain": [
       "interactive(children=(Dropdown(description='method', options=('Abbott Alinity', 'Abbott Architect', 'Abbott Ar…"
      ]
     },
     "metadata": {},
     "output_type": "display_data"
    },
    {
     "data": {
      "text/plain": [
       "<function __main__.plotCV_eura1c(method)>"
      ]
     },
     "execution_count": 9,
     "metadata": {},
     "output_type": "execute_result"
    }
   ],
   "source": [
    "interact(plotCV_eura1c, method=df_eura1c.index.unique())"
   ]
  },
  {
   "cell_type": "code",
   "execution_count": 10,
   "id": "76bfdf8e",
   "metadata": {},
   "outputs": [
    {
     "data": {
      "text/plain": [
       "Text(0.5, 1.0, 'gemiddelde CV waardes cap')"
      ]
     },
     "execution_count": 10,
     "metadata": {},
     "output_type": "execute_result"
    },
    {
     "data": {
      "image/png": "[encoded data removed]",
      "text/plain": [
       "<Figure size 432x288 with 1 Axes>"
      ]
     },
     "metadata": {
      "needs_background": "light"
     },
     "output_type": "display_data"
    }
   ],
   "source": [
    "sns.regplot(data=df_cap_all, x = 'Year', y = 'CV').set_title('gemiddelde CV waardes cap')"
   ]
  },
  {
   "cell_type": "code",
   "execution_count": 11,
   "id": "edcde9b0",
   "metadata": {},
   "outputs": [
    {
     "data": {
      "text/html": [
       "<table class=\"simpletable\">\n",
       "<caption>OLS Regression Results</caption>\n",
       "<tr>\n",
       "  <th>Dep. Variable:</th>           <td>CV</td>        <th>  R-squared (uncentered):</th>      <td>   0.888</td> \n",
       "</tr>\n",
       "<tr>\n",
       "  <th>Model:</th>                   <td>OLS</td>       <th>  Adj. R-squared (uncentered):</th> <td>   0.887</td> \n",
       "</tr>\n",
       "<tr>\n",
       "  <th>Method:</th>             <td>Least Squares</td>  <th>  F-statistic:       </th>          <td>   3321.</td> \n",
       "</tr>\n",
       "<tr>\n",
       "  <th>Date:</th>             <td>Wed, 01 Jun 2022</td> <th>  Prob (F-statistic):</th>          <td>1.52e-201</td>\n",
       "</tr>\n",
       "<tr>\n",
       "  <th>Time:</th>                 <td>09:48:37</td>     <th>  Log-Likelihood:    </th>          <td> -605.00</td> \n",
       "</tr>\n",
       "<tr>\n",
       "  <th>No. Observations:</th>      <td>   421</td>      <th>  AIC:               </th>          <td>   1212.</td> \n",
       "</tr>\n",
       "<tr>\n",
       "  <th>Df Residuals:</th>          <td>   420</td>      <th>  BIC:               </th>          <td>   1216.</td> \n",
       "</tr>\n",
       "<tr>\n",
       "  <th>Df Model:</th>              <td>     1</td>      <th>                     </th>              <td> </td>    \n",
       "</tr>\n",
       "<tr>\n",
       "  <th>Covariance Type:</th>      <td>nonrobust</td>    <th>                     </th>              <td> </td>    \n",
       "</tr>\n",
       "</table>\n",
       "<table class=\"simpletable\">\n",
       "<tr>\n",
       "    <td></td>      <th>coef</th>     <th>std err</th>      <th>t</th>      <th>P>|t|</th>  <th>[0.025</th>    <th>0.975]</th>  \n",
       "</tr>\n",
       "<tr>\n",
       "  <th>Year</th> <td>    0.0014</td> <td> 2.47e-05</td> <td>   57.624</td> <td> 0.000</td> <td>    0.001</td> <td>    0.001</td>\n",
       "</tr>\n",
       "</table>\n",
       "<table class=\"simpletable\">\n",
       "<tr>\n",
       "  <th>Omnibus:</th>       <td>74.414</td> <th>  Durbin-Watson:     </th> <td>   0.705</td>\n",
       "</tr>\n",
       "<tr>\n",
       "  <th>Prob(Omnibus):</th> <td> 0.000</td> <th>  Jarque-Bera (JB):  </th> <td> 124.410</td>\n",
       "</tr>\n",
       "<tr>\n",
       "  <th>Skew:</th>          <td> 1.049</td> <th>  Prob(JB):          </th> <td>9.65e-28</td>\n",
       "</tr>\n",
       "<tr>\n",
       "  <th>Kurtosis:</th>      <td> 4.639</td> <th>  Cond. No.          </th> <td>    1.00</td>\n",
       "</tr>\n",
       "</table><br/><br/>Notes:<br/>[1] R² is computed without centering (uncentered) since the model does not contain a constant.<br/>[2] Standard Errors assume that the covariance matrix of the errors is correctly specified."
      ],
      "text/plain": [
       "<class 'statsmodels.iolib.summary.Summary'>\n",
       "\"\"\"\n",
       "                                 OLS Regression Results                                \n",
       "=======================================================================================\n",
       "Dep. Variable:                     CV   R-squared (uncentered):                   0.888\n",
       "Model:                            OLS   Adj. R-squared (uncentered):              0.887\n",
       "Method:                 Least Squares   F-statistic:                              3321.\n",
       "Date:                Wed, 01 Jun 2022   Prob (F-statistic):                   1.52e-201\n",
       "Time:                        09:48:37   Log-Likelihood:                         -605.00\n",
       "No. Observations:                 421   AIC:                                      1212.\n",
       "Df Residuals:                     420   BIC:                                      1216.\n",
       "Df Model:                           1                                                  \n",
       "Covariance Type:            nonrobust                                                  \n",
       "==============================================================================\n",
       "                 coef    std err          t      P>|t|      [0.025      0.975]\n",
       "------------------------------------------------------------------------------\n",
       "Year           0.0014   2.47e-05     57.624      0.000       0.001       0.001\n",
       "==============================================================================\n",
       "Omnibus:                       74.414   Durbin-Watson:                   0.705\n",
       "Prob(Omnibus):                  0.000   Jarque-Bera (JB):              124.410\n",
       "Skew:                           1.049   Prob(JB):                     9.65e-28\n",
       "Kurtosis:                       4.639   Cond. No.                         1.00\n",
       "==============================================================================\n",
       "\n",
       "Notes:\n",
       "[1] R² is computed without centering (uncentered) since the model does not contain a constant.\n",
       "[2] Standard Errors assume that the covariance matrix of the errors is correctly specified.\n",
       "\"\"\""
      ]
     },
     "execution_count": 11,
     "metadata": {},
     "output_type": "execute_result"
    },
    {
     "data": {
      "image/png": "[encoded data removed]",
      "text/plain": [
       "<Figure size 432x288 with 1 Axes>"
      ]
     },
     "metadata": {
      "needs_background": "light"
     },
     "output_type": "display_data"
    }
   ],
   "source": [
    "schaar = df_cap[df_cap[\"Year\"] >= 2008]\n",
    "X = schaar['Year']\n",
    "y = schaar[\"CV\"]\n",
    "\n",
    "# Fit and make the predictions by the model\n",
    "model = sm.OLS(y, X).fit()\n",
    "predictions = model.predict(X)\n",
    "preddf = pd.DataFrame(predictions, columns=['CV'])\n",
    "preddf['Year'] = \"2022\"\n",
    "# preddf = preddf.groupby('Year').mean().reset_index()\n",
    "test = pd.concat([df_cap,preddf])\n",
    "test['Year'] = test['Year'].astype(str).astype(int)\n",
    "test = test.reset_index(drop=True)\n",
    "sns.lineplot(x = 'Year', y = 'CV', data = test)\n",
    "sns.lineplot(x = 'Year', y = 'CV', data = test[(test['Year'] >= 2021) & (test['Year'] <= 2022)], color= 'red')\n",
    "model.summary()"
   ]
  },
  {
   "cell_type": "code",
   "execution_count": 12,
   "id": "6ca9bd14",
   "metadata": {},
   "outputs": [
    {
     "data": {
      "text/html": [
       "<table class=\"simpletable\">\n",
       "<caption>OLS Regression Results</caption>\n",
       "<tr>\n",
       "  <th>Dep. Variable:</th>           <td>CV</td>        <th>  R-squared (uncentered):</th>      <td>   0.926</td>\n",
       "</tr>\n",
       "<tr>\n",
       "  <th>Model:</th>                   <td>OLS</td>       <th>  Adj. R-squared (uncentered):</th> <td>   0.926</td>\n",
       "</tr>\n",
       "<tr>\n",
       "  <th>Method:</th>             <td>Least Squares</td>  <th>  F-statistic:       </th>          <td>   1505.</td>\n",
       "</tr>\n",
       "<tr>\n",
       "  <th>Date:</th>             <td>Wed, 01 Jun 2022</td> <th>  Prob (F-statistic):</th>          <td>9.47e-70</td>\n",
       "</tr>\n",
       "<tr>\n",
       "  <th>Time:</th>                 <td>09:48:38</td>     <th>  Log-Likelihood:    </th>          <td> -114.65</td>\n",
       "</tr>\n",
       "<tr>\n",
       "  <th>No. Observations:</th>      <td>   121</td>      <th>  AIC:               </th>          <td>   231.3</td>\n",
       "</tr>\n",
       "<tr>\n",
       "  <th>Df Residuals:</th>          <td>   120</td>      <th>  BIC:               </th>          <td>   234.1</td>\n",
       "</tr>\n",
       "<tr>\n",
       "  <th>Df Model:</th>              <td>     1</td>      <th>                     </th>              <td> </td>   \n",
       "</tr>\n",
       "<tr>\n",
       "  <th>Covariance Type:</th>      <td>nonrobust</td>    <th>                     </th>              <td> </td>   \n",
       "</tr>\n",
       "</table>\n",
       "<table class=\"simpletable\">\n",
       "<tr>\n",
       "    <td></td>      <th>coef</th>     <th>std err</th>      <th>t</th>      <th>P>|t|</th>  <th>[0.025</th>    <th>0.975]</th>  \n",
       "</tr>\n",
       "<tr>\n",
       "  <th>Year</th> <td>    0.0011</td> <td> 2.82e-05</td> <td>   38.795</td> <td> 0.000</td> <td>    0.001</td> <td>    0.001</td>\n",
       "</tr>\n",
       "</table>\n",
       "<table class=\"simpletable\">\n",
       "<tr>\n",
       "  <th>Omnibus:</th>       <td> 3.868</td> <th>  Durbin-Watson:     </th> <td>   0.646</td>\n",
       "</tr>\n",
       "<tr>\n",
       "  <th>Prob(Omnibus):</th> <td> 0.145</td> <th>  Jarque-Bera (JB):  </th> <td>   3.902</td>\n",
       "</tr>\n",
       "<tr>\n",
       "  <th>Skew:</th>          <td> 0.424</td> <th>  Prob(JB):          </th> <td>   0.142</td>\n",
       "</tr>\n",
       "<tr>\n",
       "  <th>Kurtosis:</th>      <td> 2.767</td> <th>  Cond. No.          </th> <td>    1.00</td>\n",
       "</tr>\n",
       "</table><br/><br/>Notes:<br/>[1] R² is computed without centering (uncentered) since the model does not contain a constant.<br/>[2] Standard Errors assume that the covariance matrix of the errors is correctly specified."
      ],
      "text/plain": [
       "<class 'statsmodels.iolib.summary.Summary'>\n",
       "\"\"\"\n",
       "                                 OLS Regression Results                                \n",
       "=======================================================================================\n",
       "Dep. Variable:                     CV   R-squared (uncentered):                   0.926\n",
       "Model:                            OLS   Adj. R-squared (uncentered):              0.926\n",
       "Method:                 Least Squares   F-statistic:                              1505.\n",
       "Date:                Wed, 01 Jun 2022   Prob (F-statistic):                    9.47e-70\n",
       "Time:                        09:48:38   Log-Likelihood:                         -114.65\n",
       "No. Observations:                 121   AIC:                                      231.3\n",
       "Df Residuals:                     120   BIC:                                      234.1\n",
       "Df Model:                           1                                                  \n",
       "Covariance Type:            nonrobust                                                  \n",
       "==============================================================================\n",
       "                 coef    std err          t      P>|t|      [0.025      0.975]\n",
       "------------------------------------------------------------------------------\n",
       "Year           0.0011   2.82e-05     38.795      0.000       0.001       0.001\n",
       "==============================================================================\n",
       "Omnibus:                        3.868   Durbin-Watson:                   0.646\n",
       "Prob(Omnibus):                  0.145   Jarque-Bera (JB):                3.902\n",
       "Skew:                           0.424   Prob(JB):                        0.142\n",
       "Kurtosis:                       2.767   Cond. No.                         1.00\n",
       "==============================================================================\n",
       "\n",
       "Notes:\n",
       "[1] R² is computed without centering (uncentered) since the model does not contain a constant.\n",
       "[2] Standard Errors assume that the covariance matrix of the errors is correctly specified.\n",
       "\"\"\""
      ]
     },
     "execution_count": 12,
     "metadata": {},
     "output_type": "execute_result"
    },
    {
     "data": {
      "image/png": "[encoded data removed]",
      "text/plain": [
       "<Figure size 432x288 with 1 Axes>"
      ]
     },
     "metadata": {
      "needs_background": "light"
     },
     "output_type": "display_data"
    }
   ],
   "source": [
    "schaar = df_cap[df_cap[\"Year\"] >= 2018]\n",
    "X = schaar['Year']\n",
    "y = schaar[\"CV\"]\n",
    "\n",
    "# Fit and make the predictions by the model\n",
    "model = sm.OLS(y, X).fit()\n",
    "predictions = model.predict(X)\n",
    "preddf = pd.DataFrame(predictions, columns=['CV'])\n",
    "preddf['Year'] = \"2022\"\n",
    "# preddf = preddf.groupby('Year').mean().reset_index()\n",
    "test = pd.concat([df_cap,preddf])\n",
    "test['Year'] = test['Year'].astype(str).astype(int)\n",
    "test = test.reset_index(drop=True)\n",
    "sns.lineplot(x = 'Year', y = 'CV', data = test)\n",
    "sns.lineplot(x = 'Year', y = 'CV', data = test[(test['Year'] >= 2021) & (test['Year'] <= 2022)], color= 'red')\n",
    "model.summary()"
   ]
  },
  {
   "cell_type": "code",
   "execution_count": 13,
   "id": "914f4dbb",
   "metadata": {},
   "outputs": [
    {
     "data": {
      "text/plain": [
       "Text(0.5, 1.0, 'gemiddelde CV waardes cap')"
      ]
     },
     "execution_count": 13,
     "metadata": {},
     "output_type": "execute_result"
    },
    {
     "data": {
      "image/png": "[encoded data removed]",
      "text/plain": [
       "<Figure size 432x288 with 1 Axes>"
      ]
     },
     "metadata": {
      "needs_background": "light"
     },
     "output_type": "display_data"
    }
   ],
   "source": [
    "sns.regplot(data=df_eura1c_all, x = 'Year', y = 'CV').set_title('gemiddelde CV waardes cap')"
   ]
  },
  {
   "cell_type": "code",
   "execution_count": 14,
   "id": "eec60a92",
   "metadata": {},
   "outputs": [
    {
     "data": {
      "text/html": [
       "<table class=\"simpletable\">\n",
       "<caption>OLS Regression Results</caption>\n",
       "<tr>\n",
       "  <th>Dep. Variable:</th>           <td>CV</td>        <th>  R-squared (uncentered):</th>      <td>   0.866</td>\n",
       "</tr>\n",
       "<tr>\n",
       "  <th>Model:</th>                   <td>OLS</td>       <th>  Adj. R-squared (uncentered):</th> <td>   0.865</td>\n",
       "</tr>\n",
       "<tr>\n",
       "  <th>Method:</th>             <td>Least Squares</td>  <th>  F-statistic:       </th>          <td>   711.3</td>\n",
       "</tr>\n",
       "<tr>\n",
       "  <th>Date:</th>             <td>Wed, 01 Jun 2022</td> <th>  Prob (F-statistic):</th>          <td>7.77e-50</td>\n",
       "</tr>\n",
       "<tr>\n",
       "  <th>Time:</th>                 <td>09:48:39</td>     <th>  Log-Likelihood:    </th>          <td> -234.08</td>\n",
       "</tr>\n",
       "<tr>\n",
       "  <th>No. Observations:</th>      <td>   111</td>      <th>  AIC:               </th>          <td>   470.2</td>\n",
       "</tr>\n",
       "<tr>\n",
       "  <th>Df Residuals:</th>          <td>   110</td>      <th>  BIC:               </th>          <td>   472.9</td>\n",
       "</tr>\n",
       "<tr>\n",
       "  <th>Df Model:</th>              <td>     1</td>      <th>                     </th>              <td> </td>   \n",
       "</tr>\n",
       "<tr>\n",
       "  <th>Covariance Type:</th>      <td>nonrobust</td>    <th>                     </th>              <td> </td>   \n",
       "</tr>\n",
       "</table>\n",
       "<table class=\"simpletable\">\n",
       "<tr>\n",
       "    <td></td>      <th>coef</th>     <th>std err</th>      <th>t</th>      <th>P>|t|</th>  <th>[0.025</th>    <th>0.975]</th>  \n",
       "</tr>\n",
       "<tr>\n",
       "  <th>Year</th> <td>    0.0025</td> <td> 9.41e-05</td> <td>   26.670</td> <td> 0.000</td> <td>    0.002</td> <td>    0.003</td>\n",
       "</tr>\n",
       "</table>\n",
       "<table class=\"simpletable\">\n",
       "<tr>\n",
       "  <th>Omnibus:</th>       <td>34.586</td> <th>  Durbin-Watson:     </th> <td>   1.216</td>\n",
       "</tr>\n",
       "<tr>\n",
       "  <th>Prob(Omnibus):</th> <td> 0.000</td> <th>  Jarque-Bera (JB):  </th> <td>  59.321</td>\n",
       "</tr>\n",
       "<tr>\n",
       "  <th>Skew:</th>          <td> 1.383</td> <th>  Prob(JB):          </th> <td>1.31e-13</td>\n",
       "</tr>\n",
       "<tr>\n",
       "  <th>Kurtosis:</th>      <td> 5.274</td> <th>  Cond. No.          </th> <td>    1.00</td>\n",
       "</tr>\n",
       "</table><br/><br/>Notes:<br/>[1] R² is computed without centering (uncentered) since the model does not contain a constant.<br/>[2] Standard Errors assume that the covariance matrix of the errors is correctly specified."
      ],
      "text/plain": [
       "<class 'statsmodels.iolib.summary.Summary'>\n",
       "\"\"\"\n",
       "                                 OLS Regression Results                                \n",
       "=======================================================================================\n",
       "Dep. Variable:                     CV   R-squared (uncentered):                   0.866\n",
       "Model:                            OLS   Adj. R-squared (uncentered):              0.865\n",
       "Method:                 Least Squares   F-statistic:                              711.3\n",
       "Date:                Wed, 01 Jun 2022   Prob (F-statistic):                    7.77e-50\n",
       "Time:                        09:48:39   Log-Likelihood:                         -234.08\n",
       "No. Observations:                 111   AIC:                                      470.2\n",
       "Df Residuals:                     110   BIC:                                      472.9\n",
       "Df Model:                           1                                                  \n",
       "Covariance Type:            nonrobust                                                  \n",
       "==============================================================================\n",
       "                 coef    std err          t      P>|t|      [0.025      0.975]\n",
       "------------------------------------------------------------------------------\n",
       "Year           0.0025   9.41e-05     26.670      0.000       0.002       0.003\n",
       "==============================================================================\n",
       "Omnibus:                       34.586   Durbin-Watson:                   1.216\n",
       "Prob(Omnibus):                  0.000   Jarque-Bera (JB):               59.321\n",
       "Skew:                           1.383   Prob(JB):                     1.31e-13\n",
       "Kurtosis:                       5.274   Cond. No.                         1.00\n",
       "==============================================================================\n",
       "\n",
       "Notes:\n",
       "[1] R² is computed without centering (uncentered) since the model does not contain a constant.\n",
       "[2] Standard Errors assume that the covariance matrix of the errors is correctly specified.\n",
       "\"\"\""
      ]
     },
     "execution_count": 14,
     "metadata": {},
     "output_type": "execute_result"
    },
    {
     "data": {
      "image/png": "[encoded data removed]",
      "text/plain": [
       "<Figure size 432x288 with 1 Axes>"
      ]
     },
     "metadata": {
      "needs_background": "light"
     },
     "output_type": "display_data"
    }
   ],
   "source": [
    "schaar = df_eura1c[df_eura1c[\"Year\"] >= 2018]\n",
    "X = schaar['Year']\n",
    "y = schaar[\"CV\"]\n",
    "\n",
    "# Fit and make the predictions by the model\n",
    "model = sm.OLS(y, X).fit()\n",
    "predictions = model.predict(X)\n",
    "preddf = pd.DataFrame(predictions, columns=['CV'])\n",
    "preddf['Year'] = \"2021\"\n",
    "# preddf = preddf.groupby('Year').mean().reset_index()\n",
    "test = pd.concat([df_eura1c,preddf])\n",
    "test['Year'] = test['Year'].astype(str).astype(int)\n",
    "test = test.reset_index(drop=True)\n",
    "sns.lineplot(x = 'Year', y = 'CV', data = test)\n",
    "sns.lineplot(x = 'Year', y = 'CV', data = test[(test['Year'] >= 2020) & (test['Year'] <= 2021)], color= 'red')\n",
    "model.summary()"
   ]
  },
  {
   "cell_type": "code",
   "execution_count": 15,
   "id": "8d36ca33",
   "metadata": {},
   "outputs": [
    {
     "data": {
      "text/html": [
       "<table class=\"simpletable\">\n",
       "<caption>OLS Regression Results</caption>\n",
       "<tr>\n",
       "  <th>Dep. Variable:</th>           <td>CV</td>        <th>  R-squared (uncentered):</th>      <td>   0.850</td>\n",
       "</tr>\n",
       "<tr>\n",
       "  <th>Model:</th>                   <td>OLS</td>       <th>  Adj. R-squared (uncentered):</th> <td>   0.849</td>\n",
       "</tr>\n",
       "<tr>\n",
       "  <th>Method:</th>             <td>Least Squares</td>  <th>  F-statistic:       </th>          <td>   896.8</td>\n",
       "</tr>\n",
       "<tr>\n",
       "  <th>Date:</th>             <td>Wed, 01 Jun 2022</td> <th>  Prob (F-statistic):</th>          <td>5.01e-67</td>\n",
       "</tr>\n",
       "<tr>\n",
       "  <th>Time:</th>                 <td>09:48:40</td>     <th>  Log-Likelihood:    </th>          <td> -338.92</td>\n",
       "</tr>\n",
       "<tr>\n",
       "  <th>No. Observations:</th>      <td>   159</td>      <th>  AIC:               </th>          <td>   679.8</td>\n",
       "</tr>\n",
       "<tr>\n",
       "  <th>Df Residuals:</th>          <td>   158</td>      <th>  BIC:               </th>          <td>   682.9</td>\n",
       "</tr>\n",
       "<tr>\n",
       "  <th>Df Model:</th>              <td>     1</td>      <th>                     </th>              <td> </td>   \n",
       "</tr>\n",
       "<tr>\n",
       "  <th>Covariance Type:</th>      <td>nonrobust</td>    <th>                     </th>              <td> </td>   \n",
       "</tr>\n",
       "</table>\n",
       "<table class=\"simpletable\">\n",
       "<tr>\n",
       "    <td></td>      <th>coef</th>     <th>std err</th>      <th>t</th>      <th>P>|t|</th>  <th>[0.025</th>    <th>0.975]</th>  \n",
       "</tr>\n",
       "<tr>\n",
       "  <th>Year</th> <td>    0.0024</td> <td> 8.04e-05</td> <td>   29.947</td> <td> 0.000</td> <td>    0.002</td> <td>    0.003</td>\n",
       "</tr>\n",
       "</table>\n",
       "<table class=\"simpletable\">\n",
       "<tr>\n",
       "  <th>Omnibus:</th>       <td>67.241</td> <th>  Durbin-Watson:     </th> <td>   1.034</td>\n",
       "</tr>\n",
       "<tr>\n",
       "  <th>Prob(Omnibus):</th> <td> 0.000</td> <th>  Jarque-Bera (JB):  </th> <td> 200.616</td>\n",
       "</tr>\n",
       "<tr>\n",
       "  <th>Skew:</th>          <td> 1.717</td> <th>  Prob(JB):          </th> <td>2.73e-44</td>\n",
       "</tr>\n",
       "<tr>\n",
       "  <th>Kurtosis:</th>      <td> 7.300</td> <th>  Cond. No.          </th> <td>    1.00</td>\n",
       "</tr>\n",
       "</table><br/><br/>Notes:<br/>[1] R² is computed without centering (uncentered) since the model does not contain a constant.<br/>[2] Standard Errors assume that the covariance matrix of the errors is correctly specified."
      ],
      "text/plain": [
       "<class 'statsmodels.iolib.summary.Summary'>\n",
       "\"\"\"\n",
       "                                 OLS Regression Results                                \n",
       "=======================================================================================\n",
       "Dep. Variable:                     CV   R-squared (uncentered):                   0.850\n",
       "Model:                            OLS   Adj. R-squared (uncentered):              0.849\n",
       "Method:                 Least Squares   F-statistic:                              896.8\n",
       "Date:                Wed, 01 Jun 2022   Prob (F-statistic):                    5.01e-67\n",
       "Time:                        09:48:40   Log-Likelihood:                         -338.92\n",
       "No. Observations:                 159   AIC:                                      679.8\n",
       "Df Residuals:                     158   BIC:                                      682.9\n",
       "Df Model:                           1                                                  \n",
       "Covariance Type:            nonrobust                                                  \n",
       "==============================================================================\n",
       "                 coef    std err          t      P>|t|      [0.025      0.975]\n",
       "------------------------------------------------------------------------------\n",
       "Year           0.0024   8.04e-05     29.947      0.000       0.002       0.003\n",
       "==============================================================================\n",
       "Omnibus:                       67.241   Durbin-Watson:                   1.034\n",
       "Prob(Omnibus):                  0.000   Jarque-Bera (JB):              200.616\n",
       "Skew:                           1.717   Prob(JB):                     2.73e-44\n",
       "Kurtosis:                       7.300   Cond. No.                         1.00\n",
       "==============================================================================\n",
       "\n",
       "Notes:\n",
       "[1] R² is computed without centering (uncentered) since the model does not contain a constant.\n",
       "[2] Standard Errors assume that the covariance matrix of the errors is correctly specified.\n",
       "\"\"\""
      ]
     },
     "execution_count": 15,
     "metadata": {},
     "output_type": "execute_result"
    },
    {
     "data": {
      "image/png": "[encoded data removed]",
      "text/plain": [
       "<Figure size 432x288 with 1 Axes>"
      ]
     },
     "metadata": {
      "needs_background": "light"
     },
     "output_type": "display_data"
    }
   ],
   "source": [
    "schaar = df_eura1c[df_eura1c[\"Year\"] >= 2016]\n",
    "X = schaar['Year']\n",
    "y = schaar[\"CV\"]\n",
    "\n",
    "# Fit and make the predictions by the model\n",
    "model = sm.OLS(y, X).fit()\n",
    "predictions = model.predict(X)\n",
    "preddf = pd.DataFrame(predictions, columns=['CV'])\n",
    "preddf['Year'] = \"2021\"\n",
    "# preddf = preddf.groupby('Year').mean().reset_index()\n",
    "test = pd.concat([df_eura1c,preddf])\n",
    "test['Year'] = test['Year'].astype(str).astype(int)\n",
    "test = test.reset_index(drop=True)\n",
    "sns.lineplot(x = 'Year', y = 'CV', data = test)\n",
    "sns.lineplot(x = 'Year', y = 'CV', data = test[(test['Year'] >= 2020) & (test['Year'] <= 2021)], color= 'red')\n",
    "model.summary()"
   ]
  },
  {
   "cell_type": "code",
   "execution_count": 16,
   "id": "30a68092",
   "metadata": {},
   "outputs": [
    {
     "data": {
      "image/png": "[encoded data removed]",
      "text/plain": [
       "<Figure size 432x288 with 1 Axes>"
      ]
     },
     "metadata": {
      "needs_background": "light"
     },
     "output_type": "display_data"
    }
   ],
   "source": [
    "sns.barplot(data = df_manufacturer_cap, x = 'Manufacturer', y = 'CV')\n",
    "plt.xticks(rotation=90)\n",
    "plt.tight_layout()"
   ]
  },
  {
   "cell_type": "code",
   "execution_count": 17,
   "id": "d1e56ffa",
   "metadata": {},
   "outputs": [
    {
     "data": {
      "image/png": "[encoded data removed]",
      "text/plain": [
       "<Figure size 432x288 with 1 Axes>"
      ]
     },
     "metadata": {
      "needs_background": "light"
     },
     "output_type": "display_data"
    }
   ],
   "source": [
    "sns.barplot(data = df_manufacturer_eura1c, x = 'Manufacturer', y = 'CV')\n",
    "plt.xticks(rotation=90)\n",
    "plt.tight_layout()"
   ]
  },
  {
   "cell_type": "markdown",
   "id": "75e57606",
   "metadata": {},
   "source": [
    "# Evaluation\n",
    "Onze product owner vond het belangrijk om inzicht te krijgen in hoe de methodes het over de jaren heen het deden met de cv waardes, onze data bestond uit twee verschillende surveys, de Amerikaanse(CAP) en de europeaanse(eura1c), om de cv waardes te visualiseren hadden we dan ook de cv waardes per methode per jaar het gemiddelde gepakt en dat gevisualiseerd. Na een stakeholder meeting waar we dit product opleverde kwamen we erachter dat de cv waardes van de CAP en eura1c beide anders worden berekend en opgesteld. Hierdoor waren we genoodzaakt om 2 grafieken te ontwikkelen, één van de CAP data en één van de eura1c data. Gelukkig hadden we onze dataset zo opgesteld dat in onze complete dataset een variabel was waar we hadden aangegeven of de data van de CAP of de eura1c survey was."
   ]
  },
  {
   "cell_type": "markdown",
   "id": "d11ec3a7",
   "metadata": {},
   "source": [
    "Mijn eerste bevinding bij allebei de grafieken die ik kan maken is dat er veel data punten missen. Hierdoor is het lastig om nou een heel erg duidelijk beeld te krijgen hoe de methodes het nou over de jaren heen doen (sommige methodes hebben maar 1 jaar aan data en andere wel over meerdere jaren). Bijvoorbeeld bij de CAP data is de Tosoh G7 Auto HPLC goed gedocumenteerd over de jaren heen en kan je zien of de methode zich verbeterd of alleen maar slechter word. Hier kan je zien dat de CV waarde in 2017 opeens een stuk lager en dus beter werd maar in 2018 de waarde snel weer naar boven schoot weer bijna terug naar ongeveer dezelfde waardes als jaren ervoor. Dit soort schommelingen komen vaker voor in de dataset, daarom is het ook interessant om hier verder naar te kijken"
   ]
  },
  {
   "cell_type": "markdown",
   "id": "5b383764",
   "metadata": {},
   "source": [
    "Mijn tweede bevinding is dat er bij de cap en eura1c data verschillende manufacturers het beste zijn bij hun data, maar toch ook weer veel hetzelfde. De nummers 1-5 en 6-10 zijn namelijk allemaal dezelfde manufacturers maar net op een andere positie. Dit laat toch zien dat er wel duidelijk verschil zit tussen de manufacturers."
   ]
  },
  {
   "cell_type": "markdown",
   "id": "8063aab2",
   "metadata": {},
   "source": [
    "Daarom hebben we een nieuwe grafiek gerealiseerd om de gemiddelde CV waardes van alle methoden over alle jaren heen te laten zien en zie je dat over de jaren heen er een trend naar beneden is bij de cap data en bij de eura1c er juist een trend naar boven is bij de laatste paar jare. De grote schommelingen per jaar komen wel echt alleen per methode voor en niet in het algemeen over de hele dataset, ik zit geen punten in de grafiek die heel erg afwijken van de regressielijn."
   ]
  },
  {
   "cell_type": "markdown",
   "id": "a92fa559",
   "metadata": {},
   "source": [
    "# Conclusie"
   ]
  },
  {
   "cell_type": "markdown",
   "id": "93e8f79f",
   "metadata": {},
   "source": [
    "Onze product owner heeft nu een duidelijk beeld van hoe de methodes het over de jaren heen ontwikkelen, ook zijn we erachter gekomen dat bij de CAP data alle methodes over de afgelopen jaren steeds beter presteren, bij de eura1c juist minder goed. Het kan daarom interessant zijn om onderzoek te doen naar waarom dit het geval is."
   ]
  },
  {
   "cell_type": "markdown",
   "id": "15d95f02",
   "metadata": {},
   "source": [
    "Ook is er voor onze product owner nu een duidelijker beeld wat betreft de onnauwkeurigheden binnen de verschillende manufacturers. Het is daarom ook interresant om onderzoek te doen naar de slechter presterende manufacturers waarom dit zo is, dit gaat helaas buiten onze scope om."
   ]
  }
 ],
 "metadata": {
  "kernelspec": {
   "display_name": "Python 3 (ipykernel)",
   "language": "python",
   "name": "python3"
  },
  "language_info": {
   "codemirror_mode": {
    "name": "ipython",
    "version": 3
   },
   "file_extension": ".py",
   "mimetype": "text/x-python",
   "name": "python",
   "nbconvert_exporter": "python",
   "pygments_lexer": "ipython3",
   "version": "3.9.7"
  }
 },
 "nbformat": 4,
 "nbformat_minor": 5
}
