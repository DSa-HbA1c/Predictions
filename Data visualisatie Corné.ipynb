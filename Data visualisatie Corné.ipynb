{
 "cells": [
  {
   "cell_type": "code",
   "execution_count": 1,
   "id": "ed7ed8a6",
   "metadata": {},
   "outputs": [
    {
     "data": {
      "text/html": [
       "        <script type=\"text/javascript\">\n",
       "        window.PlotlyConfig = {MathJaxConfig: 'local'};\n",
       "        if (window.MathJax && window.MathJax.Hub && window.MathJax.Hub.Config) {window.MathJax.Hub.Config({SVG: {font: \"STIX-Web\"}});}\n",
       "        if (typeof require !== 'undefined') {\n",
       "        require.undef(\"plotly\");\n",
       "        requirejs.config({\n",
       "            paths: {\n",
       "                'plotly': ['https://cdn.plot.ly/plotly-2.12.1.min']\n",
       "            }\n",
       "        });\n",
       "        require(['plotly'], function(Plotly) {\n",
       "            window._Plotly = Plotly;\n",
       "        });\n",
       "        }\n",
       "        </script>\n",
       "        "
      ]
     },
     "metadata": {},
     "output_type": "display_data"
    }
   ],
   "source": [
    "import pandas as pd\n",
    "import seaborn as sns\n",
    "import matplotlib.pyplot as plt\n",
    "from ipywidgets import interact, interactive, fixed, interact_manual\n",
    "import ipywidgets as widgets\n",
    "import plotly.express as px\n",
    "import cufflinks as cf\n",
    "import numpy as np\n",
    "import statsmodels.api as sm\n",
    "cf.go_offline()\n",
    "cf.set_config_file(offline=False, world_readable=True)"
   ]
  },
  {
   "cell_type": "markdown",
   "id": "a1415c00",
   "metadata": {},
   "source": [
    "# Business understanding\n",
    "Het ziekenhuis Isala wil de zorg voor diabetespatiënten verbeteren. Het gaat hier specifiek om het behandelproces door onnauwkeurigheden in metingen te filteren en hierop te baseren of een behandelplan aangepast moet worden of niet. Visualisaties zullen helpen bij het verkrijgen van inzicht van diverse meetmethoden om vervolgens conclusies te kunnen trekken. Die zijn er nog niet. deze onnauwkeurigheden voor aangegeven als CV. De CV is de variatiecoëfficiënt. Dit is een maat voor de relatieve variabiliteit. Het is de verhouding tussen de standaardafwijking en het gemiddelde (gemiddelde genomen van de spreiding van meetpunten). Hoe kleiner de variatiecoëfficiënt is, hoe minder de gegevens verspreid zijn vanuit het gemiddelde.\n",
    "\n",
    "Variatiecoëfficiënt = (Standaardafwijking/ Gemiddelde) * 100.\n",
    "\n",
    " \n",
    "# Data understanding\n",
    "Welke databronnen zijn gegeven en in welk formaat: Een excel bestand genaamd: Complete-dataset-FINAL.xlsx\n",
    "\n",
    "note\n",
    "Het excel bestand dat gebruikt gaat worden, is het resultaat van rapporten die om zijn gezet naar excel. Dit is de meest recente versie waarin de meetmethoden zijn genormaliseerd en de waarden dubbelgecheckt zijn.\n",
    "\n",
    "Hoe groot zijn deze databronnen: 355 kB\n",
    "\n",
    "-4685 rijen\n",
    "\n",
    "-12 kolommen\n",
    "\n",
    "Kolomnamen: Method name, N (no. labs), Mean, Bias, CV, Sample, Reference value, Year, Source, Type, Manufacturer (fabrikant).\n",
    "\n",
    "# Data preparation\n",
    "De dataset wordt aangepast, zodat het bruikbaar is om de bepaalde visualisaties te ontwikkelen, onze product owner wilde distinctie tussen de 2 verschillende surveys (CAP & eura1c)"
   ]
  },
  {
   "cell_type": "markdown",
   "id": "7ac373ec",
   "metadata": {},
   "source": [
    "De dataset die we gaan gebruiken"
   ]
  },
  {
   "cell_type": "code",
   "execution_count": 2,
   "id": "9cb0a190",
   "metadata": {},
   "outputs": [],
   "source": [
    "df = pd.read_excel('Complete-dataset-final.xlsx')\n",
    "df = df.dropna()"
   ]
  },
  {
   "cell_type": "markdown",
   "id": "dc6091b2",
   "metadata": {},
   "source": [
    "Data voor de CV grafiek van de eura1c en CAP data samengevoegd"
   ]
  },
  {
   "cell_type": "code",
   "execution_count": 3,
   "id": "25c29f3b",
   "metadata": {},
   "outputs": [],
   "source": [
    "df_fout = df.groupby(['Method name','Year']).mean().reset_index().set_index('Method name')"
   ]
  },
  {
   "cell_type": "markdown",
   "id": "1810a579",
   "metadata": {},
   "source": [
    "Alleen de CAP data, dit wordt voor meer data preparation gebruikt en de CAP predictie"
   ]
  },
  {
   "cell_type": "code",
   "execution_count": 4,
   "id": "c449bb5b",
   "metadata": {},
   "outputs": [],
   "source": [
    "df_CAP_prep = df.loc[df['Source (CAP/EurA1c)'] == 'CAP']"
   ]
  },
  {
   "cell_type": "markdown",
   "id": "54217c73",
   "metadata": {},
   "source": [
    "Alleen de eura1c data, dit wordt voor meer data preperation gebruikt en de CAP predictie"
   ]
  },
  {
   "cell_type": "code",
   "execution_count": 5,
   "id": "44668c3b",
   "metadata": {},
   "outputs": [],
   "source": [
    "df_eura1c_prep = df.loc[df['Source (CAP/EurA1c)'] == 'EURA1c']"
   ]
  },
  {
   "cell_type": "markdown",
   "id": "56281a97",
   "metadata": {},
   "source": [
    "Data voor de CV grafiek van alleen de CAP data"
   ]
  },
  {
   "cell_type": "code",
   "execution_count": 6,
   "id": "2a97bf13",
   "metadata": {},
   "outputs": [],
   "source": [
    "# Gemiddelde waardes CV pakken per methode per jaar\n",
    "df_CAP = df_CAP_prep.groupby(['Method name','Year']).mean().reset_index().set_index('Method name')\n",
    "# Overige kolommen droppen\n",
    "df_CAP = df_CAP.drop(columns = ['Bias','Reference Value','Total Error','Mean'])"
   ]
  },
  {
   "cell_type": "markdown",
   "id": "c5a6d019",
   "metadata": {},
   "source": [
    "Data voor de CV grafiek van alleen de eura1c data"
   ]
  },
  {
   "cell_type": "code",
   "execution_count": 7,
   "id": "bbeb98e9",
   "metadata": {},
   "outputs": [],
   "source": [
    "# Gemiddelde waardes CV pakken per methode per jaar\n",
    "df_eura1c = df_eura1c_prep.groupby(['Method name','Year']).mean().reset_index().set_index('Method name')\n",
    "# Overige kolommen droppen\n",
    "df_eura1c = df_eura1c.drop(columns = ['Bias','Reference Value','Total Error','Mean'])"
   ]
  },
  {
   "cell_type": "markdown",
   "id": "67736703",
   "metadata": {},
   "source": [
    "Data voor regressieplot van alle CAP data"
   ]
  },
  {
   "cell_type": "code",
   "execution_count": 8,
   "id": "488c3fbf",
   "metadata": {},
   "outputs": [],
   "source": [
    "# Gemiddelde waardes CV pakken per jaar\n",
    "df_CAP_all = df_CAP_prep.groupby(['Year']).mean().reset_index()\n",
    "# Overige kolommen droppen\n",
    "df_CAP_all  = df_CAP_all.drop(columns = ['Bias','Reference Value','Total Error','Mean'])"
   ]
  },
  {
   "cell_type": "markdown",
   "id": "0fdfcf39",
   "metadata": {},
   "source": [
    "Data voor regressieplot van alle eura1c data"
   ]
  },
  {
   "cell_type": "code",
   "execution_count": 9,
   "id": "3bcf9dfe",
   "metadata": {},
   "outputs": [],
   "source": [
    "# Gemiddelde waardes CV pakken per jaar\n",
    "df_eura1c_all  = df_eura1c_prep.groupby(['Year']).mean().reset_index()\n",
    "# Overige kolommen droppen\n",
    "df_eura1c_all = df_eura1c_all.drop(columns = ['Bias','Reference Value','Total Error','Mean'])"
   ]
  },
  {
   "cell_type": "markdown",
   "id": "b0c32da9",
   "metadata": {},
   "source": [
    "Alleen de manufacturers die meer dan 100 datapunten hebben pakken (Om ervoor te zorgen dat we geen manufacturers pakken die maar data hebben van 1 jaar)"
   ]
  },
  {
   "cell_type": "code",
   "execution_count": 10,
   "id": "7a4e048b",
   "metadata": {},
   "outputs": [],
   "source": [
    "# Groupby manufacturer\n",
    "df_best = df.groupby('Manufacturer')\n",
    "# Orderen manufacturer op aantal datapunten\n",
    "test = df_best.size().sort_values(ascending=False)\n",
    "# Alle manufacturers met meer dan 100 datapunten pakken\n",
    "test = test[test > 100]"
   ]
  },
  {
   "cell_type": "markdown",
   "id": "ca92040a",
   "metadata": {},
   "source": [
    "Data voor de barplot met beste manufacturers uit de CAP data"
   ]
  },
  {
   "cell_type": "code",
   "execution_count": 11,
   "id": "c2cc736b",
   "metadata": {},
   "outputs": [],
   "source": [
    "# Alle data pakken met de manufactuers die meer dan 100 datapunten hebben\n",
    "df_manufacturer_CAP = df[df['Manufacturer'].isin(test.index)]\n",
    "# Alleen de CAP manufacturers pakken\n",
    "df_manufacturer_CAP = df_manufacturer_CAP[df_manufacturer_CAP['Source (CAP/EurA1c)'] == 'CAP']\n",
    "# Overige kolommen droppen\n",
    "df_manufacturer_CAP = df_manufacturer_CAP.drop(columns=['Mean','Bias','Total Error','Reference Value','Year'])\n",
    "# Gemiddelde waardes CV pakken per manufacturer\n",
    "df_manufacturer_CAP = df_manufacturer_CAP.groupby('Manufacturer').mean()\n",
    "# Sorteren op CV\n",
    "df_manufacturer_CAP = df_manufacturer_CAP.sort_values(by = 'CV').reset_index()"
   ]
  },
  {
   "cell_type": "markdown",
   "id": "60846966",
   "metadata": {},
   "source": [
    "Data voor de barplot met beste manufacturers uit de eura1c data"
   ]
  },
  {
   "cell_type": "code",
   "execution_count": 12,
   "id": "c9bdda05",
   "metadata": {},
   "outputs": [],
   "source": [
    "# Alle data pakken met de manufactuers die meer dan 100 datapunten hebben\n",
    "df_manufacturer_eura1c = df[df['Manufacturer'].isin(test.index)]\n",
    "# Alleen de eura1c manufacturers pakken\n",
    "df_manufacturer_eura1c = df_manufacturer_eura1c[df_manufacturer_eura1c['Source (CAP/EurA1c)'] == 'EURA1c']\n",
    "# Overige kolommen droppen\n",
    "df_manufacturer_eura1c = df_manufacturer_eura1c.drop(columns=['Mean','Bias','Total Error','Reference Value','Year'])\n",
    "# Gemiddelde waardes CV pakken per manufacturer\n",
    "df_manufacturer_eura1c = df_manufacturer_eura1c.groupby('Manufacturer').mean()\n",
    "# Sorteren op CV\n",
    "df_manufacturer_eura1c = df_manufacturer_eura1c.sort_values(by = 'CV').reset_index()"
   ]
  },
  {
   "cell_type": "markdown",
   "id": "9e4988d1",
   "metadata": {},
   "source": [
    "Data voor de CV grafiek van Beckman coulter CAP"
   ]
  },
  {
   "cell_type": "code",
   "execution_count": 53,
   "id": "aae60764",
   "metadata": {},
   "outputs": [],
   "source": [
    "# Alleen de Beckman Coulter data pakken\n",
    "beckman_cv_CAP = df_CAP_prep[df_CAP_prep['Manufacturer'] == 'Beckman Coulter']\n",
    "# Gemiddelde waardes CV pakken per jaar\n",
    "beckman_cv_CAP = beckman_cv_CAP.groupby('Year').mean().reset_index()\n",
    "# Overige kolommen droppen\n",
    "beckman_cv_CAP = beckman_cv_CAP.drop(columns= ['Mean','Bias','Reference Value','Total Error'])"
   ]
  },
  {
   "cell_type": "markdown",
   "id": "83ca623c",
   "metadata": {},
   "source": [
    "Data voor de CV grafiek van Beckman coulter eura1c"
   ]
  },
  {
   "cell_type": "code",
   "execution_count": 54,
   "id": "979a479f",
   "metadata": {},
   "outputs": [],
   "source": [
    "# Alleen de Beckman Coulter data pakken\n",
    "beckman_cv_eura1c = df_eura1c_prep[df_eura1c_prep['Manufacturer'] == 'Beckman Coulter']\n",
    "# Gemiddelde waardes CV pakken per jaar\n",
    "beckman_cv_eura1c = beckman_cv_eura1c.groupby('Year').mean().reset_index()\n",
    "beckman_cv_CAP = beckman_cv_CAP.groupby('Year').mean().reset_index()\n",
    "# Overige kolommen droppen\n",
    "beckman_cv_eura1c = beckman_cv_eura1c.drop(columns= ['Mean','Bias','Reference Value','Total Error'])"
   ]
  },
  {
   "cell_type": "markdown",
   "id": "b25fca4b",
   "metadata": {},
   "source": [
    "# Modeling"
   ]
  },
  {
   "cell_type": "markdown",
   "id": "ac169176",
   "metadata": {},
   "source": [
    "Een functie om een lijngrafiek te plotten van de CV per methode per jaar voor de CAP en eura1c data gecombineerd "
   ]
  },
  {
   "cell_type": "code",
   "execution_count": 13,
   "id": "92bc9391",
   "metadata": {},
   "outputs": [],
   "source": [
    "def plotCV_fout(method):\n",
    "    df_fout.loc[[method]].iplot(\n",
    "                    xTitle='Year',\n",
    "                    x = 'Year',\n",
    "                    y = 'CV',\n",
    "                    mode='lines+markers',\n",
    "                    yTitle='CV {}'.format(method),\n",
    "                    xaxis_range=[2006,2021],\n",
    "                    title = 'Average CV per Year FOUT'\n",
    "        \n",
    "                     )"
   ]
  },
  {
   "cell_type": "markdown",
   "id": "3a2ac4ca",
   "metadata": {},
   "source": [
    "Een functie om een lijngrafiek te plotten van de CV per methode per jaar voor de CAP data"
   ]
  },
  {
   "cell_type": "code",
   "execution_count": 14,
   "id": "d034cf93",
   "metadata": {},
   "outputs": [],
   "source": [
    "def plotCV_CAP(method):\n",
    "    df_CAP.loc[[method]].iplot(\n",
    "                    xTitle='Year',\n",
    "                    x = 'Year',\n",
    "                    y = 'CV',\n",
    "                    mode='lines+markers',\n",
    "                    yTitle='CV {}'.format(method),\n",
    "                    xaxis_range=[2006,2021],\n",
    "                    title = 'Average CV per Year CAP'\n",
    "        \n",
    "                     )"
   ]
  },
  {
   "cell_type": "markdown",
   "id": "11df366d",
   "metadata": {},
   "source": [
    "Een functie om een lijngrafiek te plotten van de CV per methode per jaar voor de eura1c data"
   ]
  },
  {
   "cell_type": "code",
   "execution_count": 15,
   "id": "218c63f1",
   "metadata": {},
   "outputs": [],
   "source": [
    "def plotCV_eura1c(method):\n",
    "    df_eura1c.loc[[method]].iplot(\n",
    "                    xTitle='Year',\n",
    "                    x = 'Year',\n",
    "                    y = 'CV',\n",
    "                    mode='lines+markers',\n",
    "                    yTitle='CV {}'.format(method),\n",
    "                    xaxis_range=[2016,2020],\n",
    "                    title = 'Average CV per Year eura1c'\n",
    "        \n",
    "                     )"
   ]
  },
  {
   "cell_type": "markdown",
   "id": "204c858c",
   "metadata": {},
   "source": [
    "De lijngrafiek van de CV per methode per jaar voor de CAP en eura1c data gecombineerd. Met een dropdown om de bepaalde methode te selecteren"
   ]
  },
  {
   "cell_type": "code",
   "execution_count": 16,
   "id": "d3dbb12c",
   "metadata": {},
   "outputs": [
    {
     "data": {
      "application/vnd.jupyter.widget-view+json": {
       "model_id": "37e3a32be8864996bf343d28a6570610",
       "version_major": 2,
       "version_minor": 0
      },
      "text/plain": [
       "interactive(children=(Dropdown(description='method', options=('A1cNOW', 'Abbott Alinity', 'Abbott Alinity ci s…"
      ]
     },
     "metadata": {},
     "output_type": "display_data"
    },
    {
     "data": {
      "text/plain": [
       "<function __main__.plotCV_fout(method)>"
      ]
     },
     "execution_count": 16,
     "metadata": {},
     "output_type": "execute_result"
    }
   ],
   "source": [
    "interact(plotCV_fout, method=df_fout.index.unique())"
   ]
  },
  {
   "cell_type": "markdown",
   "id": "4eac7d7c",
   "metadata": {},
   "source": [
    "De lijngrafiek van de CV per methode per jaar voor de CAP data. Met een dropdown om de bepaalde methode te selecteren"
   ]
  },
  {
   "cell_type": "code",
   "execution_count": 17,
   "id": "baa36af4",
   "metadata": {},
   "outputs": [
    {
     "data": {
      "application/vnd.jupyter.widget-view+json": {
       "model_id": "fcd653d569294705a785923473b64dbb",
       "version_major": 2,
       "version_minor": 0
      },
      "text/plain": [
       "interactive(children=(Dropdown(description='method', options=('A1cNOW', 'Abbott Alinity ci series', 'Abbott Ar…"
      ]
     },
     "metadata": {},
     "output_type": "display_data"
    },
    {
     "data": {
      "text/plain": [
       "<function __main__.plotCV_CAP(method)>"
      ]
     },
     "execution_count": 17,
     "metadata": {},
     "output_type": "execute_result"
    }
   ],
   "source": [
    "interact(plotCV_CAP, method=df_CAP.index.unique())"
   ]
  },
  {
   "cell_type": "markdown",
   "id": "8b9aaabd",
   "metadata": {},
   "source": [
    "De lijngrafiek van de CV per methode per jaar voor de eura1c data. Met een dropdown om de bepaalde methode te selecteren"
   ]
  },
  {
   "cell_type": "code",
   "execution_count": 18,
   "id": "a90d0db5",
   "metadata": {
    "scrolled": false
   },
   "outputs": [
    {
     "data": {
      "application/vnd.jupyter.widget-view+json": {
       "model_id": "b578e347c29340ebacce549a263d4a42",
       "version_major": 2,
       "version_minor": 0
      },
      "text/plain": [
       "interactive(children=(Dropdown(description='method', options=('Abbott Alinity', 'Abbott Architect', 'Abbott Ar…"
      ]
     },
     "metadata": {},
     "output_type": "display_data"
    },
    {
     "data": {
      "text/plain": [
       "<function __main__.plotCV_eura1c(method)>"
      ]
     },
     "execution_count": 18,
     "metadata": {},
     "output_type": "execute_result"
    }
   ],
   "source": [
    "interact(plotCV_eura1c, method=df_eura1c.index.unique())"
   ]
  },
  {
   "cell_type": "markdown",
   "id": "138aed14",
   "metadata": {},
   "source": [
    "Regressie plot van alle CV waardes gemiddeld per jaar van de CAP data"
   ]
  },
  {
   "cell_type": "markdown",
   "id": "f4776d59",
   "metadata": {},
   "source": [
    "We zien hier dat er een sterk dalend linear verband is, daarom is het interessant om hier een predictief model voor te gebruiken om het jaar 2022 te voorspellen"
   ]
  },
  {
   "cell_type": "code",
   "execution_count": 19,
   "id": "76bfdf8e",
   "metadata": {
    "scrolled": true
   },
   "outputs": [
    {
     "data": {
      "text/plain": [
       "Text(0.5, 1.0, 'gemiddelde CV waardes cap')"
      ]
     },
     "execution_count": 19,
     "metadata": {},
     "output_type": "execute_result"
    },
    {
     "data": {
      "image/png": "[encoded data removed]",
      "text/plain": [
       "<Figure size 432x288 with 1 Axes>"
      ]
     },
     "metadata": {
      "needs_background": "light"
     },
     "output_type": "display_data"
    }
   ],
   "source": [
    "sns.regplot(data=df_CAP_all, x = 'Year', y = 'CV').set_title('gemiddelde CV waardes CAP')"
   ]
  },
  {
   "cell_type": "markdown",
   "id": "2aa0e0af",
   "metadata": {},
   "source": [
    "Om het jaar 2022 te voorspellen hebben we een autoregressie model gebruikt"
   ]
  },
  {
   "cell_type": "markdown",
   "id": "9075c638",
   "metadata": {},
   "source": [
    "Hier gebruiken we de data van alle jaren"
   ]
  },
  {
   "cell_type": "code",
   "execution_count": 20,
   "id": "edcde9b0",
   "metadata": {
    "scrolled": false
   },
   "outputs": [
    {
     "data": {
      "text/html": [
       "<table class=\"simpletable\">\n",
       "<caption>OLS Regression Results</caption>\n",
       "<tr>\n",
       "  <th>Dep. Variable:</th>           <td>CV</td>        <th>  R-squared (uncentered):</th>      <td>   0.871</td> \n",
       "</tr>\n",
       "<tr>\n",
       "  <th>Model:</th>                   <td>OLS</td>       <th>  Adj. R-squared (uncentered):</th> <td>   0.871</td> \n",
       "</tr>\n",
       "<tr>\n",
       "  <th>Method:</th>             <td>Least Squares</td>  <th>  F-statistic:       </th>          <td>2.397e+04</td>\n",
       "</tr>\n",
       "<tr>\n",
       "  <th>Date:</th>             <td>Wed, 01 Jun 2022</td> <th>  Prob (F-statistic):</th>           <td>  0.00</td>  \n",
       "</tr>\n",
       "<tr>\n",
       "  <th>Time:</th>                 <td>13:10:32</td>     <th>  Log-Likelihood:    </th>          <td> -5037.3</td> \n",
       "</tr>\n",
       "<tr>\n",
       "  <th>No. Observations:</th>      <td>  3544</td>      <th>  AIC:               </th>          <td>1.008e+04</td>\n",
       "</tr>\n",
       "<tr>\n",
       "  <th>Df Residuals:</th>          <td>  3543</td>      <th>  BIC:               </th>          <td>1.008e+04</td>\n",
       "</tr>\n",
       "<tr>\n",
       "  <th>Df Model:</th>              <td>     1</td>      <th>                     </th>              <td> </td>    \n",
       "</tr>\n",
       "<tr>\n",
       "  <th>Covariance Type:</th>      <td>nonrobust</td>    <th>                     </th>              <td> </td>    \n",
       "</tr>\n",
       "</table>\n",
       "<table class=\"simpletable\">\n",
       "<tr>\n",
       "    <td></td>      <th>coef</th>     <th>std err</th>      <th>t</th>      <th>P>|t|</th>  <th>[0.025</th>    <th>0.975]</th>  \n",
       "</tr>\n",
       "<tr>\n",
       "  <th>Year</th> <td>    0.0013</td> <td> 8.35e-06</td> <td>  154.817</td> <td> 0.000</td> <td>    0.001</td> <td>    0.001</td>\n",
       "</tr>\n",
       "</table>\n",
       "<table class=\"simpletable\">\n",
       "<tr>\n",
       "  <th>Omnibus:</th>       <td>1323.667</td> <th>  Durbin-Watson:     </th> <td>   0.640</td>\n",
       "</tr>\n",
       "<tr>\n",
       "  <th>Prob(Omnibus):</th>  <td> 0.000</td>  <th>  Jarque-Bera (JB):  </th> <td>7747.228</td>\n",
       "</tr>\n",
       "<tr>\n",
       "  <th>Skew:</th>           <td> 1.668</td>  <th>  Prob(JB):          </th> <td>    0.00</td>\n",
       "</tr>\n",
       "<tr>\n",
       "  <th>Kurtosis:</th>       <td> 9.429</td>  <th>  Cond. No.          </th> <td>    1.00</td>\n",
       "</tr>\n",
       "</table><br/><br/>Notes:<br/>[1] R² is computed without centering (uncentered) since the model does not contain a constant.<br/>[2] Standard Errors assume that the covariance matrix of the errors is correctly specified."
      ],
      "text/plain": [
       "<class 'statsmodels.iolib.summary.Summary'>\n",
       "\"\"\"\n",
       "                                 OLS Regression Results                                \n",
       "=======================================================================================\n",
       "Dep. Variable:                     CV   R-squared (uncentered):                   0.871\n",
       "Model:                            OLS   Adj. R-squared (uncentered):              0.871\n",
       "Method:                 Least Squares   F-statistic:                          2.397e+04\n",
       "Date:                Wed, 01 Jun 2022   Prob (F-statistic):                        0.00\n",
       "Time:                        13:10:32   Log-Likelihood:                         -5037.3\n",
       "No. Observations:                3544   AIC:                                  1.008e+04\n",
       "Df Residuals:                    3543   BIC:                                  1.008e+04\n",
       "Df Model:                           1                                                  \n",
       "Covariance Type:            nonrobust                                                  \n",
       "==============================================================================\n",
       "                 coef    std err          t      P>|t|      [0.025      0.975]\n",
       "------------------------------------------------------------------------------\n",
       "Year           0.0013   8.35e-06    154.817      0.000       0.001       0.001\n",
       "==============================================================================\n",
       "Omnibus:                     1323.667   Durbin-Watson:                   0.640\n",
       "Prob(Omnibus):                  0.000   Jarque-Bera (JB):             7747.228\n",
       "Skew:                           1.668   Prob(JB):                         0.00\n",
       "Kurtosis:                       9.429   Cond. No.                         1.00\n",
       "==============================================================================\n",
       "\n",
       "Notes:\n",
       "[1] R² is computed without centering (uncentered) since the model does not contain a constant.\n",
       "[2] Standard Errors assume that the covariance matrix of the errors is correctly specified.\n",
       "\"\"\""
      ]
     },
     "execution_count": 20,
     "metadata": {},
     "output_type": "execute_result"
    },
    {
     "data": {
      "image/png": "[encoded data removed]",
      "text/plain": [
       "<Figure size 432x288 with 1 Axes>"
      ]
     },
     "metadata": {
      "needs_background": "light"
     },
     "output_type": "display_data"
    }
   ],
   "source": [
    "# Afhankelijke en onafhankelijke variabele toekennen\n",
    "X = df_CAP_prep['Year']\n",
    "y = df_CAP_prep[\"CV\"]\n",
    "# Het model fitten en predictie maken\n",
    "model = sm.OLS(y, X).fit()\n",
    "predictions = model.predict(X)\n",
    "# Maak een nieuwe dataframe aan die de voorspellende waarde bevat in het jaar 2022\n",
    "preddf = pd.DataFrame(predictions, columns=['CV'])\n",
    "preddf['Year'] = \"2022\"\n",
    "# Voeg het nieuwe dataframe toe aan de oude\n",
    "combined = pd.concat([df_CAP_prep,preddf])\n",
    "combined['Year'] = combined['Year'].astype(str).astype(int)\n",
    "# Reset index omdat index niet meer kloppend is\n",
    "combined = combined.reset_index(drop=True)\n",
    "# Plot de CV waarde per jaar in een lijngrafiek\n",
    "sns.lineplot(x = 'Year', y = 'CV', data = combined)\n",
    "# Maak het voorspelde jaar een andere kleur\n",
    "sns.lineplot(x = 'Year', y = 'CV', data = combined[(combined['Year'] >= 2021) & (combined['Year'] <= 2022)], color= 'red')\n",
    "model.summary()"
   ]
  },
  {
   "cell_type": "markdown",
   "id": "bf707344",
   "metadata": {},
   "source": [
    "Hier gebruiken we de data van 2018 tot 2021"
   ]
  },
  {
   "cell_type": "code",
   "execution_count": 21,
   "id": "6ca9bd14",
   "metadata": {
    "scrolled": false
   },
   "outputs": [
    {
     "data": {
      "text/html": [
       "<table class=\"simpletable\">\n",
       "<caption>OLS Regression Results</caption>\n",
       "<tr>\n",
       "  <th>Dep. Variable:</th>           <td>CV</td>        <th>  R-squared (uncentered):</th>      <td>   0.905</td> \n",
       "</tr>\n",
       "<tr>\n",
       "  <th>Model:</th>                   <td>OLS</td>       <th>  Adj. R-squared (uncentered):</th> <td>   0.905</td> \n",
       "</tr>\n",
       "<tr>\n",
       "  <th>Method:</th>             <td>Least Squares</td>  <th>  F-statistic:       </th>          <td>1.380e+04</td>\n",
       "</tr>\n",
       "<tr>\n",
       "  <th>Date:</th>             <td>Wed, 01 Jun 2022</td> <th>  Prob (F-statistic):</th>           <td>  0.00</td>  \n",
       "</tr>\n",
       "<tr>\n",
       "  <th>Time:</th>                 <td>13:10:32</td>     <th>  Log-Likelihood:    </th>          <td> -1591.1</td> \n",
       "</tr>\n",
       "<tr>\n",
       "  <th>No. Observations:</th>      <td>  1457</td>      <th>  AIC:               </th>          <td>   3184.</td> \n",
       "</tr>\n",
       "<tr>\n",
       "  <th>Df Residuals:</th>          <td>  1456</td>      <th>  BIC:               </th>          <td>   3190.</td> \n",
       "</tr>\n",
       "<tr>\n",
       "  <th>Df Model:</th>              <td>     1</td>      <th>                     </th>              <td> </td>    \n",
       "</tr>\n",
       "<tr>\n",
       "  <th>Covariance Type:</th>      <td>nonrobust</td>    <th>                     </th>              <td> </td>    \n",
       "</tr>\n",
       "</table>\n",
       "<table class=\"simpletable\">\n",
       "<tr>\n",
       "    <td></td>      <th>coef</th>     <th>std err</th>      <th>t</th>      <th>P>|t|</th>  <th>[0.025</th>    <th>0.975]</th>  \n",
       "</tr>\n",
       "<tr>\n",
       "  <th>Year</th> <td>    0.0011</td> <td> 9.36e-06</td> <td>  117.476</td> <td> 0.000</td> <td>    0.001</td> <td>    0.001</td>\n",
       "</tr>\n",
       "</table>\n",
       "<table class=\"simpletable\">\n",
       "<tr>\n",
       "  <th>Omnibus:</th>       <td>102.570</td> <th>  Durbin-Watson:     </th> <td>   0.713</td>\n",
       "</tr>\n",
       "<tr>\n",
       "  <th>Prob(Omnibus):</th> <td> 0.000</td>  <th>  Jarque-Bera (JB):  </th> <td> 124.372</td>\n",
       "</tr>\n",
       "<tr>\n",
       "  <th>Skew:</th>          <td> 0.669</td>  <th>  Prob(JB):          </th> <td>9.84e-28</td>\n",
       "</tr>\n",
       "<tr>\n",
       "  <th>Kurtosis:</th>      <td> 3.510</td>  <th>  Cond. No.          </th> <td>    1.00</td>\n",
       "</tr>\n",
       "</table><br/><br/>Notes:<br/>[1] R² is computed without centering (uncentered) since the model does not contain a constant.<br/>[2] Standard Errors assume that the covariance matrix of the errors is correctly specified."
      ],
      "text/plain": [
       "<class 'statsmodels.iolib.summary.Summary'>\n",
       "\"\"\"\n",
       "                                 OLS Regression Results                                \n",
       "=======================================================================================\n",
       "Dep. Variable:                     CV   R-squared (uncentered):                   0.905\n",
       "Model:                            OLS   Adj. R-squared (uncentered):              0.905\n",
       "Method:                 Least Squares   F-statistic:                          1.380e+04\n",
       "Date:                Wed, 01 Jun 2022   Prob (F-statistic):                        0.00\n",
       "Time:                        13:10:32   Log-Likelihood:                         -1591.1\n",
       "No. Observations:                1457   AIC:                                      3184.\n",
       "Df Residuals:                    1456   BIC:                                      3190.\n",
       "Df Model:                           1                                                  \n",
       "Covariance Type:            nonrobust                                                  \n",
       "==============================================================================\n",
       "                 coef    std err          t      P>|t|      [0.025      0.975]\n",
       "------------------------------------------------------------------------------\n",
       "Year           0.0011   9.36e-06    117.476      0.000       0.001       0.001\n",
       "==============================================================================\n",
       "Omnibus:                      102.570   Durbin-Watson:                   0.713\n",
       "Prob(Omnibus):                  0.000   Jarque-Bera (JB):              124.372\n",
       "Skew:                           0.669   Prob(JB):                     9.84e-28\n",
       "Kurtosis:                       3.510   Cond. No.                         1.00\n",
       "==============================================================================\n",
       "\n",
       "Notes:\n",
       "[1] R² is computed without centering (uncentered) since the model does not contain a constant.\n",
       "[2] Standard Errors assume that the covariance matrix of the errors is correctly specified.\n",
       "\"\"\""
      ]
     },
     "execution_count": 21,
     "metadata": {},
     "output_type": "execute_result"
    },
    {
     "data": {
      "image/png": "[encoded data removed]",
      "text/plain": [
       "<Figure size 432x288 with 1 Axes>"
      ]
     },
     "metadata": {
      "needs_background": "light"
     },
     "output_type": "display_data"
    }
   ],
   "source": [
    "# Alleen het jaar 2018 en hoger pakken\n",
    "CAP_prep_pred = df_CAP_prep[df_CAP_prep[\"Year\"] >= 2018]\n",
    "# Afhankelijke en onafhankelijke variabele toekennen\n",
    "X = CAP_prep_pred['Year']\n",
    "y = CAP_prep_pred[\"CV\"]\n",
    "# Het model fitten en predictie maken\n",
    "model = sm.OLS(y, X).fit()\n",
    "predictions = model.predict(X)\n",
    "# Maak een nieuwe dataframe aan die de voorspellende waarde bevat in het jaar 2022\n",
    "preddf = pd.DataFrame(predictions, columns=['CV'])\n",
    "preddf['Year'] = \"2022\"\n",
    "# Voeg het nieuwe dataframe toe aan de oude\n",
    "combined = pd.concat([CAP_prep_pred,preddf])\n",
    "combined['Year'] = combined['Year'].astype(str).astype(int)\n",
    "# Reset index omdat index niet meer kloppend is\n",
    "combined = combined.reset_index(drop=True)\n",
    "# Plot de CV waarde per jaar in een lijngrafiek\n",
    "sns.lineplot(x = 'Year', y = 'CV', data = combined)\n",
    "# Maak het voorspelde jaar een andere kleur\n",
    "sns.lineplot(x = 'Year', y = 'CV', data = combined[(combined['Year'] >= 2021) & (combined['Year'] <= 2022)], color= 'red')\n",
    "model.summary()"
   ]
  },
  {
   "cell_type": "markdown",
   "id": "d2365e12",
   "metadata": {},
   "source": [
    "Regressie plot van alle CV waardes gemiddeld per jaar van de eura1c data"
   ]
  },
  {
   "cell_type": "code",
   "execution_count": 22,
   "id": "914f4dbb",
   "metadata": {},
   "outputs": [
    {
     "data": {
      "text/plain": [
       "Text(0.5, 1.0, 'gemiddelde CV waardes eura1c')"
      ]
     },
     "execution_count": 22,
     "metadata": {},
     "output_type": "execute_result"
    },
    {
     "data": {
      "image/png": "[encoded data removed]",
      "text/plain": [
       "<Figure size 432x288 with 1 Axes>"
      ]
     },
     "metadata": {
      "needs_background": "light"
     },
     "output_type": "display_data"
    }
   ],
   "source": [
    "sns.regplot(data=df_eura1c_all, x = 'Year', y = 'CV').set_title('gemiddelde CV waardes eura1c')"
   ]
  },
  {
   "cell_type": "markdown",
   "id": "98070c7f",
   "metadata": {},
   "source": [
    "We zien hier dat er een sterk stijgend linear verband is, daarom is het interessant om hier een predictief model voor te gebruiken om het jaar 2021 te voorspellen"
   ]
  },
  {
   "cell_type": "markdown",
   "id": "3982eae3",
   "metadata": {},
   "source": [
    "Om het jaar 2021 te voorspellen hebben we een autoregressie model gebruikt"
   ]
  },
  {
   "cell_type": "markdown",
   "id": "3c840d24",
   "metadata": {},
   "source": [
    "Hier gebruiken we de data van alle jaren"
   ]
  },
  {
   "cell_type": "code",
   "execution_count": 23,
   "id": "eec60a92",
   "metadata": {
    "scrolled": false
   },
   "outputs": [
    {
     "data": {
      "text/html": [
       "<table class=\"simpletable\">\n",
       "<caption>OLS Regression Results</caption>\n",
       "<tr>\n",
       "  <th>Dep. Variable:</th>           <td>CV</td>        <th>  R-squared (uncentered):</th>      <td>   0.830</td> \n",
       "</tr>\n",
       "<tr>\n",
       "  <th>Model:</th>                   <td>OLS</td>       <th>  Adj. R-squared (uncentered):</th> <td>   0.830</td> \n",
       "</tr>\n",
       "<tr>\n",
       "  <th>Method:</th>             <td>Least Squares</td>  <th>  F-statistic:       </th>          <td>   2511.</td> \n",
       "</tr>\n",
       "<tr>\n",
       "  <th>Date:</th>             <td>Wed, 01 Jun 2022</td> <th>  Prob (F-statistic):</th>          <td>8.84e-200</td>\n",
       "</tr>\n",
       "<tr>\n",
       "  <th>Time:</th>                 <td>13:10:32</td>     <th>  Log-Likelihood:    </th>          <td> -1118.0</td> \n",
       "</tr>\n",
       "<tr>\n",
       "  <th>No. Observations:</th>      <td>   514</td>      <th>  AIC:               </th>          <td>   2238.</td> \n",
       "</tr>\n",
       "<tr>\n",
       "  <th>Df Residuals:</th>          <td>   513</td>      <th>  BIC:               </th>          <td>   2242.</td> \n",
       "</tr>\n",
       "<tr>\n",
       "  <th>Df Model:</th>              <td>     1</td>      <th>                     </th>              <td> </td>    \n",
       "</tr>\n",
       "<tr>\n",
       "  <th>Covariance Type:</th>      <td>nonrobust</td>    <th>                     </th>              <td> </td>    \n",
       "</tr>\n",
       "</table>\n",
       "<table class=\"simpletable\">\n",
       "<tr>\n",
       "    <td></td>      <th>coef</th>     <th>std err</th>      <th>t</th>      <th>P>|t|</th>  <th>[0.025</th>    <th>0.975]</th>  \n",
       "</tr>\n",
       "<tr>\n",
       "  <th>Year</th> <td>    0.0023</td> <td> 4.66e-05</td> <td>   50.114</td> <td> 0.000</td> <td>    0.002</td> <td>    0.002</td>\n",
       "</tr>\n",
       "</table>\n",
       "<table class=\"simpletable\">\n",
       "<tr>\n",
       "  <th>Omnibus:</th>       <td>156.738</td> <th>  Durbin-Watson:     </th> <td>   0.871</td>\n",
       "</tr>\n",
       "<tr>\n",
       "  <th>Prob(Omnibus):</th> <td> 0.000</td>  <th>  Jarque-Bera (JB):  </th> <td> 440.957</td>\n",
       "</tr>\n",
       "<tr>\n",
       "  <th>Skew:</th>          <td> 1.481</td>  <th>  Prob(JB):          </th> <td>1.77e-96</td>\n",
       "</tr>\n",
       "<tr>\n",
       "  <th>Kurtosis:</th>      <td> 6.438</td>  <th>  Cond. No.          </th> <td>    1.00</td>\n",
       "</tr>\n",
       "</table><br/><br/>Notes:<br/>[1] R² is computed without centering (uncentered) since the model does not contain a constant.<br/>[2] Standard Errors assume that the covariance matrix of the errors is correctly specified."
      ],
      "text/plain": [
       "<class 'statsmodels.iolib.summary.Summary'>\n",
       "\"\"\"\n",
       "                                 OLS Regression Results                                \n",
       "=======================================================================================\n",
       "Dep. Variable:                     CV   R-squared (uncentered):                   0.830\n",
       "Model:                            OLS   Adj. R-squared (uncentered):              0.830\n",
       "Method:                 Least Squares   F-statistic:                              2511.\n",
       "Date:                Wed, 01 Jun 2022   Prob (F-statistic):                   8.84e-200\n",
       "Time:                        13:10:32   Log-Likelihood:                         -1118.0\n",
       "No. Observations:                 514   AIC:                                      2238.\n",
       "Df Residuals:                     513   BIC:                                      2242.\n",
       "Df Model:                           1                                                  \n",
       "Covariance Type:            nonrobust                                                  \n",
       "==============================================================================\n",
       "                 coef    std err          t      P>|t|      [0.025      0.975]\n",
       "------------------------------------------------------------------------------\n",
       "Year           0.0023   4.66e-05     50.114      0.000       0.002       0.002\n",
       "==============================================================================\n",
       "Omnibus:                      156.738   Durbin-Watson:                   0.871\n",
       "Prob(Omnibus):                  0.000   Jarque-Bera (JB):              440.957\n",
       "Skew:                           1.481   Prob(JB):                     1.77e-96\n",
       "Kurtosis:                       6.438   Cond. No.                         1.00\n",
       "==============================================================================\n",
       "\n",
       "Notes:\n",
       "[1] R² is computed without centering (uncentered) since the model does not contain a constant.\n",
       "[2] Standard Errors assume that the covariance matrix of the errors is correctly specified.\n",
       "\"\"\""
      ]
     },
     "execution_count": 23,
     "metadata": {},
     "output_type": "execute_result"
    },
    {
     "data": {
      "image/png": "[encoded data removed]",
      "text/plain": [
       "<Figure size 432x288 with 1 Axes>"
      ]
     },
     "metadata": {
      "needs_background": "light"
     },
     "output_type": "display_data"
    }
   ],
   "source": [
    "# Afhankelijke en onafhankelijke variabele toekennen\n",
    "X = df_eura1c_prep['Year']\n",
    "y = df_eura1c_prep[\"CV\"]\n",
    "# Het model fitten en predictie maken\n",
    "model = sm.OLS(y, X).fit()\n",
    "predictions = model.predict(X)\n",
    "# Maak een nieuwe dataframe aan die de voorspellende waarde bevat in het jaar 2021\n",
    "preddf = pd.DataFrame(predictions, columns=['CV'])\n",
    "preddf['Year'] = \"2021\"\n",
    "# Voeg het nieuwe dataframe toe aan de oude\n",
    "combined = pd.concat([df_eura1c_prep,preddf])\n",
    "combined['Year'] = combined['Year'].astype(str).astype(int)\n",
    "# Reset index omdat index niet meer kloppend is\n",
    "combined = combined.reset_index(drop=True)\n",
    "# Plot de CV waarde per jaar in een lijngrafiek\n",
    "sns.lineplot(x = 'Year', y = 'CV', data = combined)\n",
    "# Maak het voorspelde jaar een andere kleur\n",
    "sns.lineplot(x = 'Year', y = 'CV', data = combined[(combined['Year'] >= 2020) & (combined['Year'] <= 2021)], color= 'red')\n",
    "model.summary()"
   ]
  },
  {
   "cell_type": "markdown",
   "id": "9cf3fa61",
   "metadata": {},
   "source": [
    "Hier gebruiken we de data van 2018-2020"
   ]
  },
  {
   "cell_type": "code",
   "execution_count": 24,
   "id": "8d36ca33",
   "metadata": {},
   "outputs": [
    {
     "data": {
      "text/html": [
       "<table class=\"simpletable\">\n",
       "<caption>OLS Regression Results</caption>\n",
       "<tr>\n",
       "  <th>Dep. Variable:</th>           <td>CV</td>        <th>  R-squared (uncentered):</th>      <td>   0.842</td> \n",
       "</tr>\n",
       "<tr>\n",
       "  <th>Model:</th>                   <td>OLS</td>       <th>  Adj. R-squared (uncentered):</th> <td>   0.841</td> \n",
       "</tr>\n",
       "<tr>\n",
       "  <th>Method:</th>             <td>Least Squares</td>  <th>  F-statistic:       </th>          <td>   1875.</td> \n",
       "</tr>\n",
       "<tr>\n",
       "  <th>Date:</th>             <td>Wed, 01 Jun 2022</td> <th>  Prob (F-statistic):</th>          <td>2.86e-143</td>\n",
       "</tr>\n",
       "<tr>\n",
       "  <th>Time:</th>                 <td>13:10:33</td>     <th>  Log-Likelihood:    </th>          <td> -770.82</td> \n",
       "</tr>\n",
       "<tr>\n",
       "  <th>No. Observations:</th>      <td>   354</td>      <th>  AIC:               </th>          <td>   1544.</td> \n",
       "</tr>\n",
       "<tr>\n",
       "  <th>Df Residuals:</th>          <td>   353</td>      <th>  BIC:               </th>          <td>   1548.</td> \n",
       "</tr>\n",
       "<tr>\n",
       "  <th>Df Model:</th>              <td>     1</td>      <th>                     </th>              <td> </td>    \n",
       "</tr>\n",
       "<tr>\n",
       "  <th>Covariance Type:</th>      <td>nonrobust</td>    <th>                     </th>              <td> </td>    \n",
       "</tr>\n",
       "</table>\n",
       "<table class=\"simpletable\">\n",
       "<tr>\n",
       "    <td></td>      <th>coef</th>     <th>std err</th>      <th>t</th>      <th>P>|t|</th>  <th>[0.025</th>    <th>0.975]</th>  \n",
       "</tr>\n",
       "<tr>\n",
       "  <th>Year</th> <td>    0.0024</td> <td> 5.63e-05</td> <td>   43.296</td> <td> 0.000</td> <td>    0.002</td> <td>    0.003</td>\n",
       "</tr>\n",
       "</table>\n",
       "<table class=\"simpletable\">\n",
       "<tr>\n",
       "  <th>Omnibus:</th>       <td>72.985</td> <th>  Durbin-Watson:     </th> <td>   0.947</td>\n",
       "</tr>\n",
       "<tr>\n",
       "  <th>Prob(Omnibus):</th> <td> 0.000</td> <th>  Jarque-Bera (JB):  </th> <td> 120.931</td>\n",
       "</tr>\n",
       "<tr>\n",
       "  <th>Skew:</th>          <td> 1.205</td> <th>  Prob(JB):          </th> <td>5.50e-27</td>\n",
       "</tr>\n",
       "<tr>\n",
       "  <th>Kurtosis:</th>      <td> 4.546</td> <th>  Cond. No.          </th> <td>    1.00</td>\n",
       "</tr>\n",
       "</table><br/><br/>Notes:<br/>[1] R² is computed without centering (uncentered) since the model does not contain a constant.<br/>[2] Standard Errors assume that the covariance matrix of the errors is correctly specified."
      ],
      "text/plain": [
       "<class 'statsmodels.iolib.summary.Summary'>\n",
       "\"\"\"\n",
       "                                 OLS Regression Results                                \n",
       "=======================================================================================\n",
       "Dep. Variable:                     CV   R-squared (uncentered):                   0.842\n",
       "Model:                            OLS   Adj. R-squared (uncentered):              0.841\n",
       "Method:                 Least Squares   F-statistic:                              1875.\n",
       "Date:                Wed, 01 Jun 2022   Prob (F-statistic):                   2.86e-143\n",
       "Time:                        13:10:33   Log-Likelihood:                         -770.82\n",
       "No. Observations:                 354   AIC:                                      1544.\n",
       "Df Residuals:                     353   BIC:                                      1548.\n",
       "Df Model:                           1                                                  \n",
       "Covariance Type:            nonrobust                                                  \n",
       "==============================================================================\n",
       "                 coef    std err          t      P>|t|      [0.025      0.975]\n",
       "------------------------------------------------------------------------------\n",
       "Year           0.0024   5.63e-05     43.296      0.000       0.002       0.003\n",
       "==============================================================================\n",
       "Omnibus:                       72.985   Durbin-Watson:                   0.947\n",
       "Prob(Omnibus):                  0.000   Jarque-Bera (JB):              120.931\n",
       "Skew:                           1.205   Prob(JB):                     5.50e-27\n",
       "Kurtosis:                       4.546   Cond. No.                         1.00\n",
       "==============================================================================\n",
       "\n",
       "Notes:\n",
       "[1] R² is computed without centering (uncentered) since the model does not contain a constant.\n",
       "[2] Standard Errors assume that the covariance matrix of the errors is correctly specified.\n",
       "\"\"\""
      ]
     },
     "execution_count": 24,
     "metadata": {},
     "output_type": "execute_result"
    },
    {
     "data": {
      "image/png": "[encoded data removed]",
      "text/plain": [
       "<Figure size 432x288 with 1 Axes>"
      ]
     },
     "metadata": {
      "needs_background": "light"
     },
     "output_type": "display_data"
    }
   ],
   "source": [
    "# Alleen het jaar 2018 en hoger pakken\n",
    "eura1c_prep_pred = df_eura1c_prep[df_eura1c_prep[\"Year\"] >= 2018]\n",
    "# Afhankelijke en onafhankelijke variabele toekennen\n",
    "X = eura1c_prep_pred['Year']\n",
    "y = eura1c_prep_pred[\"CV\"]\n",
    "# Het model fitten en predictie maken\n",
    "model = sm.OLS(y, X).fit()\n",
    "predictions = model.predict(X)\n",
    "# Maak een nieuwe dataframe aan die de voorspellende waarde bevat in het jaar 2021\n",
    "preddf = pd.DataFrame(predictions, columns=['CV'])\n",
    "preddf['Year'] = \"2021\"\n",
    "# Voeg het nieuwe dataframe toe aan de oude\n",
    "combined = pd.concat([df_eura1c_prep,preddf])\n",
    "combined['Year'] = combined['Year'].astype(str).astype(int)\n",
    "# Reset index omdat index niet meer kloppend is\n",
    "combined = combined.reset_index(drop=True)\n",
    "# Plot de CV waarde per jaar in een lijngrafiek\n",
    "sns.lineplot(x = 'Year', y = 'CV', data = combined)\n",
    "# Maak het voorspelde jaar een andere kleur\n",
    "sns.lineplot(x = 'Year', y = 'CV', data = combined[(combined['Year'] >= 2020) & (combined['Year'] <= 2021)], color= 'red')\n",
    "model.summary()"
   ]
  },
  {
   "cell_type": "markdown",
   "id": "0505527e",
   "metadata": {},
   "source": [
    "Barplot gemiddelde CV scores per manufacturer CAP data"
   ]
  },
  {
   "cell_type": "code",
   "execution_count": 25,
   "id": "30a68092",
   "metadata": {},
   "outputs": [
    {
     "data": {
      "image/png": "[encoded data removed]",
      "text/plain": [
       "<Figure size 432x288 with 1 Axes>"
      ]
     },
     "metadata": {
      "needs_background": "light"
     },
     "output_type": "display_data"
    }
   ],
   "source": [
    "sns.barplot(data = df_manufacturer_CAP, x = 'Manufacturer', y = 'CV')\n",
    "plt.xticks(rotation=90)\n",
    "plt.tight_layout()"
   ]
  },
  {
   "cell_type": "markdown",
   "id": "9f5a8b65",
   "metadata": {},
   "source": [
    "Beckman coulter lijngrafiek CV waardes CAP"
   ]
  },
  {
   "cell_type": "code",
   "execution_count": 51,
   "id": "50d67477",
   "metadata": {},
   "outputs": [
    {
     "data": {
      "text/plain": [
       "<AxesSubplot:xlabel='Year', ylabel='CV'>"
      ]
     },
     "execution_count": 51,
     "metadata": {},
     "output_type": "execute_result"
    },
    {
     "data": {
      "image/png": "[encoded data removed]",
      "text/plain": [
       "<Figure size 432x288 with 1 Axes>"
      ]
     },
     "metadata": {
      "needs_background": "light"
     },
     "output_type": "display_data"
    }
   ],
   "source": [
    "sns.lineplot(data = beckman_cv_CAP, x = 'Year', y = 'CV')"
   ]
  },
  {
   "cell_type": "markdown",
   "id": "71009503",
   "metadata": {},
   "source": [
    "Barplot gemiddelde CV scores per manufacturer eura1c data"
   ]
  },
  {
   "cell_type": "code",
   "execution_count": 26,
   "id": "d1e56ffa",
   "metadata": {
    "scrolled": false
   },
   "outputs": [
    {
     "data": {
      "image/png": "[encoded data removed]",
      "text/plain": [
       "<Figure size 432x288 with 1 Axes>"
      ]
     },
     "metadata": {
      "needs_background": "light"
     },
     "output_type": "display_data"
    }
   ],
   "source": [
    "sns.barplot(data = df_manufacturer_eura1c, x = 'Manufacturer', y = 'CV')\n",
    "plt.xticks(rotation=90)\n",
    "plt.tight_layout()"
   ]
  },
  {
   "cell_type": "markdown",
   "id": "f8936167",
   "metadata": {},
   "source": [
    "Beckman coulter lijngrafiek CV waardes eura1c"
   ]
  },
  {
   "cell_type": "code",
   "execution_count": 52,
   "id": "12b5a82d",
   "metadata": {},
   "outputs": [
    {
     "data": {
      "text/plain": [
       "<AxesSubplot:xlabel='Year', ylabel='CV'>"
      ]
     },
     "execution_count": 52,
     "metadata": {},
     "output_type": "execute_result"
    },
    {
     "data": {
      "image/png": "[encoded data removed]",
      "text/plain": [
       "<Figure size 432x288 with 1 Axes>"
      ]
     },
     "metadata": {
      "needs_background": "light"
     },
     "output_type": "display_data"
    }
   ],
   "source": [
    "sns.lineplot(data = beckman_cv_eura1c, x = 'Year', y = 'CV')"
   ]
  },
  {
   "cell_type": "markdown",
   "id": "75e57606",
   "metadata": {},
   "source": [
    "# Evaluation\n",
    "Onze product owner vond het belangrijk om inzicht te krijgen in hoe de methodes het over de jaren heen het deden met de cv waardes, onze data bestond uit twee verschillende surveys, de Amerikaanse(CAP) en de europeaanse(eura1c), om de cv waardes te visualiseren hadden we dan ook de cv waardes per methode per jaar het gemiddelde gepakt en dat gevisualiseerd. Na een stakeholder meeting waar we dit product opleverde kwamen we erachter dat de cv waardes van de CAP en eura1c beide anders worden berekend en opgesteld. Hierdoor waren we genoodzaakt om 2 grafieken te ontwikkelen, één van de CAP data en één van de eura1c data. Gelukkig hadden we onze dataset zo opgesteld dat in onze complete dataset een variabel was waar we hadden aangegeven of de data van de CAP of de eura1c survey was."
   ]
  },
  {
   "cell_type": "markdown",
   "id": "d11ec3a7",
   "metadata": {},
   "source": [
    "Mijn eerste bevinding bij allebei de grafieken die ik kan maken is dat er veel data punten missen. Hierdoor is het lastig om nou een heel erg duidelijk beeld te krijgen hoe de methodes het nou over de jaren heen doen (sommige methodes hebben maar 1 jaar aan data en andere wel over meerdere jaren). Bijvoorbeeld bij de CAP data is de Tosoh G7 Auto HPLC goed gedocumenteerd over de jaren heen en kan je zien of de methode zich verbeterd of alleen maar slechter word. Hier kan je zien dat de CV waarde in 2017 opeens een stuk lager en dus beter werd maar in 2018 de waarde snel weer naar boven schoot, bijna terug naar ongeveer dezelfde waardes als jaren ervoor. Dit soort schommelingen komen vaker voor in de dataset en bij ons is het niet duidelijk waarom dit het geval is."
   ]
  },
  {
   "cell_type": "markdown",
   "id": "d509c040",
   "metadata": {},
   "source": [
    "Daarom hebben we een nieuwe grafiek gerealiseerd om de gemiddelde CV waardes van alle methoden over alle jaren heen te laten zien en zie je dat over de jaren heen er een trend naar beneden is bij de CAP data en bij de eura1c er juist een trend naar boven is bij de laatste paar jaren. De grote schommelingen per jaar komen wel echt alleen per methode voor en niet in het algemeen over de hele dataset, ik zie geen punten in de grafiek die heel erg afwijken van de regressielijn. Het is wel erg interessant hoe de CAP CV waardes naar beneden gaan en de eura1c CV waardes juist omhoog gaan."
   ]
  },
  {
   "cell_type": "markdown",
   "id": "5b383764",
   "metadata": {},
   "source": [
    "Mijn tweede bevinding is dat er bij de CAP en eura1c data verschillende manufacturers het beste zijn bij hun data, maar toch ook weer veel hetzelfde. De nummers 1-5 en 6-10 zijn namelijk allemaal dezelfde manufacturers maar net op een andere positie. Dit laat toch zien dat er wel duidelijk verschil zit tussen de manufacturers en hun meetafwijkingen. "
   ]
  },
  {
   "cell_type": "markdown",
   "id": "bc68e630",
   "metadata": {},
   "source": [
    "Beckman coulter presteert het slechtst bij zowel de CAP als de eura1c data, om hier verder op in te kijken hebben we 2 lijngrafieken gevisualiseerd om wat dieper in de cv waardes te kijken. In de vorige grafiek gebruikten we een gemiddelde waarde was van alle jaren, dit geeft niet het beste beeld van de manufacturer want het zou zomaar kunnen dat ze de eerste jaren slecht waren en zich de laatste paar jaren positief aan het verbeteren zijn.  "
   ]
  },
  {
   "cell_type": "markdown",
   "id": "0bba7d54",
   "metadata": {},
   "source": [
    "Bij de CAP data is dit inderdaad het geval, de laatste 2 jaar gaan de CV waardes omlaag maar de jaren ervoor was die waarde wel erg hoog. Het laagste data punt is wel nog steeds boven de 3, de andere manufacturers zitten gemiddeld allemaal onder de 3 dus we zien wel dat Beckman coulter de meetmethodes nog wel moeten verbeteren."
   ]
  },
  {
   "cell_type": "markdown",
   "id": "a554bd78",
   "metadata": {},
   "source": [
    "Bij de eura1c zijn er 2 pieken en het laatste jaar van data zit midden in de piek en is het ook de hoogste CV waarde van beckman de laatste paar jaar. Hier zien we wel dat de CV niet lager dan 5 is geweest, dit is alsnog een slechte CV t.o.v andere manufacturers want gemiddeld valt 5 zelfs nog steeds hoog uit."
   ]
  },
  {
   "cell_type": "markdown",
   "id": "ffb62d8b",
   "metadata": {},
   "source": [
    "Beckman coulter verbetert zich dus wel bij de CAP data, bij de eura1c is er één grote schommeling wat niet een duidelijk beeld geeft, wel zien we daar dat de CV het laatste jaar het hoogste is. "
   ]
  },
  {
   "cell_type": "markdown",
   "id": "a92fa559",
   "metadata": {},
   "source": [
    "# Conclusie"
   ]
  },
  {
   "cell_type": "markdown",
   "id": "93e8f79f",
   "metadata": {},
   "source": [
    "Onze product owner heeft nu een duidelijk beeld van hoe de methodes over de jaren heen ontwikkelen, ook zijn we erachter gekomen dat bij de CAP data alle methodes over de afgelopen jaren steeds beter presteren, bij de eura1c juist minder goed. "
   ]
  },
  {
   "cell_type": "markdown",
   "id": "15d95f02",
   "metadata": {},
   "source": [
    "Ook is er voor onze product owner nu een duidelijker beeld wat betreft de onnauwkeurigheden binnen de verschillende manufacturers. We zien toch wel duidelijke verschillen tussen de manufacturers, zowel bij de CAP als eura1c is de CV waarde van de slechste manufacturer (Beckman Coulter) wel 2x zo hoog als de beste manufacturer (Sebia)."
   ]
  },
  {
   "cell_type": "markdown",
   "id": "14b0260f",
   "metadata": {},
   "source": [
    "We zien bij Beckman coulter dat bij de CAP de CV waardes naar beneden gaan en bij de eura1c gaan ze juist omhoog. Dit komt overeen met de algehele trend van de CAP data en de eura1c data, de CAP CV verbeteren zich de laatste jaren en de eura1c waardes gaan omhoog."
   ]
  },
  {
   "cell_type": "markdown",
   "id": "da13338c",
   "metadata": {},
   "source": [
    "# Advies\n",
    "#### Verschillen CAP en eura1c\n",
    "Bij de CAP data is er een trend naar beneden en bij de eura1c juist een trend naar boven. Dit vinden wij apart sinds dat veelal dezelfde methodes/manufacturers meedoen aan deze verschillende surveys. Wij adviseren om hier een onderzoek naar te doen. Want we zien wanneer we 2 dezelfde manufacturers pakken twee compleet verschillende soorten lijnen naar voren komen (Beckman coulter). Factoren die hier invloed op kunnen hebben zijn uiteraard de omstandigheden van hoe deze methodes worden getest, onze hypothese is ook dat dit de reden is dat er zoveel verschil is tussen de eura1c en de CAP data. Alhoewel dit zou geen invloed moeten hebben op waarom de CV van de CAP over de jaren heen lager wordt en die van de eura1c hoger. Dit moet daarom ook nodig onderzocht worden."
   ]
  },
  {
   "cell_type": "markdown",
   "id": "b08b8b25",
   "metadata": {},
   "source": [
    "#### CV waardes manufcaturers\n",
    "We zien ook dat er zowel bij de eura1c als bij de cap goede en minder goede manufacturers zijn, wij adviseren daarbij daarom ook om onderzoek te doen waarom bepaalde manufacturers slechter scoren dan de andere en wat ze eventueel kunnen doen om de CV waardes lager te kunnen krijgen waardoor ze uiteindelijk beter presteren."
   ]
  }
 ],
 "metadata": {
  "kernelspec": {
   "display_name": "Python 3 (ipykernel)",
   "language": "python",
   "name": "python3"
  },
  "language_info": {
   "codemirror_mode": {
    "name": "ipython",
    "version": 3
   },
   "file_extension": ".py",
   "mimetype": "text/x-python",
   "name": "python",
   "nbconvert_exporter": "python",
   "pygments_lexer": "ipython3",
   "version": "3.9.7"
  }
 },
 "nbformat": 4,
 "nbformat_minor": 5
}
