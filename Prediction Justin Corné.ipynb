{
 "cells": [
  {
   "cell_type": "markdown",
   "id": "24eda08a",
   "metadata": {},
   "source": [
    "# Business understanding\n",
    "Het ziekenhuis Isala wil de zorg voor diabetespatiënten verbeteren. Het gaat hier specifiek om het behandelproces door onnauwkeurigheden in metingen te filteren en hierop te baseren of een behandelplan aangepast moet worden of niet. Visualisaties zullen helpen bij het verkrijgen van inzicht van diverse meetmethoden om vervolgens conclusies te kunnen trekken. Die zijn er nog niet. deze onnauwkeurigheden voor aangegeven als CV. De CV is de variatiecoëfficiënt. Dit is een maat voor de relatieve variabiliteit. Het is de verhouding tussen de standaardafwijking en het gemiddelde (gemiddelde genomen van de spreiding van meetpunten). Hoe kleiner de variatiecoëfficiënt is, hoe minder de gegevens verspreid zijn vanuit het gemiddelde.\n",
    "\n",
    "Variatiecoëfficiënt = (Standaardafwijking/ Gemiddelde) * 100.\n"
   ]
  },
  {
   "cell_type": "markdown",
   "id": "54092bd2",
   "metadata": {},
   "source": [
    "# Data understanding\n",
    "\n",
    "Binnen dit Jupyter notebook is gewerkt met een aantal bestanden. De databron is een excel bestand genaamd Complete-dataset-FINAL.xlsx. Dit bestand is een samengevoegd bestand van omgezette pdf rapporten. Deze rapporten zijn te vinden via http://www.ngsp.org/CAPdata.asp. Binnen het excel bestand zijn alle meetmethoden en fabrikanten genormaliseerd, en de waarden uitvoerig gecheckt.\n",
    "\n",
    "De databron heeft de volgende specificaties:\n",
    "Grootte: 355 kB.\n",
    "Aantal kolommen: 12.\n",
    "Kolomnamen: Method name, N (no. labs), Mean, Bias, CV, Sample, Reference value, Year, Source, Type, Manufacturer.\n",
    "Aantal rijen: 4685.\n"
   ]
  },
  {
   "cell_type": "markdown",
   "id": "91025bad",
   "metadata": {},
   "source": [
    "# Data preparation\n",
    "Zoals hierboven is beschreven, is de data omgezet van PDF naar Excel formaat en zijn deze samengevoegd tot één bestand. Om deze data te prepareren word er in dit notebook gefilterd op alleen de belangrijke waardes voor het onderzoek. Het gaat hier om de volgende waardes:\n",
    "- Mean\n",
    "- Bias\n",
    "- CV\n",
    "- Year\n",
    "- Manufacturer\n",
    "- Total Error"
   ]
  },
  {
   "cell_type": "code",
   "execution_count": 1,
   "id": "354a5dc8",
   "metadata": {},
   "outputs": [
    {
     "data": {
      "text/html": [
       "        <script type=\"text/javascript\">\n",
       "        window.PlotlyConfig = {MathJaxConfig: 'local'};\n",
       "        if (window.MathJax && window.MathJax.Hub && window.MathJax.Hub.Config) {window.MathJax.Hub.Config({SVG: {font: \"STIX-Web\"}});}\n",
       "        if (typeof require !== 'undefined') {\n",
       "        require.undef(\"plotly\");\n",
       "        requirejs.config({\n",
       "            paths: {\n",
       "                'plotly': ['https://cdn.plot.ly/plotly-2.12.1.min']\n",
       "            }\n",
       "        });\n",
       "        require(['plotly'], function(Plotly) {\n",
       "            window._Plotly = Plotly;\n",
       "        });\n",
       "        }\n",
       "        </script>\n",
       "        "
      ]
     },
     "metadata": {},
     "output_type": "display_data"
    }
   ],
   "source": [
    "# importeren van alle functies\n",
    "import pandas as pd\n",
    "import seaborn as sns\n",
    "import matplotlib.pyplot as plt\n",
    "from ipywidgets import interact, interactive, fixed, interact_manual\n",
    "import ipywidgets as widgets\n",
    "import plotly.express as px\n",
    "import cufflinks as cf\n",
    "import numpy as np\n",
    "from sklearn.cluster import KMeans\n",
    "import statsmodels.api as sm\n",
    "\n",
    "# notebook magic\n",
    "cf.go_offline()\n",
    "cf.set_config_file(offline=False, world_readable=True)\n",
    "\n",
    "# inlezen van het databestand\n",
    "data=pd.read_excel(\"Complete-dataset-FINAL.xlsx\")"
   ]
  },
  {
   "cell_type": "markdown",
   "id": "846cdc72",
   "metadata": {},
   "source": [
    "### Business / Data understanding"
   ]
  },
  {
   "cell_type": "code",
   "execution_count": 2,
   "id": "146f1107",
   "metadata": {},
   "outputs": [
    {
     "name": "stdout",
     "output_type": "stream",
     "text": [
      "<class 'pandas.core.frame.DataFrame'>\n",
      "RangeIndex: 4684 entries, 0 to 4683\n",
      "Data columns (total 12 columns):\n",
      " #   Column               Non-Null Count  Dtype  \n",
      "---  ------               --------------  -----  \n",
      " 0   Method name          4684 non-null   object \n",
      " 1   N (no. labs)         4684 non-null   object \n",
      " 2   Mean                 4602 non-null   float64\n",
      " 3   Bias                 4058 non-null   float64\n",
      " 4   CV                   4584 non-null   float64\n",
      " 5   Sample               4684 non-null   object \n",
      " 6   Reference Value      4656 non-null   float64\n",
      " 7   Year                 4684 non-null   int64  \n",
      " 8   Source (CAP/EurA1c)  4684 non-null   object \n",
      " 9   Type (Fresh/frozen)  4684 non-null   object \n",
      " 10  Manufacturer         4684 non-null   object \n",
      " 11  Total Error          4684 non-null   float64\n",
      "dtypes: float64(5), int64(1), object(6)\n",
      "memory usage: 439.2+ KB\n"
     ]
    },
    {
     "data": {
      "text/plain": [
       "(                                       Method name N (no. labs)  Mean  Bias  \\\n",
       " 0                        Vitros 5.1 FS. 4600. 5600          183  6.14 -0.16   \n",
       " 1                        Vitros 5.1 FS. 4600. 5600          183  7.59 -0.01   \n",
       " 2                        Vitros 5.1 FS. 4600. 5600          183  9.42  0.22   \n",
       " 3                        Vitros 5.1 FS. 4600. 5600          210  5.42 -0.18   \n",
       " 4                        Vitros 5.1 FS. 4600. 5600          210  9.34 -0.06   \n",
       " ...                                            ...          ...   ...   ...   \n",
       " 4679  Vitros 5.1 FS/4600/5600/XT7600 Chem. Systems          204  9.08  0.22   \n",
       " 4680  Vitros 5.1 FS/4600/5600/XT7600 Chem. Systems          204  6.86  0.02   \n",
       " 4681  Vitros 5.1 FS/4600/5600/XT7600 Chem. Systems          204  9.40  0.01   \n",
       " 4682  Vitros 5.1 FS/4600/5600/XT7600 Chem. Systems          204  6.14  0.01   \n",
       " 4683  Vitros 5.1 FS/4600/5600/XT7600 Chem. Systems          204  7.59  0.07   \n",
       " \n",
       "        CV  Sample  Reference Value  Year Source (CAP/EurA1c)  \\\n",
       " 0     2.3  GH2-04             6.30  2011                 CAP   \n",
       " 1     2.5  GH2-05             7.60  2011                 CAP   \n",
       " 2     3.0  GH2-06             9.20  2011                 CAP   \n",
       " 3     2.3  GH2-01             5.60  2012                 CAP   \n",
       " 4     2.6  GH2-02             9.40  2012                 CAP   \n",
       " ...   ...     ...              ...   ...                 ...   \n",
       " 4679  3.1  GH5-01             8.86  2021                 CAP   \n",
       " 4680  2.6  GH5-02             6.84  2021                 CAP   \n",
       " 4681  3.4  GH5-03             9.39  2021                 CAP   \n",
       " 4682  2.5  GH5-04             6.13  2021                 CAP   \n",
       " 4683  2.8  GH5-05             7.52  2021                 CAP   \n",
       " \n",
       "      Type (Fresh/frozen) Manufacturer  Total Error  \n",
       " 0                  Fresh       Vitros        4.348  \n",
       " 1                  Fresh       Vitros        4.890  \n",
       " 2                  Fresh       Vitros        6.100  \n",
       " 3                  Fresh       Vitros        4.328  \n",
       " 4                  Fresh       Vitros        5.036  \n",
       " ...                  ...          ...          ...  \n",
       " 4679               Fresh       Vitros        6.296  \n",
       " 4680               Fresh       Vitros        5.116  \n",
       " 4681               Fresh       Vitros        6.674  \n",
       " 4682               Fresh       Vitros        4.910  \n",
       " 4683               Fresh       Vitros        5.558  \n",
       " \n",
       " [4684 rows x 12 columns],\n",
       " None,\n",
       "                   count         mean       std      min      25%       50%  \\\n",
       " Mean             4602.0     7.388795  1.896549     4.60     5.78     7.100   \n",
       " Bias             4058.0     0.073361  0.650975    -6.90    -0.09     0.020   \n",
       " CV               4584.0     2.972033  1.420669     0.50     2.10     2.700   \n",
       " Reference Value  4656.0     7.361971  1.864492     4.92     5.80     7.100   \n",
       " Year             4684.0  2015.568531  4.261448  2006.00  2013.00  2017.000   \n",
       " Total Error      4684.0     5.764378  2.975016     0.00     3.98     5.196   \n",
       " \n",
       "                        75%       max  \n",
       " Mean                8.7000    19.200  \n",
       " Bias                0.1300     6.500  \n",
       " CV                  3.5000    17.100  \n",
       " Reference Value     8.6500    13.000  \n",
       " Year             2019.0000  2021.000  \n",
       " Total Error         6.8025    28.216  ,\n",
       " Index(['Method name', 'N (no. labs)', 'Mean', 'Bias', 'CV', 'Sample',\n",
       "        'Reference Value', 'Year', 'Source (CAP/EurA1c)', 'Type (Fresh/frozen)',\n",
       "        'Manufacturer', 'Total Error'],\n",
       "       dtype='object'))"
      ]
     },
     "execution_count": 2,
     "metadata": {},
     "output_type": "execute_result"
    }
   ],
   "source": [
    "# bekijk de data.\n",
    "view = data, data.info(), data.describe().transpose(), data.columns;\n",
    "view"
   ]
  },
  {
   "cell_type": "markdown",
   "id": "007017ca",
   "metadata": {},
   "source": [
    "#### interpretatie van de dataset\n",
    "We zien dat er een aantal kolommen zijn die niet de 4684 records hebben die we verwachten. Dit komt omdat er een aantal null- velden zijn. Ook komen er een aantal kolommen voor waar we niets aan hebben, want we hoeven geen methodenamen, samples, Reference Values, N (aantal labs), source of type mee te nemen in dit onderzoek. Hier moet rekening mee gehouden worden in de realisatie en de data preparatiefase."
   ]
  },
  {
   "cell_type": "markdown",
   "id": "4f0932f7",
   "metadata": {},
   "source": [
    "### Data preparation"
   ]
  },
  {
   "cell_type": "code",
   "execution_count": 3,
   "id": "cf404838",
   "metadata": {},
   "outputs": [],
   "source": [
    "# Alleen de kolommen die van toepassing zijn, terug laten komen in de dataset en de values sorteren.\n",
    "df = data[[\"Mean\",\"Bias\",\"CV\",\"Year\",\"Manufacturer\",\"Total Error\"]];\n",
    "df = df.sort_values([\"Manufacturer\"]);\n",
    "\n",
    "# Groeperen van manufacturer op jaar, en daarna de index setten op manufacturer.\n",
    "df2 = df.groupby([\"Manufacturer\",\"Year\"]).mean()\n",
    "df2 = df2.reset_index()\n",
    "df2 = df2.set_index('Manufacturer')\n",
    "\n",
    "# Data gegroepeerd zonder index op de manufacturer.\n",
    "df3 = df2.reset_index()"
   ]
  },
  {
   "cell_type": "markdown",
   "id": "65116938",
   "metadata": {},
   "source": [
    "### Modeling\n",
    "\n",
    "#### Beschrijvende modellen"
   ]
  },
  {
   "cell_type": "code",
   "execution_count": 4,
   "id": "9b79b23a",
   "metadata": {},
   "outputs": [],
   "source": [
    "# Tel het aantal jaar dat een merk actief is. Mocht deze minder dan vijf jaar voorkomen, haal die dan uit de dataset.\n",
    "value_counts = df3[\"Manufacturer\"].value_counts()\n",
    "to_remove = value_counts[value_counts <= 4].index\n",
    "filteropjaar = df3[~df3.Manufacturer.isin(to_remove)]\n",
    "df = filteropjaar"
   ]
  },
  {
   "cell_type": "code",
   "execution_count": 5,
   "id": "12233a45",
   "metadata": {},
   "outputs": [
    {
     "data": {
      "text/plain": [
       "Abbott                       16\n",
       "Bio-Rad                      16\n",
       "Tosoh                        16\n",
       "Roche Diagnostics            16\n",
       "Vitros                       16\n",
       "Beckman Coulter              16\n",
       "Siemens                      14\n",
       "Trinity Biotech              13\n",
       "Sebia                         8\n",
       "Axis-Shield                   7\n",
       "Roche Diagnostics/Hitachi     7\n",
       "Alere                         6\n",
       "Arkray                        6\n",
       "Menarini                      5\n",
       "Metrika                       5\n",
       "Olympus                       5\n",
       "Not specified                 5\n",
       "Name: Manufacturer, dtype: int64"
      ]
     },
     "execution_count": 5,
     "metadata": {},
     "output_type": "execute_result"
    }
   ],
   "source": [
    "# Laat de manufacturers zien met datapunten verspreid over meer dan vier jaar\n",
    "counting = df[\"Manufacturer\"].value_counts()\n",
    "counting"
   ]
  },
  {
   "cell_type": "code",
   "execution_count": 6,
   "id": "0fd14c10",
   "metadata": {},
   "outputs": [],
   "source": [
    "# Maak een functie waarin een manufacturer meegegeven kan worden. Dit laat vervolgens een pairplot zien van die manufacturer.\n",
    "def plotPair(manufacturer):\n",
    "    tempdf = df[df[\"Manufacturer\"]== manufacturer]\n",
    "    sns.pairplot(tempdf, hue='Manufacturer', kind='reg', corner=True, plot_kws={'line_kws':{'color':'red'}});"
   ]
  },
  {
   "cell_type": "code",
   "execution_count": 7,
   "id": "c64e934b",
   "metadata": {},
   "outputs": [
    {
     "data": {
      "application/vnd.jupyter.widget-view+json": {
       "model_id": "992448fb03104a469b4ece59d03a3a23",
       "version_major": 2,
       "version_minor": 0
      },
      "text/plain": [
       "interactive(children=(Dropdown(description='manufacturer', options=('Abbott', 'Alere', 'Arkray', 'Axis-Shield'…"
      ]
     },
     "metadata": {},
     "output_type": "display_data"
    }
   ],
   "source": [
    "# Voer de hierboven gemaakte functie uit.\n",
    "interact(plotPair, manufacturer = df['Manufacturer'].unique());"
   ]
  },
  {
   "cell_type": "code",
   "execution_count": 8,
   "id": "d8c6d842",
   "metadata": {},
   "outputs": [],
   "source": [
    "# Realiseren: laat de lijngrafieken zien die bij een specifieke manufacturer horen.\n",
    "# Maak een functie genaamd lijngrafiek dat gaat plotten op de manufacturer die word opgegeven.\n",
    "def lijngrafiek(manufacturer):\n",
    "    tempdf = df3[df3[\"Manufacturer\"]== manufacturer]\n",
    "    sns.relplot(data=df3, x=\"Year\", y=\"CV\", hue=tempdf.Manufacturer, kind=\"line\").set(title=\"CV-waarde voor fabrikant {}\".format(manufacturer));\n",
    "    sns.relplot(data=df3, x=\"Year\", y=\"Bias\", hue=tempdf.Manufacturer, kind=\"line\").set(title=\"Bias-waarde voor fabrikant {}\".format(manufacturer));\n",
    "    sns.relplot(data=df3, x=\"Year\", y=\"Total Error\", hue=tempdf.Manufacturer, kind=\"line\").set(title=\"Total Error-waarde voor fabrikant {}\".format(manufacturer));"
   ]
  },
  {
   "cell_type": "code",
   "execution_count": 9,
   "id": "7d0b535f",
   "metadata": {},
   "outputs": [
    {
     "data": {
      "application/vnd.jupyter.widget-view+json": {
       "model_id": "759b2bcd1deb48c1aca15277c568e2e7",
       "version_major": 2,
       "version_minor": 0
      },
      "text/plain": [
       "interactive(children=(Dropdown(description='manufacturer', options=('Abbott', 'Alere', 'Arkray', 'Axis-Shield'…"
      ]
     },
     "metadata": {},
     "output_type": "display_data"
    }
   ],
   "source": [
    "# Roep de functie aan.\n",
    "interact(lijngrafiek, manufacturer = df['Manufacturer'].unique());"
   ]
  },
  {
   "cell_type": "markdown",
   "id": "7bfde779",
   "metadata": {},
   "source": [
    "### Voorspellende modellen"
   ]
  },
  {
   "cell_type": "code",
   "execution_count": 10,
   "id": "5e81a195",
   "metadata": {},
   "outputs": [],
   "source": [
    "# Regressievergelijking waarop kan worden voorspeld door middel van een trendlijn.\n",
    "def regressie(manufacturer):\n",
    "    \n",
    "# maak een tijdelijk dataframe aan en laat hier per manufacturer de waardes zien.\n",
    "    tempdf = df3[df3[\"Manufacturer\"]== manufacturer]\n",
    "    sns.regplot(data=tempdf, x=\"Year\", y=\"CV\");\n",
    "    sns.regplot(data=tempdf, x=\"Year\", y=\"Bias\");\n",
    "    sns.regplot(data=tempdf, x=\"Year\", y=\"Total Error\").set(title=\"Regressie voor fabrikant {}\".format(manufacturer));\n",
    "    plt.ylabel(\"Waarde (in procenten)\")"
   ]
  },
  {
   "cell_type": "code",
   "execution_count": 11,
   "id": "9c22928c",
   "metadata": {},
   "outputs": [
    {
     "data": {
      "application/vnd.jupyter.widget-view+json": {
       "model_id": "d652b976d1e04dea9fd3a86ff54eaa23",
       "version_major": 2,
       "version_minor": 0
      },
      "text/plain": [
       "interactive(children=(Dropdown(description='manufacturer', options=('Abbott', 'Alere', 'Arkray', 'Axis-Shield'…"
      ]
     },
     "metadata": {},
     "output_type": "display_data"
    }
   ],
   "source": [
    "# Roep de functie aan.\n",
    "interact(regressie, manufacturer = df['Manufacturer'].unique());"
   ]
  },
  {
   "cell_type": "code",
   "execution_count": 12,
   "id": "9520a759",
   "metadata": {},
   "outputs": [],
   "source": [
    "# Plot een regressie op de ingevoerde manufacturer. Drop alle lege values en laat de waardes Year en CV zien.\n",
    "def regressie01(manufacturer):\n",
    "    tempdf = df2[df2[\"Manufacturer\"]== manufacturer]\n",
    "    X = tempdf[\"Year\"]\n",
    "    y = tempdf[\"CV\"]\n",
    "\n",
    "    # Fit en maak de predictions op basis van het model.\n",
    "    model = sm.OLS(y, X).fit()\n",
    "    predictions = model.predict(X)\n",
    "\n",
    "    # Print de statistieken uit.\n",
    "    # return model.summary()\n",
    "    return tempdf\n",
    "\n",
    "# Print het regressiemodel uit. (uitgecomment i.v.m. error.)\n",
    "# Foutmelding: keyerror op manufacturer. Dit komt omdat er NAN-values aanwezig zijn. Dropna() is hier de oplossing voor.\n",
    "# De oplossing wordt hieronder weergegeven bij regressie02.\n",
    "# regressie01(\"Abbott\")"
   ]
  },
  {
   "cell_type": "code",
   "execution_count": 13,
   "id": "d23e3bec",
   "metadata": {},
   "outputs": [],
   "source": [
    "# Plot een regressie op de ingevoerde manufacturer. Drop alle lege values en laat de waardes Year en CV zien.\n",
    "def regressie02(manufacturer):\n",
    "    tempdf = data[data[\"Manufacturer\"]== manufacturer].dropna()\n",
    "    X = tempdf[\"Year\"]\n",
    "    y = tempdf[\"CV\"]\n",
    "\n",
    "    # Fit en maak de predictions op basis van het model.\n",
    "    model = sm.OLS(y, X).fit()\n",
    "    predictions = model.predict(X)\n",
    "\n",
    "    # Print de statistieken uit.\n",
    "    return model.summary()\n",
    "    # return tempdf"
   ]
  },
  {
   "cell_type": "code",
   "execution_count": 14,
   "id": "a571ce39",
   "metadata": {},
   "outputs": [
    {
     "data": {
      "text/html": [
       "<table class=\"simpletable\">\n",
       "<caption>OLS Regression Results</caption>\n",
       "<tr>\n",
       "  <th>Dep. Variable:</th>           <td>CV</td>        <th>  R-squared (uncentered):</th>      <td>   0.683</td>\n",
       "</tr>\n",
       "<tr>\n",
       "  <th>Model:</th>                   <td>OLS</td>       <th>  Adj. R-squared (uncentered):</th> <td>   0.682</td>\n",
       "</tr>\n",
       "<tr>\n",
       "  <th>Method:</th>             <td>Least Squares</td>  <th>  F-statistic:       </th>          <td>   596.3</td>\n",
       "</tr>\n",
       "<tr>\n",
       "  <th>Date:</th>             <td>Thu, 02 Jun 2022</td> <th>  Prob (F-statistic):</th>          <td>4.93e-71</td>\n",
       "</tr>\n",
       "<tr>\n",
       "  <th>Time:</th>                 <td>23:06:53</td>     <th>  Log-Likelihood:    </th>          <td> -605.57</td>\n",
       "</tr>\n",
       "<tr>\n",
       "  <th>No. Observations:</th>      <td>   278</td>      <th>  AIC:               </th>          <td>   1213.</td>\n",
       "</tr>\n",
       "<tr>\n",
       "  <th>Df Residuals:</th>          <td>   277</td>      <th>  BIC:               </th>          <td>   1217.</td>\n",
       "</tr>\n",
       "<tr>\n",
       "  <th>Df Model:</th>              <td>     1</td>      <th>                     </th>              <td> </td>   \n",
       "</tr>\n",
       "<tr>\n",
       "  <th>Covariance Type:</th>      <td>nonrobust</td>    <th>                     </th>              <td> </td>   \n",
       "</tr>\n",
       "</table>\n",
       "<table class=\"simpletable\">\n",
       "<tr>\n",
       "    <td></td>      <th>coef</th>     <th>std err</th>      <th>t</th>      <th>P>|t|</th>  <th>[0.025</th>    <th>0.975]</th>  \n",
       "</tr>\n",
       "<tr>\n",
       "  <th>Year</th> <td>    0.0016</td> <td> 6.37e-05</td> <td>   24.420</td> <td> 0.000</td> <td>    0.001</td> <td>    0.002</td>\n",
       "</tr>\n",
       "</table>\n",
       "<table class=\"simpletable\">\n",
       "<tr>\n",
       "  <th>Omnibus:</th>       <td>41.030</td> <th>  Durbin-Watson:     </th> <td>   0.496</td>\n",
       "</tr>\n",
       "<tr>\n",
       "  <th>Prob(Omnibus):</th> <td> 0.000</td> <th>  Jarque-Bera (JB):  </th> <td>  55.151</td>\n",
       "</tr>\n",
       "<tr>\n",
       "  <th>Skew:</th>          <td> 1.076</td> <th>  Prob(JB):          </th> <td>1.06e-12</td>\n",
       "</tr>\n",
       "<tr>\n",
       "  <th>Kurtosis:</th>      <td> 3.360</td> <th>  Cond. No.          </th> <td>    1.00</td>\n",
       "</tr>\n",
       "</table><br/><br/>Notes:<br/>[1] R² is computed without centering (uncentered) since the model does not contain a constant.<br/>[2] Standard Errors assume that the covariance matrix of the errors is correctly specified."
      ],
      "text/plain": [
       "<class 'statsmodels.iolib.summary.Summary'>\n",
       "\"\"\"\n",
       "                                 OLS Regression Results                                \n",
       "=======================================================================================\n",
       "Dep. Variable:                     CV   R-squared (uncentered):                   0.683\n",
       "Model:                            OLS   Adj. R-squared (uncentered):              0.682\n",
       "Method:                 Least Squares   F-statistic:                              596.3\n",
       "Date:                Thu, 02 Jun 2022   Prob (F-statistic):                    4.93e-71\n",
       "Time:                        23:06:53   Log-Likelihood:                         -605.57\n",
       "No. Observations:                 278   AIC:                                      1213.\n",
       "Df Residuals:                     277   BIC:                                      1217.\n",
       "Df Model:                           1                                                  \n",
       "Covariance Type:            nonrobust                                                  \n",
       "==============================================================================\n",
       "                 coef    std err          t      P>|t|      [0.025      0.975]\n",
       "------------------------------------------------------------------------------\n",
       "Year           0.0016   6.37e-05     24.420      0.000       0.001       0.002\n",
       "==============================================================================\n",
       "Omnibus:                       41.030   Durbin-Watson:                   0.496\n",
       "Prob(Omnibus):                  0.000   Jarque-Bera (JB):               55.151\n",
       "Skew:                           1.076   Prob(JB):                     1.06e-12\n",
       "Kurtosis:                       3.360   Cond. No.                         1.00\n",
       "==============================================================================\n",
       "\n",
       "Notes:\n",
       "[1] R² is computed without centering (uncentered) since the model does not contain a constant.\n",
       "[2] Standard Errors assume that the covariance matrix of the errors is correctly specified.\n",
       "\"\"\""
      ]
     },
     "execution_count": 14,
     "metadata": {},
     "output_type": "execute_result"
    }
   ],
   "source": [
    "# Laat het regressiemodel zien voor de fabrikant Abbott.\n",
    "regressie02(\"Abbott\")"
   ]
  },
  {
   "cell_type": "markdown",
   "id": "e141845a",
   "metadata": {},
   "source": [
    "#### Interpretatie van het model\n",
    "met een R-squared waarde van 0.68 is dit model niet erg betrouwbaar voor het voorspellen van de CV waarden in de toekomst voor Abbott. Het ligt namelijk onder de 70%.\n",
    "Daarentegen is de P>|t| value wel onder de 0.05. Dit betekent dat er met zekerheid gezegd kan worden dat er een relatie is tussen Year en CV."
   ]
  },
  {
   "cell_type": "code",
   "execution_count": 15,
   "id": "00bf0b74",
   "metadata": {},
   "outputs": [
    {
     "data": {
      "text/html": [
       "<div>\n",
       "<style scoped>\n",
       "    .dataframe tbody tr th:only-of-type {\n",
       "        vertical-align: middle;\n",
       "    }\n",
       "\n",
       "    .dataframe tbody tr th {\n",
       "        vertical-align: top;\n",
       "    }\n",
       "\n",
       "    .dataframe thead th {\n",
       "        text-align: right;\n",
       "    }\n",
       "</style>\n",
       "<table border=\"1\" class=\"dataframe\">\n",
       "  <thead>\n",
       "    <tr style=\"text-align: right;\">\n",
       "      <th></th>\n",
       "      <th>Method name</th>\n",
       "      <th>N (no. labs)</th>\n",
       "      <th>Mean</th>\n",
       "      <th>Bias</th>\n",
       "      <th>CV</th>\n",
       "      <th>Sample</th>\n",
       "      <th>Reference Value</th>\n",
       "      <th>Year</th>\n",
       "      <th>Source (CAP/EurA1c)</th>\n",
       "      <th>Type (Fresh/frozen)</th>\n",
       "      <th>Manufacturer</th>\n",
       "      <th>Total Error</th>\n",
       "    </tr>\n",
       "  </thead>\n",
       "  <tbody>\n",
       "    <tr>\n",
       "      <th>0</th>\n",
       "      <td>Vitros 5.1 FS. 4600. 5600</td>\n",
       "      <td>183</td>\n",
       "      <td>6.14</td>\n",
       "      <td>-0.16</td>\n",
       "      <td>2.3</td>\n",
       "      <td>GH2-04</td>\n",
       "      <td>6.30</td>\n",
       "      <td>2011</td>\n",
       "      <td>CAP</td>\n",
       "      <td>Fresh</td>\n",
       "      <td>Vitros</td>\n",
       "      <td>4.348</td>\n",
       "    </tr>\n",
       "    <tr>\n",
       "      <th>1</th>\n",
       "      <td>Vitros 5.1 FS. 4600. 5600</td>\n",
       "      <td>183</td>\n",
       "      <td>7.59</td>\n",
       "      <td>-0.01</td>\n",
       "      <td>2.5</td>\n",
       "      <td>GH2-05</td>\n",
       "      <td>7.60</td>\n",
       "      <td>2011</td>\n",
       "      <td>CAP</td>\n",
       "      <td>Fresh</td>\n",
       "      <td>Vitros</td>\n",
       "      <td>4.890</td>\n",
       "    </tr>\n",
       "    <tr>\n",
       "      <th>2</th>\n",
       "      <td>Vitros 5.1 FS. 4600. 5600</td>\n",
       "      <td>183</td>\n",
       "      <td>9.42</td>\n",
       "      <td>0.22</td>\n",
       "      <td>3.0</td>\n",
       "      <td>GH2-06</td>\n",
       "      <td>9.20</td>\n",
       "      <td>2011</td>\n",
       "      <td>CAP</td>\n",
       "      <td>Fresh</td>\n",
       "      <td>Vitros</td>\n",
       "      <td>6.100</td>\n",
       "    </tr>\n",
       "    <tr>\n",
       "      <th>3</th>\n",
       "      <td>Vitros 5.1 FS. 4600. 5600</td>\n",
       "      <td>210</td>\n",
       "      <td>5.42</td>\n",
       "      <td>-0.18</td>\n",
       "      <td>2.3</td>\n",
       "      <td>GH2-01</td>\n",
       "      <td>5.60</td>\n",
       "      <td>2012</td>\n",
       "      <td>CAP</td>\n",
       "      <td>Fresh</td>\n",
       "      <td>Vitros</td>\n",
       "      <td>4.328</td>\n",
       "    </tr>\n",
       "    <tr>\n",
       "      <th>4</th>\n",
       "      <td>Vitros 5.1 FS. 4600. 5600</td>\n",
       "      <td>210</td>\n",
       "      <td>9.34</td>\n",
       "      <td>-0.06</td>\n",
       "      <td>2.6</td>\n",
       "      <td>GH2-02</td>\n",
       "      <td>9.40</td>\n",
       "      <td>2012</td>\n",
       "      <td>CAP</td>\n",
       "      <td>Fresh</td>\n",
       "      <td>Vitros</td>\n",
       "      <td>5.036</td>\n",
       "    </tr>\n",
       "    <tr>\n",
       "      <th>...</th>\n",
       "      <td>...</td>\n",
       "      <td>...</td>\n",
       "      <td>...</td>\n",
       "      <td>...</td>\n",
       "      <td>...</td>\n",
       "      <td>...</td>\n",
       "      <td>...</td>\n",
       "      <td>...</td>\n",
       "      <td>...</td>\n",
       "      <td>...</td>\n",
       "      <td>...</td>\n",
       "      <td>...</td>\n",
       "    </tr>\n",
       "    <tr>\n",
       "      <th>4679</th>\n",
       "      <td>Vitros 5.1 FS/4600/5600/XT7600 Chem. Systems</td>\n",
       "      <td>204</td>\n",
       "      <td>9.08</td>\n",
       "      <td>0.22</td>\n",
       "      <td>3.1</td>\n",
       "      <td>GH5-01</td>\n",
       "      <td>8.86</td>\n",
       "      <td>2021</td>\n",
       "      <td>CAP</td>\n",
       "      <td>Fresh</td>\n",
       "      <td>Vitros</td>\n",
       "      <td>6.296</td>\n",
       "    </tr>\n",
       "    <tr>\n",
       "      <th>4680</th>\n",
       "      <td>Vitros 5.1 FS/4600/5600/XT7600 Chem. Systems</td>\n",
       "      <td>204</td>\n",
       "      <td>6.86</td>\n",
       "      <td>0.02</td>\n",
       "      <td>2.6</td>\n",
       "      <td>GH5-02</td>\n",
       "      <td>6.84</td>\n",
       "      <td>2021</td>\n",
       "      <td>CAP</td>\n",
       "      <td>Fresh</td>\n",
       "      <td>Vitros</td>\n",
       "      <td>5.116</td>\n",
       "    </tr>\n",
       "    <tr>\n",
       "      <th>4681</th>\n",
       "      <td>Vitros 5.1 FS/4600/5600/XT7600 Chem. Systems</td>\n",
       "      <td>204</td>\n",
       "      <td>9.40</td>\n",
       "      <td>0.01</td>\n",
       "      <td>3.4</td>\n",
       "      <td>GH5-03</td>\n",
       "      <td>9.39</td>\n",
       "      <td>2021</td>\n",
       "      <td>CAP</td>\n",
       "      <td>Fresh</td>\n",
       "      <td>Vitros</td>\n",
       "      <td>6.674</td>\n",
       "    </tr>\n",
       "    <tr>\n",
       "      <th>4682</th>\n",
       "      <td>Vitros 5.1 FS/4600/5600/XT7600 Chem. Systems</td>\n",
       "      <td>204</td>\n",
       "      <td>6.14</td>\n",
       "      <td>0.01</td>\n",
       "      <td>2.5</td>\n",
       "      <td>GH5-04</td>\n",
       "      <td>6.13</td>\n",
       "      <td>2021</td>\n",
       "      <td>CAP</td>\n",
       "      <td>Fresh</td>\n",
       "      <td>Vitros</td>\n",
       "      <td>4.910</td>\n",
       "    </tr>\n",
       "    <tr>\n",
       "      <th>4683</th>\n",
       "      <td>Vitros 5.1 FS/4600/5600/XT7600 Chem. Systems</td>\n",
       "      <td>204</td>\n",
       "      <td>7.59</td>\n",
       "      <td>0.07</td>\n",
       "      <td>2.8</td>\n",
       "      <td>GH5-05</td>\n",
       "      <td>7.52</td>\n",
       "      <td>2021</td>\n",
       "      <td>CAP</td>\n",
       "      <td>Fresh</td>\n",
       "      <td>Vitros</td>\n",
       "      <td>5.558</td>\n",
       "    </tr>\n",
       "  </tbody>\n",
       "</table>\n",
       "<p>4172 rows × 12 columns</p>\n",
       "</div>"
      ],
      "text/plain": [
       "                                       Method name N (no. labs)  Mean  Bias  \\\n",
       "0                        Vitros 5.1 FS. 4600. 5600          183  6.14 -0.16   \n",
       "1                        Vitros 5.1 FS. 4600. 5600          183  7.59 -0.01   \n",
       "2                        Vitros 5.1 FS. 4600. 5600          183  9.42  0.22   \n",
       "3                        Vitros 5.1 FS. 4600. 5600          210  5.42 -0.18   \n",
       "4                        Vitros 5.1 FS. 4600. 5600          210  9.34 -0.06   \n",
       "...                                            ...          ...   ...   ...   \n",
       "4679  Vitros 5.1 FS/4600/5600/XT7600 Chem. Systems          204  9.08  0.22   \n",
       "4680  Vitros 5.1 FS/4600/5600/XT7600 Chem. Systems          204  6.86  0.02   \n",
       "4681  Vitros 5.1 FS/4600/5600/XT7600 Chem. Systems          204  9.40  0.01   \n",
       "4682  Vitros 5.1 FS/4600/5600/XT7600 Chem. Systems          204  6.14  0.01   \n",
       "4683  Vitros 5.1 FS/4600/5600/XT7600 Chem. Systems          204  7.59  0.07   \n",
       "\n",
       "       CV  Sample  Reference Value  Year Source (CAP/EurA1c)  \\\n",
       "0     2.3  GH2-04             6.30  2011                 CAP   \n",
       "1     2.5  GH2-05             7.60  2011                 CAP   \n",
       "2     3.0  GH2-06             9.20  2011                 CAP   \n",
       "3     2.3  GH2-01             5.60  2012                 CAP   \n",
       "4     2.6  GH2-02             9.40  2012                 CAP   \n",
       "...   ...     ...              ...   ...                 ...   \n",
       "4679  3.1  GH5-01             8.86  2021                 CAP   \n",
       "4680  2.6  GH5-02             6.84  2021                 CAP   \n",
       "4681  3.4  GH5-03             9.39  2021                 CAP   \n",
       "4682  2.5  GH5-04             6.13  2021                 CAP   \n",
       "4683  2.8  GH5-05             7.52  2021                 CAP   \n",
       "\n",
       "     Type (Fresh/frozen) Manufacturer  Total Error  \n",
       "0                  Fresh       Vitros        4.348  \n",
       "1                  Fresh       Vitros        4.890  \n",
       "2                  Fresh       Vitros        6.100  \n",
       "3                  Fresh       Vitros        4.328  \n",
       "4                  Fresh       Vitros        5.036  \n",
       "...                  ...          ...          ...  \n",
       "4679               Fresh       Vitros        6.296  \n",
       "4680               Fresh       Vitros        5.116  \n",
       "4681               Fresh       Vitros        6.674  \n",
       "4682               Fresh       Vitros        4.910  \n",
       "4683               Fresh       Vitros        5.558  \n",
       "\n",
       "[4172 rows x 12 columns]"
      ]
     },
     "execution_count": 15,
     "metadata": {},
     "output_type": "execute_result"
    }
   ],
   "source": [
    "# Groepeer op fabrikant en laat de fabrikanten zien met meer dan 100 datapunten\n",
    "manufacturer = data.dropna().groupby('Manufacturer')\n",
    "AantalDatapunten = manufacturer.size().sort_values(ascending=False)\n",
    "AantalDatapunten = AantalDatapunten[AantalDatapunten > 100]\n",
    "\n",
    "# Make een nieuw dataframe met de fabrikanten die aan de vorige eis voldoen\n",
    "df_manufacturer = data[data['Manufacturer'].isin(AantalDatapunten.index)]\n",
    "\n",
    "# Print het dataframe uit ter controle\n",
    "df_manufacturer"
   ]
  },
  {
   "cell_type": "markdown",
   "id": "1e7bd451",
   "metadata": {},
   "source": [
    "### Voorspellend model\n",
    "Hieronder wordt het voorspellende model getoond. Dit wordt gedaan per manufacturer. \n",
    "De CV waarde van 2022 word hiermee voorspeld."
   ]
  },
  {
   "cell_type": "code",
   "execution_count": 16,
   "id": "1eee70af",
   "metadata": {},
   "outputs": [],
   "source": [
    "# definieer de functie 'maakModel' dat de manufacturer als input heeft.\n",
    "def maakModel(manufacturer):\n",
    "    # voorbereiding op voorspellend model met een tijdelijk dataframe.\n",
    "    tempdf = df_manufacturer[df_manufacturer[\"Manufacturer\"]== manufacturer].dropna()\n",
    "    # definieer een X en y waarde.\n",
    "    X = tempdf[\"Year\"]\n",
    "    y = tempdf[\"CV\"]\n",
    "\n",
    "    # maak het voorspellende OLS model met daarop predictions in een dataframe.\n",
    "    model = sm.OLS(y, X).fit()\n",
    "    predictions = model.predict(X)\n",
    "    \n",
    "    # selecteer de kolommen met daarin de values waar op gepredict moet worden.\n",
    "    preddf = pd.DataFrame(predictions, columns=['CV'])\n",
    "    preddf['Year'] = \"2022\"\n",
    "    preddf = preddf.groupby('Year').mean().reset_index()\n",
    "    \n",
    "    # voeg alle data samen als een compleet dataframe.\n",
    "    complete = pd.concat([tempdf,preddf])\n",
    "    complete['Year'] = complete['Year'].astype(str).astype(int)\n",
    "    complete = complete.reset_index(drop=True)\n",
    "    \n",
    "    # Laat de grafiek zien met daarin de voorspelling, waarbij de voorspelling de kleur rood heeft.\n",
    "    sns.lineplot(x = 'Year', y = 'CV', data = complete)\n",
    "    sns.lineplot(x = 'Year', y = 'CV', data = complete[(complete['Year'] >= 2021) & (complete['Year'] <= 2022)], color= 'red').set(title='CV-waarde over de jaren heen van fabrikant {}'.format(manufacturer));\n",
    "    plt.legend(labels=[\"Bekende data\",\"Voorspelling\"])\n",
    "    # Laat de statistieken zien van het model.\n",
    "    return model.summary()"
   ]
  },
  {
   "cell_type": "code",
   "execution_count": 17,
   "id": "deba22ee",
   "metadata": {},
   "outputs": [
    {
     "data": {
      "application/vnd.jupyter.widget-view+json": {
       "model_id": "ea4b1b30b4004df4bca735ea116b1b6a",
       "version_major": 2,
       "version_minor": 0
      },
      "text/plain": [
       "interactive(children=(Dropdown(description='manufacturer', options=('Vitros', 'Roche Diagnostics', 'Abbott', '…"
      ]
     },
     "metadata": {},
     "output_type": "display_data"
    }
   ],
   "source": [
    "# Roep de functie aan.\n",
    "interact(maakModel, manufacturer=df_manufacturer['Manufacturer'].unique());"
   ]
  },
  {
   "cell_type": "markdown",
   "id": "da637d1d",
   "metadata": {},
   "source": [
    "### Interpretatie van model\n",
    "Met een R-squared waarde van 0.962 voor Vitros is er een zeer sterk, bijna perfect verband tussen de CV en de jaren. De P>|t| waarde is onder de 0.05, dit betekent dat er met zekerheid gezegd kan worden dat er een relatie is tussen Year en CV. Voor Vitros is dit goed nieuws, want de voorspelling is vrijwel accuraat.\n",
    "\n",
    "Voor de fabrikant Abbott is dit helaas niet het geval, aangezien er een grote dip is geweest in 2021 waardoor het model de voorspelde waarde niet goed kan berekenen. Met een R-squared waarde van 0.683 wordt er aangegeven dat het model niet goed een verband aangeeft tussen CV en Year. De P waarde is daarentegen wel goed; helaas kan er door de R-squared value niet gezegd worden dat de voorspelling alsnog betrouwbaar is."
   ]
  },
  {
   "cell_type": "markdown",
   "id": "fa384c4c",
   "metadata": {},
   "source": [
    "# Evaluatie\n",
    "De product owner vond het belangrijk om inzicht te krijgen in hoe de CV, Bias, en Total Error waardes het over de jaren heen deden per fabrikant. Om dit te visualiseren zijn deze waarden meegenomen in het onderzoek, en deze gevisualiseerd. Helaas zijn de waardes die wij hebben samengevoegd (CAP-data en EURA1C data) niet juist berekend. Dit was geen struikelblok aangezien wij dit gescheiden hadden in een kolom genaamd 'source'. Alle waardes zijn desondanks WEL meegenomen in dit onderzoek in verband met de tijd en zijn dus NIET gescheiden van elkaar in dit Jupyter notebook.\n",
    "\n",
    "Er missen veel datapunten in het onderzoek, en daardoor is het lastig om te gaan voorspellen hoe de fabrikanten het over de jaren heen doen. Enkele fabrikanten zijn maar voor 1 a 2 jaar bezig met het produceren van een product. Dit geeft een vertekend beeld en hierdoor zijn wij helaas gedwongen om deze fabrikanten niet mee te nemen in het onderzoek.\n",
    "\n",
    "\n",
    "### Conclusie\n",
    "Bij vrijwel alle manufacturers daalt de cv waarde heel veel. Hier is het voorspellingsmodel niet op voorbereid, waardoor het voor het jaar 2022 erg hoog uitvalt. Dit heeft veel invloed op de voorspelling. Het kan daarom interessant zijn om onderzoek te doen naar waarom dit het geval is. De beschrijvende modellen zijn goed mee te nemen in een vervolgonderzoek. Zij geven een erg goed en duidelijk inzicht over hoe een fabrikant zich heeft ontwikkeld over de jaren heen. Dit is een belangrijk punt voor onze product owner.\n",
    "\n",
    "\n",
    "### Advies\n",
    "Het advies aan de product owner is om het voorspellend model niet te gaan gebruiken in een productieomgeving om waardes te gaan voorspellen. Ik adviseer de product owner om meer data beschikbaar te stellen voor het onderzoek naar zowel meetmethodes als fabrikanten. Dit advies is vastgesteld op basis van de CV-predictie (voorspellend model).\n",
    "\n",
    "Het tweede advies aan de product owner is om onderzoek te doen naar de slechter presterende fabrikanten, en de dip in het jaar 2021. Dit gaat helaas buiten onze scope om en is daarom niet meegenomen in het onderzoek.\n",
    "\n",
    "Ten slotte adviseren wij om deze bevindingen door te spelen aan een projectgroep die dit als vervolgopdracht op kan pakken. In verband met korte werkdagen, een delay met de stakeholder, en een wijziging in de aanpak van waardeberekeningen kwam onze projectgroep in tijdsnood te zitten en hebben wij ons helaas moeten beperken tot het visualiseren van enkel de CV. Dit omdat de Bias en de Total Error niet meer kloppen volgens de huidige berekening."
   ]
  }
 ],
 "metadata": {
  "kernelspec": {
   "display_name": "Python 3 (ipykernel)",
   "language": "python",
   "name": "python3"
  },
  "language_info": {
   "codemirror_mode": {
    "name": "ipython",
    "version": 3
   },
   "file_extension": ".py",
   "mimetype": "text/x-python",
   "name": "python",
   "nbconvert_exporter": "python",
   "pygments_lexer": "ipython3",
   "version": "3.9.7"
  }
 },
 "nbformat": 4,
 "nbformat_minor": 5
}
