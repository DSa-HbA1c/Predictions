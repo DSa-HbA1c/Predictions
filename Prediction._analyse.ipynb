{
 "cells": [
  {
   "cell_type": "markdown",
   "metadata": {},
   "source": [
    "# Inladen packages  & dataset"
   ]
  },
  {
   "cell_type": "code",
   "execution_count": 3,
   "metadata": {},
   "outputs": [],
   "source": [
    "import pandas as pd\n",
    "import numpy as np\n",
    "import matplotlib.pyplot as plt\n",
    "import seaborn as sns\n",
    "from sklearn.model_selection import train_test_split\n",
    "\n",
    "df=pd.read_excel(\"Complete-dataset.xlsx\")"
   ]
  },
  {
   "cell_type": "code",
   "execution_count": 4,
   "metadata": {},
   "outputs": [
    {
     "data": {
      "text/html": [
       "<div>\n",
       "<style scoped>\n",
       "    .dataframe tbody tr th:only-of-type {\n",
       "        vertical-align: middle;\n",
       "    }\n",
       "\n",
       "    .dataframe tbody tr th {\n",
       "        vertical-align: top;\n",
       "    }\n",
       "\n",
       "    .dataframe thead th {\n",
       "        text-align: right;\n",
       "    }\n",
       "</style>\n",
       "<table border=\"1\" class=\"dataframe\">\n",
       "  <thead>\n",
       "    <tr style=\"text-align: right;\">\n",
       "      <th></th>\n",
       "      <th>Method name</th>\n",
       "      <th>N (no. labs)</th>\n",
       "      <th>Mean</th>\n",
       "      <th>Bias</th>\n",
       "      <th>CV</th>\n",
       "      <th>Sample</th>\n",
       "      <th>Reference Value</th>\n",
       "      <th>Year</th>\n",
       "      <th>Source (CAP/EurA1c)</th>\n",
       "      <th>Type (Fresh/frozen)</th>\n",
       "      <th>Manufacturer</th>\n",
       "      <th>Total Error</th>\n",
       "    </tr>\n",
       "  </thead>\n",
       "  <tbody>\n",
       "    <tr>\n",
       "      <th>0</th>\n",
       "      <td>(Ortho Clin Diag) Vitros 5.1 FS Chem System</td>\n",
       "      <td>183</td>\n",
       "      <td>6.14</td>\n",
       "      <td>-0.16</td>\n",
       "      <td>2.3</td>\n",
       "      <td>GH2-04</td>\n",
       "      <td>6.3</td>\n",
       "      <td>2011</td>\n",
       "      <td>CAP</td>\n",
       "      <td>Fresh</td>\n",
       "      <td>Vitros</td>\n",
       "      <td>4.508</td>\n",
       "    </tr>\n",
       "    <tr>\n",
       "      <th>1</th>\n",
       "      <td>(Ortho Clin Diag) Vitros 5.1 FS Chem System</td>\n",
       "      <td>183</td>\n",
       "      <td>7.59</td>\n",
       "      <td>-0.01</td>\n",
       "      <td>2.5</td>\n",
       "      <td>GH2-05</td>\n",
       "      <td>7.6</td>\n",
       "      <td>2011</td>\n",
       "      <td>CAP</td>\n",
       "      <td>Fresh</td>\n",
       "      <td>Vitros</td>\n",
       "      <td>4.900</td>\n",
       "    </tr>\n",
       "    <tr>\n",
       "      <th>2</th>\n",
       "      <td>(Ortho Clin Diag) Vitros 5.1 FS Chem System</td>\n",
       "      <td>183</td>\n",
       "      <td>9.42</td>\n",
       "      <td>0.22</td>\n",
       "      <td>3</td>\n",
       "      <td>GH2-06</td>\n",
       "      <td>9.2</td>\n",
       "      <td>2011</td>\n",
       "      <td>CAP</td>\n",
       "      <td>Fresh</td>\n",
       "      <td>Vitros</td>\n",
       "      <td>5.880</td>\n",
       "    </tr>\n",
       "    <tr>\n",
       "      <th>3</th>\n",
       "      <td>(Ortho Clin Diag) Vitros 5.1 FS Chem System</td>\n",
       "      <td>210</td>\n",
       "      <td>5.42</td>\n",
       "      <td>-0.18</td>\n",
       "      <td>2.3</td>\n",
       "      <td>GH2-01</td>\n",
       "      <td>5.6</td>\n",
       "      <td>2012</td>\n",
       "      <td>CAP</td>\n",
       "      <td>Fresh</td>\n",
       "      <td>Vitros</td>\n",
       "      <td>4.508</td>\n",
       "    </tr>\n",
       "    <tr>\n",
       "      <th>4</th>\n",
       "      <td>(Ortho Clin Diag) Vitros 5.1 FS Chem System</td>\n",
       "      <td>210</td>\n",
       "      <td>9.34</td>\n",
       "      <td>-0.06</td>\n",
       "      <td>2.6</td>\n",
       "      <td>GH2-02</td>\n",
       "      <td>9.4</td>\n",
       "      <td>2012</td>\n",
       "      <td>CAP</td>\n",
       "      <td>Fresh</td>\n",
       "      <td>Vitros</td>\n",
       "      <td>5.096</td>\n",
       "    </tr>\n",
       "  </tbody>\n",
       "</table>\n",
       "</div>"
      ],
      "text/plain": [
       "                                   Method name N (no. labs)   Mean   Bias  \\\n",
       "0  (Ortho Clin Diag) Vitros 5.1 FS Chem System          183  6.14   -0.16   \n",
       "1  (Ortho Clin Diag) Vitros 5.1 FS Chem System          183  7.59   -0.01   \n",
       "2  (Ortho Clin Diag) Vitros 5.1 FS Chem System          183  9.42    0.22   \n",
       "3  (Ortho Clin Diag) Vitros 5.1 FS Chem System          210   5.42  -0.18   \n",
       "4  (Ortho Clin Diag) Vitros 5.1 FS Chem System          210   9.34  -0.06   \n",
       "\n",
       "    CV  Sample  Reference Value  Year Source (CAP/EurA1c) Type (Fresh/frozen)  \\\n",
       "0  2.3  GH2-04              6.3  2011                 CAP               Fresh   \n",
       "1  2.5  GH2-05              7.6  2011                 CAP               Fresh   \n",
       "2    3  GH2-06              9.2  2011                 CAP               Fresh   \n",
       "3  2.3  GH2-01              5.6  2012                 CAP               Fresh   \n",
       "4  2.6  GH2-02              9.4  2012                 CAP               Fresh   \n",
       "\n",
       "  Manufacturer  Total Error  \n",
       "0       Vitros        4.508  \n",
       "1       Vitros        4.900  \n",
       "2       Vitros        5.880  \n",
       "3       Vitros        4.508  \n",
       "4       Vitros        5.096  "
      ]
     },
     "execution_count": 4,
     "metadata": {},
     "output_type": "execute_result"
    }
   ],
   "source": [
    "df.head()"
   ]
  },
  {
   "cell_type": "markdown",
   "metadata": {},
   "source": [
    "# Business understanding"
   ]
  },
  {
   "cell_type": "markdown",
   "metadata": {},
   "source": [
    "Deelvraag: Hoe verandert een merk over de jaren heen? (voorspelling total error)\n",
    "\n",
    "\n",
    "Voor het Isala ziekenhuis is het van belang om inzicht te hebben hoe verschillende metingen worden uitgevoerd. Door voorspellingen te doen, zou het Isala ziekenhuis tijdig kunnen ingrijpen. Doordat sommige meetmehodes maar één keer in het rapport voorkomen, focussen we ons eerst op de fabrikant.\n",
    "\n",
    "\n",
    "# Data understanding\n",
    "Welke databronnen zijn gegeven en in welk formaat:\n",
    "Een excel bestand genaamd: Complete-dataset.xlsx\n",
    "\n",
    "Hoe groot zijn deze databronnen:\n",
    "291 kB\n",
    "\n",
    "-4684 rows\n",
    "\n",
    "-12 cols"
   ]
  },
  {
   "cell_type": "code",
   "execution_count": 5,
   "metadata": {},
   "outputs": [
    {
     "name": "stdout",
     "output_type": "stream",
     "text": [
      "<class 'pandas.core.frame.DataFrame'>\n",
      "RangeIndex: 4684 entries, 0 to 4683\n",
      "Data columns (total 12 columns):\n",
      " #   Column               Non-Null Count  Dtype  \n",
      "---  ------               --------------  -----  \n",
      " 0   Method name          4684 non-null   object \n",
      " 1   N (no. labs)         4684 non-null   object \n",
      " 2   Mean                 4604 non-null   object \n",
      " 3   Bias                 4060 non-null   object \n",
      " 4   CV                   4586 non-null   object \n",
      " 5   Sample               4684 non-null   object \n",
      " 6   Reference Value      4656 non-null   float64\n",
      " 7   Year                 4684 non-null   int64  \n",
      " 8   Source (CAP/EurA1c)  4684 non-null   object \n",
      " 9   Type (Fresh/frozen)  4684 non-null   object \n",
      " 10  Manufacturer         4684 non-null   object \n",
      " 11  Total Error          4682 non-null   float64\n",
      "dtypes: float64(2), int64(1), object(9)\n",
      "memory usage: 439.2+ KB\n"
     ]
    }
   ],
   "source": [
    "df.info()"
   ]
  },
  {
   "cell_type": "code",
   "execution_count": 9,
   "metadata": {},
   "outputs": [
    {
     "data": {
      "text/plain": [
       "Method name              0\n",
       "N (no. labs)             0\n",
       "Mean                    80\n",
       "Bias                   624\n",
       "CV                      98\n",
       "Sample                   0\n",
       "Reference Value         28\n",
       "Year                     0\n",
       "Source (CAP/EurA1c)      0\n",
       "Type (Fresh/frozen)      0\n",
       "Manufacturer             0\n",
       "Total Error              2\n",
       "dtype: int64"
      ]
     },
     "execution_count": 9,
     "metadata": {},
     "output_type": "execute_result"
    }
   ],
   "source": [
    "df.isna().sum()\n",
    "#Bias, CV? Leeg -> Geen total error"
   ]
  },
  {
   "cell_type": "code",
   "execution_count": 8,
   "metadata": {},
   "outputs": [
    {
     "data": {
      "text/html": [
       "<div>\n",
       "<style scoped>\n",
       "    .dataframe tbody tr th:only-of-type {\n",
       "        vertical-align: middle;\n",
       "    }\n",
       "\n",
       "    .dataframe tbody tr th {\n",
       "        vertical-align: top;\n",
       "    }\n",
       "\n",
       "    .dataframe thead th {\n",
       "        text-align: right;\n",
       "    }\n",
       "</style>\n",
       "<table border=\"1\" class=\"dataframe\">\n",
       "  <thead>\n",
       "    <tr style=\"text-align: right;\">\n",
       "      <th></th>\n",
       "      <th>count</th>\n",
       "      <th>mean</th>\n",
       "      <th>std</th>\n",
       "      <th>min</th>\n",
       "      <th>25%</th>\n",
       "      <th>50%</th>\n",
       "      <th>75%</th>\n",
       "      <th>max</th>\n",
       "    </tr>\n",
       "  </thead>\n",
       "  <tbody>\n",
       "    <tr>\n",
       "      <th>Reference Value</th>\n",
       "      <td>4656.0</td>\n",
       "      <td>7.361971</td>\n",
       "      <td>1.864492</td>\n",
       "      <td>4.92</td>\n",
       "      <td>5.80</td>\n",
       "      <td>7.100</td>\n",
       "      <td>8.65</td>\n",
       "      <td>13.000</td>\n",
       "    </tr>\n",
       "    <tr>\n",
       "      <th>Year</th>\n",
       "      <td>4684.0</td>\n",
       "      <td>2015.568531</td>\n",
       "      <td>4.261448</td>\n",
       "      <td>2006.00</td>\n",
       "      <td>2013.00</td>\n",
       "      <td>2017.000</td>\n",
       "      <td>2019.00</td>\n",
       "      <td>2021.000</td>\n",
       "    </tr>\n",
       "    <tr>\n",
       "      <th>Total Error</th>\n",
       "      <td>4682.0</td>\n",
       "      <td>5.759066</td>\n",
       "      <td>2.980117</td>\n",
       "      <td>0.00</td>\n",
       "      <td>3.92</td>\n",
       "      <td>5.096</td>\n",
       "      <td>6.86</td>\n",
       "      <td>28.216</td>\n",
       "    </tr>\n",
       "  </tbody>\n",
       "</table>\n",
       "</div>"
      ],
      "text/plain": [
       "                  count         mean       std      min      25%       50%  \\\n",
       "Reference Value  4656.0     7.361971  1.864492     4.92     5.80     7.100   \n",
       "Year             4684.0  2015.568531  4.261448  2006.00  2013.00  2017.000   \n",
       "Total Error      4682.0     5.759066  2.980117     0.00     3.92     5.096   \n",
       "\n",
       "                     75%       max  \n",
       "Reference Value     8.65    13.000  \n",
       "Year             2019.00  2021.000  \n",
       "Total Error         6.86    28.216  "
      ]
     },
     "execution_count": 8,
     "metadata": {},
     "output_type": "execute_result"
    }
   ],
   "source": [
    "df.describe().transpose()"
   ]
  },
  {
   "cell_type": "code",
   "execution_count": null,
   "metadata": {},
   "outputs": [],
   "source": []
  }
 ],
 "metadata": {
  "interpreter": {
   "hash": "26de051ba29f2982a8de78e945f0abaf191376122a1563185a90213a26c5da77"
  },
  "kernelspec": {
   "display_name": "Python 3.10.4 64-bit",
   "language": "python",
   "name": "python3"
  },
  "language_info": {
   "codemirror_mode": {
    "name": "ipython",
    "version": 3
   },
   "file_extension": ".py",
   "mimetype": "text/x-python",
   "name": "python",
   "nbconvert_exporter": "python",
   "pygments_lexer": "ipython3",
   "version": "3.10.4"
  },
  "orig_nbformat": 4
 },
 "nbformat": 4,
 "nbformat_minor": 2
}
