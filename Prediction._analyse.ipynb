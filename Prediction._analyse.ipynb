{
 "cells": [
  {
   "cell_type": "markdown",
   "metadata": {},
   "source": [
    "# Inladen packages  & dataset"
   ]
  },
  {
   "cell_type": "code",
   "execution_count": 67,
   "metadata": {},
   "outputs": [],
   "source": [
    "import pandas as pd\n",
    "import numpy as np\n",
    "import matplotlib.pyplot as plt\n",
    "import seaborn as sns\n",
    "import sklearn\n",
    "from sklearn.model_selection import train_test_split\n",
    "from statsmodels.formula.api import ols\n",
    "from sklearn import linear_model\n",
    "\n",
    "df=pd.read_excel(\"Complete-dataset.xlsx\")"
   ]
  },
  {
   "cell_type": "code",
   "execution_count": 68,
   "metadata": {},
   "outputs": [
    {
     "data": {
      "text/html": [
       "<div>\n",
       "<style scoped>\n",
       "    .dataframe tbody tr th:only-of-type {\n",
       "        vertical-align: middle;\n",
       "    }\n",
       "\n",
       "    .dataframe tbody tr th {\n",
       "        vertical-align: top;\n",
       "    }\n",
       "\n",
       "    .dataframe thead th {\n",
       "        text-align: right;\n",
       "    }\n",
       "</style>\n",
       "<table border=\"1\" class=\"dataframe\">\n",
       "  <thead>\n",
       "    <tr style=\"text-align: right;\">\n",
       "      <th></th>\n",
       "      <th>Method name</th>\n",
       "      <th>N (no. labs)</th>\n",
       "      <th>Mean</th>\n",
       "      <th>Bias</th>\n",
       "      <th>CV</th>\n",
       "      <th>Sample</th>\n",
       "      <th>Reference Value</th>\n",
       "      <th>Year</th>\n",
       "      <th>Source (CAP/EurA1c)</th>\n",
       "      <th>Type (Fresh/frozen)</th>\n",
       "      <th>Manufacturer</th>\n",
       "      <th>Total Error</th>\n",
       "    </tr>\n",
       "  </thead>\n",
       "  <tbody>\n",
       "    <tr>\n",
       "      <th>0</th>\n",
       "      <td>(Ortho Clin Diag) Vitros 5.1 FS Chem System</td>\n",
       "      <td>183</td>\n",
       "      <td>6.14</td>\n",
       "      <td>-0.16</td>\n",
       "      <td>2.3</td>\n",
       "      <td>GH2-04</td>\n",
       "      <td>6.3</td>\n",
       "      <td>2011</td>\n",
       "      <td>CAP</td>\n",
       "      <td>Fresh</td>\n",
       "      <td>Vitros</td>\n",
       "      <td>4.508</td>\n",
       "    </tr>\n",
       "    <tr>\n",
       "      <th>1</th>\n",
       "      <td>(Ortho Clin Diag) Vitros 5.1 FS Chem System</td>\n",
       "      <td>183</td>\n",
       "      <td>7.59</td>\n",
       "      <td>-0.01</td>\n",
       "      <td>2.5</td>\n",
       "      <td>GH2-05</td>\n",
       "      <td>7.6</td>\n",
       "      <td>2011</td>\n",
       "      <td>CAP</td>\n",
       "      <td>Fresh</td>\n",
       "      <td>Vitros</td>\n",
       "      <td>4.900</td>\n",
       "    </tr>\n",
       "    <tr>\n",
       "      <th>2</th>\n",
       "      <td>(Ortho Clin Diag) Vitros 5.1 FS Chem System</td>\n",
       "      <td>183</td>\n",
       "      <td>9.42</td>\n",
       "      <td>0.22</td>\n",
       "      <td>3</td>\n",
       "      <td>GH2-06</td>\n",
       "      <td>9.2</td>\n",
       "      <td>2011</td>\n",
       "      <td>CAP</td>\n",
       "      <td>Fresh</td>\n",
       "      <td>Vitros</td>\n",
       "      <td>5.880</td>\n",
       "    </tr>\n",
       "    <tr>\n",
       "      <th>3</th>\n",
       "      <td>(Ortho Clin Diag) Vitros 5.1 FS Chem System</td>\n",
       "      <td>210</td>\n",
       "      <td>5.42</td>\n",
       "      <td>-0.18</td>\n",
       "      <td>2.3</td>\n",
       "      <td>GH2-01</td>\n",
       "      <td>5.6</td>\n",
       "      <td>2012</td>\n",
       "      <td>CAP</td>\n",
       "      <td>Fresh</td>\n",
       "      <td>Vitros</td>\n",
       "      <td>4.508</td>\n",
       "    </tr>\n",
       "    <tr>\n",
       "      <th>4</th>\n",
       "      <td>(Ortho Clin Diag) Vitros 5.1 FS Chem System</td>\n",
       "      <td>210</td>\n",
       "      <td>9.34</td>\n",
       "      <td>-0.06</td>\n",
       "      <td>2.6</td>\n",
       "      <td>GH2-02</td>\n",
       "      <td>9.4</td>\n",
       "      <td>2012</td>\n",
       "      <td>CAP</td>\n",
       "      <td>Fresh</td>\n",
       "      <td>Vitros</td>\n",
       "      <td>5.096</td>\n",
       "    </tr>\n",
       "  </tbody>\n",
       "</table>\n",
       "</div>"
      ],
      "text/plain": [
       "                                   Method name N (no. labs)   Mean   Bias  \\\n",
       "0  (Ortho Clin Diag) Vitros 5.1 FS Chem System          183  6.14   -0.16   \n",
       "1  (Ortho Clin Diag) Vitros 5.1 FS Chem System          183  7.59   -0.01   \n",
       "2  (Ortho Clin Diag) Vitros 5.1 FS Chem System          183  9.42    0.22   \n",
       "3  (Ortho Clin Diag) Vitros 5.1 FS Chem System          210   5.42  -0.18   \n",
       "4  (Ortho Clin Diag) Vitros 5.1 FS Chem System          210   9.34  -0.06   \n",
       "\n",
       "    CV  Sample  Reference Value  Year Source (CAP/EurA1c) Type (Fresh/frozen)  \\\n",
       "0  2.3  GH2-04              6.3  2011                 CAP               Fresh   \n",
       "1  2.5  GH2-05              7.6  2011                 CAP               Fresh   \n",
       "2    3  GH2-06              9.2  2011                 CAP               Fresh   \n",
       "3  2.3  GH2-01              5.6  2012                 CAP               Fresh   \n",
       "4  2.6  GH2-02              9.4  2012                 CAP               Fresh   \n",
       "\n",
       "  Manufacturer  Total Error  \n",
       "0       Vitros        4.508  \n",
       "1       Vitros        4.900  \n",
       "2       Vitros        5.880  \n",
       "3       Vitros        4.508  \n",
       "4       Vitros        5.096  "
      ]
     },
     "execution_count": 68,
     "metadata": {},
     "output_type": "execute_result"
    }
   ],
   "source": [
    "df.head()"
   ]
  },
  {
   "cell_type": "markdown",
   "metadata": {},
   "source": [
    "# Business understanding"
   ]
  },
  {
   "cell_type": "markdown",
   "metadata": {},
   "source": [
    "Deelvraag: Hoe verandert een merk over de jaren heen? (voorspelling total error)\n",
    "\n",
    "\n",
    "Voor het Isala ziekenhuis is het van belang om inzicht te hebben hoe verschillende metingen worden uitgevoerd. Door voorspellingen te doen, zou het Isala ziekenhuis tijdig kunnen ingrijpen. Doordat sommige meetmehodes maar één keer in het rapport voorkomen, focussen we ons eerst op de fabrikant.\n",
    "\n",
    "\n",
    "# Data understanding\n",
    "Welke databronnen zijn gegeven en in welk formaat:\n",
    "Een excel bestand genaamd: Complete-dataset.xlsx\n",
    "\n",
    "Hoe groot zijn deze databronnen:\n",
    "291 kB\n",
    "\n",
    "-4684 rows\n",
    "\n",
    "-12 cols"
   ]
  },
  {
   "cell_type": "code",
   "execution_count": 69,
   "metadata": {},
   "outputs": [
    {
     "name": "stdout",
     "output_type": "stream",
     "text": [
      "<class 'pandas.core.frame.DataFrame'>\n",
      "RangeIndex: 4684 entries, 0 to 4683\n",
      "Data columns (total 12 columns):\n",
      " #   Column               Non-Null Count  Dtype  \n",
      "---  ------               --------------  -----  \n",
      " 0   Method name          4684 non-null   object \n",
      " 1   N (no. labs)         4684 non-null   object \n",
      " 2   Mean                 4604 non-null   object \n",
      " 3   Bias                 4060 non-null   object \n",
      " 4   CV                   4586 non-null   object \n",
      " 5   Sample               4684 non-null   object \n",
      " 6   Reference Value      4656 non-null   float64\n",
      " 7   Year                 4684 non-null   int64  \n",
      " 8   Source (CAP/EurA1c)  4684 non-null   object \n",
      " 9   Type (Fresh/frozen)  4684 non-null   object \n",
      " 10  Manufacturer         4684 non-null   object \n",
      " 11  Total Error          4682 non-null   float64\n",
      "dtypes: float64(2), int64(1), object(9)\n",
      "memory usage: 439.2+ KB\n"
     ]
    }
   ],
   "source": [
    "df.info()"
   ]
  },
  {
   "cell_type": "code",
   "execution_count": 70,
   "metadata": {},
   "outputs": [
    {
     "data": {
      "text/html": [
       "<div>\n",
       "<style scoped>\n",
       "    .dataframe tbody tr th:only-of-type {\n",
       "        vertical-align: middle;\n",
       "    }\n",
       "\n",
       "    .dataframe tbody tr th {\n",
       "        vertical-align: top;\n",
       "    }\n",
       "\n",
       "    .dataframe thead th {\n",
       "        text-align: right;\n",
       "    }\n",
       "</style>\n",
       "<table border=\"1\" class=\"dataframe\">\n",
       "  <thead>\n",
       "    <tr style=\"text-align: right;\">\n",
       "      <th></th>\n",
       "      <th>Method name</th>\n",
       "      <th>N (no. labs)</th>\n",
       "      <th>Mean</th>\n",
       "      <th>Bias</th>\n",
       "      <th>CV</th>\n",
       "      <th>Sample</th>\n",
       "      <th>Reference Value</th>\n",
       "      <th>Year</th>\n",
       "      <th>Source (CAP/EurA1c)</th>\n",
       "      <th>Type (Fresh/frozen)</th>\n",
       "      <th>Manufacturer</th>\n",
       "      <th>Total Error</th>\n",
       "    </tr>\n",
       "  </thead>\n",
       "  <tbody>\n",
       "    <tr>\n",
       "      <th>0</th>\n",
       "      <td>(Ortho Clin Diag) Vitros 5.1 FS Chem System</td>\n",
       "      <td>183</td>\n",
       "      <td>6.14</td>\n",
       "      <td>-0.16</td>\n",
       "      <td>2.3</td>\n",
       "      <td>GH2-04</td>\n",
       "      <td>6.30</td>\n",
       "      <td>2011</td>\n",
       "      <td>CAP</td>\n",
       "      <td>Fresh</td>\n",
       "      <td>Vitros</td>\n",
       "      <td>4.508</td>\n",
       "    </tr>\n",
       "    <tr>\n",
       "      <th>1</th>\n",
       "      <td>(Ortho Clin Diag) Vitros 5.1 FS Chem System</td>\n",
       "      <td>183</td>\n",
       "      <td>7.59</td>\n",
       "      <td>-0.01</td>\n",
       "      <td>2.5</td>\n",
       "      <td>GH2-05</td>\n",
       "      <td>7.60</td>\n",
       "      <td>2011</td>\n",
       "      <td>CAP</td>\n",
       "      <td>Fresh</td>\n",
       "      <td>Vitros</td>\n",
       "      <td>4.900</td>\n",
       "    </tr>\n",
       "    <tr>\n",
       "      <th>2</th>\n",
       "      <td>(Ortho Clin Diag) Vitros 5.1 FS Chem System</td>\n",
       "      <td>183</td>\n",
       "      <td>9.42</td>\n",
       "      <td>0.22</td>\n",
       "      <td>3</td>\n",
       "      <td>GH2-06</td>\n",
       "      <td>9.20</td>\n",
       "      <td>2011</td>\n",
       "      <td>CAP</td>\n",
       "      <td>Fresh</td>\n",
       "      <td>Vitros</td>\n",
       "      <td>5.880</td>\n",
       "    </tr>\n",
       "    <tr>\n",
       "      <th>3</th>\n",
       "      <td>(Ortho Clin Diag) Vitros 5.1 FS Chem System</td>\n",
       "      <td>210</td>\n",
       "      <td>5.42</td>\n",
       "      <td>-0.18</td>\n",
       "      <td>2.3</td>\n",
       "      <td>GH2-01</td>\n",
       "      <td>5.60</td>\n",
       "      <td>2012</td>\n",
       "      <td>CAP</td>\n",
       "      <td>Fresh</td>\n",
       "      <td>Vitros</td>\n",
       "      <td>4.508</td>\n",
       "    </tr>\n",
       "    <tr>\n",
       "      <th>4</th>\n",
       "      <td>(Ortho Clin Diag) Vitros 5.1 FS Chem System</td>\n",
       "      <td>210</td>\n",
       "      <td>9.34</td>\n",
       "      <td>-0.06</td>\n",
       "      <td>2.6</td>\n",
       "      <td>GH2-02</td>\n",
       "      <td>9.40</td>\n",
       "      <td>2012</td>\n",
       "      <td>CAP</td>\n",
       "      <td>Fresh</td>\n",
       "      <td>Vitros</td>\n",
       "      <td>5.096</td>\n",
       "    </tr>\n",
       "    <tr>\n",
       "      <th>...</th>\n",
       "      <td>...</td>\n",
       "      <td>...</td>\n",
       "      <td>...</td>\n",
       "      <td>...</td>\n",
       "      <td>...</td>\n",
       "      <td>...</td>\n",
       "      <td>...</td>\n",
       "      <td>...</td>\n",
       "      <td>...</td>\n",
       "      <td>...</td>\n",
       "      <td>...</td>\n",
       "      <td>...</td>\n",
       "    </tr>\n",
       "    <tr>\n",
       "      <th>4679</th>\n",
       "      <td>Vitros 5.1 FS/4600/5600/XT7600 Chem. Systems</td>\n",
       "      <td>204</td>\n",
       "      <td>9.08</td>\n",
       "      <td>0.22</td>\n",
       "      <td>3.1</td>\n",
       "      <td>GH5-01</td>\n",
       "      <td>8.86</td>\n",
       "      <td>2021</td>\n",
       "      <td>CAP</td>\n",
       "      <td>Fresh</td>\n",
       "      <td>Vitros</td>\n",
       "      <td>6.076</td>\n",
       "    </tr>\n",
       "    <tr>\n",
       "      <th>4680</th>\n",
       "      <td>Vitros 5.1 FS/4600/5600/XT7600 Chem. Systems</td>\n",
       "      <td>204</td>\n",
       "      <td>6.86</td>\n",
       "      <td>0.02</td>\n",
       "      <td>2.6</td>\n",
       "      <td>GH5-02</td>\n",
       "      <td>6.84</td>\n",
       "      <td>2021</td>\n",
       "      <td>CAP</td>\n",
       "      <td>Fresh</td>\n",
       "      <td>Vitros</td>\n",
       "      <td>5.096</td>\n",
       "    </tr>\n",
       "    <tr>\n",
       "      <th>4681</th>\n",
       "      <td>Vitros 5.1 FS/4600/5600/XT7600 Chem. Systems</td>\n",
       "      <td>204</td>\n",
       "      <td>9.4</td>\n",
       "      <td>0.01</td>\n",
       "      <td>3.4</td>\n",
       "      <td>GH5-03</td>\n",
       "      <td>9.39</td>\n",
       "      <td>2021</td>\n",
       "      <td>CAP</td>\n",
       "      <td>Fresh</td>\n",
       "      <td>Vitros</td>\n",
       "      <td>6.664</td>\n",
       "    </tr>\n",
       "    <tr>\n",
       "      <th>4682</th>\n",
       "      <td>Vitros 5.1 FS/4600/5600/XT7600 Chem. Systems</td>\n",
       "      <td>204</td>\n",
       "      <td>6.14</td>\n",
       "      <td>0.01</td>\n",
       "      <td>2.5</td>\n",
       "      <td>GH5-04</td>\n",
       "      <td>6.13</td>\n",
       "      <td>2021</td>\n",
       "      <td>CAP</td>\n",
       "      <td>Fresh</td>\n",
       "      <td>Vitros</td>\n",
       "      <td>4.900</td>\n",
       "    </tr>\n",
       "    <tr>\n",
       "      <th>4683</th>\n",
       "      <td>Vitros 5.1 FS/4600/5600/XT7600 Chem. Systems</td>\n",
       "      <td>204</td>\n",
       "      <td>7.59</td>\n",
       "      <td>0.07</td>\n",
       "      <td>2.8</td>\n",
       "      <td>GH5-05</td>\n",
       "      <td>7.52</td>\n",
       "      <td>2021</td>\n",
       "      <td>CAP</td>\n",
       "      <td>Fresh</td>\n",
       "      <td>Vitros</td>\n",
       "      <td>5.488</td>\n",
       "    </tr>\n",
       "  </tbody>\n",
       "</table>\n",
       "<p>4058 rows × 12 columns</p>\n",
       "</div>"
      ],
      "text/plain": [
       "                                       Method name N (no. labs)   Mean   Bias  \\\n",
       "0      (Ortho Clin Diag) Vitros 5.1 FS Chem System          183  6.14   -0.16   \n",
       "1      (Ortho Clin Diag) Vitros 5.1 FS Chem System          183  7.59   -0.01   \n",
       "2      (Ortho Clin Diag) Vitros 5.1 FS Chem System          183  9.42    0.22   \n",
       "3      (Ortho Clin Diag) Vitros 5.1 FS Chem System          210   5.42  -0.18   \n",
       "4      (Ortho Clin Diag) Vitros 5.1 FS Chem System          210   9.34  -0.06   \n",
       "...                                            ...          ...    ...    ...   \n",
       "4679  Vitros 5.1 FS/4600/5600/XT7600 Chem. Systems          204   9.08   0.22   \n",
       "4680  Vitros 5.1 FS/4600/5600/XT7600 Chem. Systems          204   6.86   0.02   \n",
       "4681  Vitros 5.1 FS/4600/5600/XT7600 Chem. Systems          204    9.4   0.01   \n",
       "4682  Vitros 5.1 FS/4600/5600/XT7600 Chem. Systems          204   6.14   0.01   \n",
       "4683  Vitros 5.1 FS/4600/5600/XT7600 Chem. Systems          204   7.59   0.07   \n",
       "\n",
       "       CV  Sample  Reference Value  Year Source (CAP/EurA1c)  \\\n",
       "0     2.3  GH2-04             6.30  2011                 CAP   \n",
       "1     2.5  GH2-05             7.60  2011                 CAP   \n",
       "2       3  GH2-06             9.20  2011                 CAP   \n",
       "3     2.3  GH2-01             5.60  2012                 CAP   \n",
       "4     2.6  GH2-02             9.40  2012                 CAP   \n",
       "...   ...     ...              ...   ...                 ...   \n",
       "4679  3.1  GH5-01             8.86  2021                 CAP   \n",
       "4680  2.6  GH5-02             6.84  2021                 CAP   \n",
       "4681  3.4  GH5-03             9.39  2021                 CAP   \n",
       "4682  2.5  GH5-04             6.13  2021                 CAP   \n",
       "4683  2.8  GH5-05             7.52  2021                 CAP   \n",
       "\n",
       "     Type (Fresh/frozen) Manufacturer  Total Error  \n",
       "0                  Fresh       Vitros        4.508  \n",
       "1                  Fresh       Vitros        4.900  \n",
       "2                  Fresh       Vitros        5.880  \n",
       "3                  Fresh       Vitros        4.508  \n",
       "4                  Fresh       Vitros        5.096  \n",
       "...                  ...          ...          ...  \n",
       "4679               Fresh       Vitros        6.076  \n",
       "4680               Fresh       Vitros        5.096  \n",
       "4681               Fresh       Vitros        6.664  \n",
       "4682               Fresh       Vitros        4.900  \n",
       "4683               Fresh       Vitros        5.488  \n",
       "\n",
       "[4058 rows x 12 columns]"
      ]
     },
     "execution_count": 70,
     "metadata": {},
     "output_type": "execute_result"
    }
   ],
   "source": [
    "df.isna().sum()\n",
    "#Bias, CV? Leeg -> Geen total error\n",
    "df.dropna()"
   ]
  },
  {
   "cell_type": "code",
   "execution_count": 71,
   "metadata": {},
   "outputs": [
    {
     "data": {
      "text/html": [
       "<div>\n",
       "<style scoped>\n",
       "    .dataframe tbody tr th:only-of-type {\n",
       "        vertical-align: middle;\n",
       "    }\n",
       "\n",
       "    .dataframe tbody tr th {\n",
       "        vertical-align: top;\n",
       "    }\n",
       "\n",
       "    .dataframe thead th {\n",
       "        text-align: right;\n",
       "    }\n",
       "</style>\n",
       "<table border=\"1\" class=\"dataframe\">\n",
       "  <thead>\n",
       "    <tr style=\"text-align: right;\">\n",
       "      <th></th>\n",
       "      <th>count</th>\n",
       "      <th>mean</th>\n",
       "      <th>std</th>\n",
       "      <th>min</th>\n",
       "      <th>25%</th>\n",
       "      <th>50%</th>\n",
       "      <th>75%</th>\n",
       "      <th>max</th>\n",
       "    </tr>\n",
       "  </thead>\n",
       "  <tbody>\n",
       "    <tr>\n",
       "      <th>Reference Value</th>\n",
       "      <td>4656.0</td>\n",
       "      <td>7.361971</td>\n",
       "      <td>1.864492</td>\n",
       "      <td>4.92</td>\n",
       "      <td>5.80</td>\n",
       "      <td>7.100</td>\n",
       "      <td>8.65</td>\n",
       "      <td>13.000</td>\n",
       "    </tr>\n",
       "    <tr>\n",
       "      <th>Year</th>\n",
       "      <td>4684.0</td>\n",
       "      <td>2015.568531</td>\n",
       "      <td>4.261448</td>\n",
       "      <td>2006.00</td>\n",
       "      <td>2013.00</td>\n",
       "      <td>2017.000</td>\n",
       "      <td>2019.00</td>\n",
       "      <td>2021.000</td>\n",
       "    </tr>\n",
       "    <tr>\n",
       "      <th>Total Error</th>\n",
       "      <td>4682.0</td>\n",
       "      <td>5.759066</td>\n",
       "      <td>2.980117</td>\n",
       "      <td>0.00</td>\n",
       "      <td>3.92</td>\n",
       "      <td>5.096</td>\n",
       "      <td>6.86</td>\n",
       "      <td>28.216</td>\n",
       "    </tr>\n",
       "  </tbody>\n",
       "</table>\n",
       "</div>"
      ],
      "text/plain": [
       "                  count         mean       std      min      25%       50%  \\\n",
       "Reference Value  4656.0     7.361971  1.864492     4.92     5.80     7.100   \n",
       "Year             4684.0  2015.568531  4.261448  2006.00  2013.00  2017.000   \n",
       "Total Error      4682.0     5.759066  2.980117     0.00     3.92     5.096   \n",
       "\n",
       "                     75%       max  \n",
       "Reference Value     8.65    13.000  \n",
       "Year             2019.00  2021.000  \n",
       "Total Error         6.86    28.216  "
      ]
     },
     "execution_count": 71,
     "metadata": {},
     "output_type": "execute_result"
    }
   ],
   "source": [
    "df.describe().transpose()"
   ]
  },
  {
   "cell_type": "code",
   "execution_count": 72,
   "metadata": {},
   "outputs": [
    {
     "data": {
      "text/plain": [
       "Siemens                       982\n",
       "Bio-Rad                       788\n",
       "Roche                         618\n",
       "Beckman Coulter               384\n",
       "Tosoh                         349\n",
       "Abbott                        310\n",
       "Sebia                         203\n",
       "Trinity Biotech               188\n",
       "Vitros                        162\n",
       "Alere                         121\n",
       "Arkray                         95\n",
       "Axis-Shield                    57\n",
       "Roche Diagnostics              56\n",
       "Menarini                       52\n",
       "Primus                         42\n",
       "Roche/Hitachi                  42\n",
       "Bayer                          36\n",
       "Olympus                        30\n",
       "Metrika                        30\n",
       "Dade Behring                   24\n",
       "Synchron                       24\n",
       "Not specified                  20\n",
       "JEOL                           15\n",
       "Bayer/Metrika                  15\n",
       "Medinor                         6\n",
       "HemoCue                         6\n",
       "Lifotronic                      4\n",
       "EKF Diagnostics                 4\n",
       "Sysmex                          4\n",
       "Thermo Scientific               4\n",
       "BioMajesty                      4\n",
       "Pointe Scientific               3\n",
       "Ortho Clinical Diagnostics      2\n",
       "Mindray                         2\n",
       "Diasys                          2\n",
       "Name: Manufacturer, dtype: int64"
      ]
     },
     "execution_count": 72,
     "metadata": {},
     "output_type": "execute_result"
    }
   ],
   "source": [
    "#Hoeveel metingen per merk\n",
    "df[\"Manufacturer\"].value_counts()\n"
   ]
  },
  {
   "cell_type": "code",
   "execution_count": 73,
   "metadata": {},
   "outputs": [
    {
     "data": {
      "text/plain": [
       "35"
      ]
     },
     "execution_count": 73,
     "metadata": {},
     "output_type": "execute_result"
    }
   ],
   "source": [
    "#Hoeveel unieke merken\n",
    "df[\"Manufacturer\"].nunique()"
   ]
  },
  {
   "cell_type": "markdown",
   "metadata": {},
   "source": [
    "# Data preparation"
   ]
  },
  {
   "cell_type": "code",
   "execution_count": 74,
   "metadata": {},
   "outputs": [
    {
     "data": {
      "text/plain": [
       "Manufacturer\n",
       "Abbott                        310\n",
       "Alere                         121\n",
       "Arkray                         95\n",
       "Axis-Shield                    57\n",
       "Bayer                          36\n",
       "Bayer/Metrika                  15\n",
       "Beckman Coulter               384\n",
       "Bio-Rad                       788\n",
       "BioMajesty                      4\n",
       "Dade Behring                   24\n",
       "Diasys                          2\n",
       "EKF Diagnostics                 4\n",
       "HemoCue                         6\n",
       "JEOL                           15\n",
       "Lifotronic                      4\n",
       "Medinor                         6\n",
       "Menarini                       52\n",
       "Metrika                        30\n",
       "Mindray                         2\n",
       "Not specified                  20\n",
       "Olympus                        30\n",
       "Ortho Clinical Diagnostics      2\n",
       "Pointe Scientific               3\n",
       "Primus                         42\n",
       "Roche                         618\n",
       "Roche Diagnostics              56\n",
       "Roche/Hitachi                  42\n",
       "Sebia                         203\n",
       "Siemens                       982\n",
       "Synchron                       24\n",
       "Sysmex                          4\n",
       "Thermo Scientific               4\n",
       "Tosoh                         349\n",
       "Trinity Biotech               188\n",
       "Vitros                        162\n",
       "dtype: int64"
      ]
     },
     "execution_count": 74,
     "metadata": {},
     "output_type": "execute_result"
    }
   ],
   "source": [
    "manufacturers = df.groupby(\"Manufacturer\")\n",
    "manufacturers.size()"
   ]
  },
  {
   "cell_type": "code",
   "execution_count": 75,
   "metadata": {},
   "outputs": [
    {
     "data": {
      "text/plain": [
       "Index(['Method name', 'N (no. labs)', 'Mean', 'Bias', 'CV', 'Sample',\n",
       "       'Reference Value', 'Year', 'Source (CAP/EurA1c)', 'Type (Fresh/frozen)',\n",
       "       'Manufacturer', 'Total'],\n",
       "      dtype='object')"
      ]
     },
     "execution_count": 75,
     "metadata": {},
     "output_type": "execute_result"
    }
   ],
   "source": [
    "#no space between columns names for predictions\n",
    "df.columns = df.columns.str.replace('Total Error', 'Total')\n",
    "df.columns"
   ]
  },
  {
   "cell_type": "code",
   "execution_count": 76,
   "metadata": {},
   "outputs": [],
   "source": [
    "list_top10 = df['Manufacturer'].value_counts()[:10].index.tolist()\n",
    "top10_manufacturers = df.loc[df['Manufacturer'].isin(list_top10)]\n",
    "top10_manufacturers['Manufacturer'].value_counts()\n",
    "top10_manufacturers = top10_manufacturers.dropna()"
   ]
  },
  {
   "cell_type": "code",
   "execution_count": 77,
   "metadata": {},
   "outputs": [
    {
     "data": {
      "text/plain": [
       "(918, 12)"
      ]
     },
     "execution_count": 77,
     "metadata": {},
     "output_type": "execute_result"
    }
   ],
   "source": [
    "Siemens = top10_manufacturers[top10_manufacturers['Manufacturer'] == 'Siemens']\n",
    "Siemens.shape"
   ]
  },
  {
   "cell_type": "code",
   "execution_count": 78,
   "metadata": {},
   "outputs": [
    {
     "name": "stdout",
     "output_type": "stream",
     "text": [
      "<class 'pandas.core.frame.DataFrame'>\n",
      "Int64Index: 3679 entries, 0 to 4683\n",
      "Data columns (total 12 columns):\n",
      " #   Column               Non-Null Count  Dtype  \n",
      "---  ------               --------------  -----  \n",
      " 0   Method name          3679 non-null   object \n",
      " 1   N (no. labs)         3679 non-null   object \n",
      " 2   Mean                 3679 non-null   object \n",
      " 3   Bias                 3679 non-null   object \n",
      " 4   CV                   3679 non-null   object \n",
      " 5   Sample               3679 non-null   object \n",
      " 6   Reference Value      3679 non-null   float64\n",
      " 7   Year                 3679 non-null   int64  \n",
      " 8   Source (CAP/EurA1c)  3679 non-null   object \n",
      " 9   Type (Fresh/frozen)  3679 non-null   object \n",
      " 10  Manufacturer         3679 non-null   object \n",
      " 11  Total                3679 non-null   float64\n",
      "dtypes: float64(2), int64(1), object(9)\n",
      "memory usage: 373.6+ KB\n"
     ]
    }
   ],
   "source": [
    "top10_manufacturers.info()"
   ]
  },
  {
   "cell_type": "code",
   "execution_count": 79,
   "metadata": {},
   "outputs": [],
   "source": [
    "# Plot all total error of manufacturers\n",
    "# manufacturers.plot(x='Manufacturer',y='Total Error')"
   ]
  },
  {
   "cell_type": "code",
   "execution_count": 80,
   "metadata": {},
   "outputs": [
    {
     "data": {
      "text/plain": [
       "<AxesSubplot:xlabel='Year', ylabel='Total'>"
      ]
     },
     "execution_count": 80,
     "metadata": {},
     "output_type": "execute_result"
    },
    {
     "data": {
      "image/png": "[encoded data removed]",
      "text/plain": [
       "<Figure size 432x288 with 1 Axes>"
      ]
     },
     "metadata": {
      "needs_background": "light"
     },
     "output_type": "display_data"
    }
   ],
   "source": [
    "sns.lineplot(x=\"Year\", y=\"Total\",\n",
    "             hue=\"Manufacturer\", \n",
    "             data=top10_manufacturers)"
   ]
  },
  {
   "cell_type": "markdown",
   "metadata": {},
   "source": [
    "# Modeling"
   ]
  },
  {
   "cell_type": "code",
   "execution_count": 81,
   "metadata": {},
   "outputs": [
    {
     "name": "stdout",
     "output_type": "stream",
     "text": [
      "                            OLS Regression Results                            \n",
      "==============================================================================\n",
      "Dep. Variable:                   Year   R-squared:                       0.011\n",
      "Model:                            OLS   Adj. R-squared:                  0.010\n",
      "Method:                 Least Squares   F-statistic:                     6.783\n",
      "Date:                Fri, 20 May 2022   Prob (F-statistic):            0.00943\n",
      "Time:                        06:00:58   Log-Likelihood:                -1560.5\n",
      "No. Observations:                 596   AIC:                             3125.\n",
      "Df Residuals:                     594   BIC:                             3134.\n",
      "Df Model:                           1                                         \n",
      "Covariance Type:            nonrobust                                         \n",
      "==============================================================================\n",
      "                 coef    std err          t      P>|t|      [0.025      0.975]\n",
      "------------------------------------------------------------------------------\n",
      "Intercept   2016.5359      0.380   5301.067      0.000    2015.789    2017.283\n",
      "Total         -0.1486      0.057     -2.604      0.009      -0.261      -0.037\n",
      "==============================================================================\n",
      "Omnibus:                      141.987   Durbin-Watson:                   1.984\n",
      "Prob(Omnibus):                  0.000   Jarque-Bera (JB):               31.365\n",
      "Skew:                          -0.233   Prob(JB):                     1.55e-07\n",
      "Kurtosis:                       1.977   Cond. No.                         19.0\n",
      "==============================================================================\n",
      "\n",
      "Notes:\n",
      "[1] Standard Errors assume that the covariance matrix of the errors is correctly specified.\n"
     ]
    }
   ],
   "source": [
    "#model regressie trainen en testen\n",
    "#R2 zegt iets over de bruikbaarheid van je model\n",
    "traindata, testdata = train_test_split(Siemens, train_size=0.65, test_size=0.35, random_state=42)\n",
    "\n",
    "#eerst afhankelijke variabele, dus hierbij 'Manufacturer'\n",
    "mod1 = ols(formula='Year ~ Total', data=traindata).fit()\n",
    "print(mod1.summary())\n",
    "\n"
   ]
  },
  {
   "cell_type": "code",
   "execution_count": 82,
   "metadata": {},
   "outputs": [],
   "source": [
    "# traindata, testdata = train_test_split(df, train_size=0.65, test_size=0.35, random_state=42)\n",
    "df=df.dropna()\n",
    "X_train, X_test, Y_train, Y_test = train_test_split(df[\"Year\"].values, df[\"Manufacturer\"].values, test_size = .20, random_state = 40)\n",
    "\n",
    "\n",
    "# for name, data in manufacturers:\n",
    "#     model=ols(\"Manufacturer ~ Total\", data=traindata)\n",
    "#     # results = model.fit(traindata, testdata)\n",
    "#     # predicted=results.predict(testdata) \n",
    "#     results =model.fit(X_train, Y_train)\n",
    "#     predicted = results.predict(X_test)\n",
    "#     residuals = testdata['Manufacturer'] - predicted\n",
    "#     residual_data = pd.DataFrame({'Manufacturer': testdata['Manufacturer'], 'Total': testdata['Total']})\n",
    "#     print(residual_data)\n",
    "#     sns.lineplot(residual_data,x='Manufacturer', y='Total')\n",
    "\n",
    "#https://machinelearningmastery.com/make-predictions-scikit-learn/\n",
    "    \n"
   ]
  },
  {
   "cell_type": "code",
   "execution_count": 83,
   "metadata": {},
   "outputs": [
    {
     "name": "stdout",
     "output_type": "stream",
     "text": [
      "P-value:  0.29832513292115415\n"
     ]
    },
    {
     "name": "stderr",
     "output_type": "stream",
     "text": [
      "C:\\Users\\femke\\AppData\\Roaming\\Python\\Python310\\site-packages\\statsmodels\\graphics\\tsaplots.py:348: FutureWarning: The default method 'yw' can produce PACF values outside of the [-1,1] interval. After 0.13, the default will change tounadjusted Yule-Walker ('ywm'). You can use this method now by setting method='ywm'.\n",
      "  warnings.warn(\n",
      "C:\\Users\\femke\\AppData\\Roaming\\Python\\Python310\\site-packages\\statsmodels\\graphics\\tsaplots.py:348: FutureWarning: The default method 'yw' can produce PACF values outside of the [-1,1] interval. After 0.13, the default will change tounadjusted Yule-Walker ('ywm'). You can use this method now by setting method='ywm'.\n",
      "  warnings.warn(\n"
     ]
    },
    {
     "name": "stdout",
     "output_type": "stream",
     "text": [
      "P-value:  0.0005223415649840082\n",
      "P-value:  0.015706246483592756\n",
      "P-value:  1.3298305329328812e-05\n"
     ]
    },
    {
     "name": "stderr",
     "output_type": "stream",
     "text": [
      "C:\\Users\\femke\\AppData\\Roaming\\Python\\Python310\\site-packages\\statsmodels\\graphics\\tsaplots.py:348: FutureWarning: The default method 'yw' can produce PACF values outside of the [-1,1] interval. After 0.13, the default will change tounadjusted Yule-Walker ('ywm'). You can use this method now by setting method='ywm'.\n",
      "  warnings.warn(\n",
      "C:\\Users\\femke\\AppData\\Roaming\\Python\\Python310\\site-packages\\statsmodels\\graphics\\tsaplots.py:348: FutureWarning: The default method 'yw' can produce PACF values outside of the [-1,1] interval. After 0.13, the default will change tounadjusted Yule-Walker ('ywm'). You can use this method now by setting method='ywm'.\n",
      "  warnings.warn(\n"
     ]
    },
    {
     "name": "stdout",
     "output_type": "stream",
     "text": [
      "P-value:  5.311706454667253e-05\n",
      "P-value:  0.0001897961178381753\n",
      "P-value:  1.263902508743313e-13\n"
     ]
    },
    {
     "name": "stderr",
     "output_type": "stream",
     "text": [
      "C:\\Users\\femke\\AppData\\Roaming\\Python\\Python310\\site-packages\\statsmodels\\graphics\\tsaplots.py:348: FutureWarning: The default method 'yw' can produce PACF values outside of the [-1,1] interval. After 0.13, the default will change tounadjusted Yule-Walker ('ywm'). You can use this method now by setting method='ywm'.\n",
      "  warnings.warn(\n",
      "C:\\Users\\femke\\AppData\\Roaming\\Python\\Python310\\site-packages\\statsmodels\\graphics\\tsaplots.py:348: FutureWarning: The default method 'yw' can produce PACF values outside of the [-1,1] interval. After 0.13, the default will change tounadjusted Yule-Walker ('ywm'). You can use this method now by setting method='ywm'.\n",
      "  warnings.warn(\n",
      "C:\\Users\\femke\\AppData\\Roaming\\Python\\Python310\\site-packages\\statsmodels\\graphics\\tsaplots.py:348: FutureWarning: The default method 'yw' can produce PACF values outside of the [-1,1] interval. After 0.13, the default will change tounadjusted Yule-Walker ('ywm'). You can use this method now by setting method='ywm'.\n",
      "  warnings.warn(\n"
     ]
    },
    {
     "name": "stdout",
     "output_type": "stream",
     "text": [
      "P-value:  0.004083164152009766\n",
      "P-value:  0.03195258146417273\n",
      "P-value:  2.0308767349472093e-05\n"
     ]
    },
    {
     "name": "stderr",
     "output_type": "stream",
     "text": [
      "C:\\Users\\femke\\AppData\\Roaming\\Python\\Python310\\site-packages\\statsmodels\\graphics\\tsaplots.py:348: FutureWarning: The default method 'yw' can produce PACF values outside of the [-1,1] interval. After 0.13, the default will change tounadjusted Yule-Walker ('ywm'). You can use this method now by setting method='ywm'.\n",
      "  warnings.warn(\n",
      "C:\\Users\\femke\\AppData\\Roaming\\Python\\Python310\\site-packages\\statsmodels\\graphics\\tsaplots.py:348: FutureWarning: The default method 'yw' can produce PACF values outside of the [-1,1] interval. After 0.13, the default will change tounadjusted Yule-Walker ('ywm'). You can use this method now by setting method='ywm'.\n",
      "  warnings.warn(\n",
      "C:\\Users\\femke\\AppData\\Roaming\\Python\\Python310\\site-packages\\statsmodels\\graphics\\tsaplots.py:348: FutureWarning: The default method 'yw' can produce PACF values outside of the [-1,1] interval. After 0.13, the default will change tounadjusted Yule-Walker ('ywm'). You can use this method now by setting method='ywm'.\n",
      "  warnings.warn(\n"
     ]
    },
    {
     "data": {
      "image/png": "[encoded data removed]",
      "text/plain": [
       "<Figure size 432x288 with 1 Axes>"
      ]
     },
     "metadata": {
      "needs_background": "light"
     },
     "output_type": "display_data"
    },
    {
     "data": {
      "image/png": "[encoded data removed]",
      "text/plain": [
       "<Figure size 432x288 with 1 Axes>"
      ]
     },
     "metadata": {
      "needs_background": "light"
     },
     "output_type": "display_data"
    },
    {
     "data": {
      "image/png": "[encoded data removed]",
      "text/plain": [
       "<Figure size 432x288 with 1 Axes>"
      ]
     },
     "metadata": {
      "needs_background": "light"
     },
     "output_type": "display_data"
    },
    {
     "data": {
      "image/png": "[encoded data removed]",
      "text/plain": [
       "<Figure size 432x288 with 1 Axes>"
      ]
     },
     "metadata": {
      "needs_background": "light"
     },
     "output_type": "display_data"
    },
    {
     "data": {
      "image/png": "[encoded data removed]",
      "text/plain": [
       "<Figure size 432x288 with 1 Axes>"
      ]
     },
     "metadata": {
      "needs_background": "light"
     },
     "output_type": "display_data"
    },
    {
     "data": {
      "image/png": "[encoded data removed]",
      "text/plain": [
       "<Figure size 432x288 with 1 Axes>"
      ]
     },
     "metadata": {
      "needs_background": "light"
     },
     "output_type": "display_data"
    },
    {
     "data": {
      "image/png": "[encoded data removed]",
      "text/plain": [
       "<Figure size 432x288 with 1 Axes>"
      ]
     },
     "metadata": {
      "needs_background": "light"
     },
     "output_type": "display_data"
    },
    {
     "data": {
      "image/png": "[encoded data removed]",
      "text/plain": [
       "<Figure size 432x288 with 1 Axes>"
      ]
     },
     "metadata": {
      "needs_background": "light"
     },
     "output_type": "display_data"
    },
    {
     "data": {
      "image/png": "[encoded data removed]",
      "text/plain": [
       "<Figure size 432x288 with 1 Axes>"
      ]
     },
     "metadata": {
      "needs_background": "light"
     },
     "output_type": "display_data"
    },
    {
     "data": {
      "image/png": "[encoded data removed]",
      "text/plain": [
       "<Figure size 432x288 with 1 Axes>"
      ]
     },
     "metadata": {
      "needs_background": "light"
     },
     "output_type": "display_data"
    }
   ],
   "source": [
    "#\n",
    "# Check for stationarity of the time-series data\n",
    "# We will look for p-value. In case, p-value is less than 0.05, the time series\n",
    "# data can said to have stationarity\n",
    "#\n",
    "from statsmodels.tsa.stattools import adfuller\n",
    "from statsmodels.graphics.tsaplots import plot_pacf\n",
    "manufacturers = top10_manufacturers.groupby(\"Manufacturer\")\n",
    "\n",
    "for name, data in manufacturers:\n",
    "    \n",
    "    df_stationarityTest = adfuller(data['Total'], autolag='AIC')\n",
    "    # Check the value of p\n",
    "    print(\"P-value: \", df_stationarityTest[1])\n",
    "    pacf = plot_pacf(data['Total'], title=name)"
   ]
  },
  {
   "cell_type": "code",
   "execution_count": 88,
   "metadata": {},
   "outputs": [
    {
     "ename": "TypeError",
     "evalue": "AutoReg.__init__() missing 1 required positional argument: 'lags'",
     "output_type": "error",
     "traceback": [
      "\u001b[1;31m---------------------------------------------------------------------------\u001b[0m",
      "\u001b[1;31mTypeError\u001b[0m                                 Traceback (most recent call last)",
      "\u001b[1;32mc:\\Users\\femke\\source\\repos\\Predictions\\Prediction._analyse.ipynb Cell 23'\u001b[0m in \u001b[0;36m<cell line: 3>\u001b[1;34m()\u001b[0m\n\u001b[0;32m      <a href='vscode-notebook-cell:/c%3A/Users/femke/source/repos/Predictions/Prediction._analyse.ipynb#ch0000021?line=4'>5</a>\u001b[0m test_data \u001b[39m=\u001b[39m data[\u001b[39m'\u001b[39m\u001b[39mTotal\u001b[39m\u001b[39m'\u001b[39m][\u001b[39mlen\u001b[39m(df)\u001b[39m-\u001b[39m\u001b[39m100\u001b[39m:]\n\u001b[0;32m      <a href='vscode-notebook-cell:/c%3A/Users/femke/source/repos/Predictions/Prediction._analyse.ipynb#ch0000021?line=5'>6</a>\u001b[0m \u001b[39m#\u001b[39;00m\n\u001b[0;32m      <a href='vscode-notebook-cell:/c%3A/Users/femke/source/repos/Predictions/Prediction._analyse.ipynb#ch0000021?line=6'>7</a>\u001b[0m \u001b[39m# Instantiate and fit the AR model with training data\u001b[39;00m\n\u001b[0;32m      <a href='vscode-notebook-cell:/c%3A/Users/femke/source/repos/Predictions/Prediction._analyse.ipynb#ch0000021?line=7'>8</a>\u001b[0m \u001b[39m#\u001b[39;00m\n\u001b[1;32m----> <a href='vscode-notebook-cell:/c%3A/Users/femke/source/repos/Predictions/Prediction._analyse.ipynb#ch0000021?line=8'>9</a>\u001b[0m ar_model \u001b[39m=\u001b[39m AutoReg(train_data)\u001b[39m.\u001b[39mfit()\n\u001b[0;32m     <a href='vscode-notebook-cell:/c%3A/Users/femke/source/repos/Predictions/Prediction._analyse.ipynb#ch0000021?line=9'>10</a>\u001b[0m \u001b[39m#\u001b[39;00m\n\u001b[0;32m     <a href='vscode-notebook-cell:/c%3A/Users/femke/source/repos/Predictions/Prediction._analyse.ipynb#ch0000021?line=10'>11</a>\u001b[0m \u001b[39m# Print Summary\u001b[39;00m\n\u001b[0;32m     <a href='vscode-notebook-cell:/c%3A/Users/femke/source/repos/Predictions/Prediction._analyse.ipynb#ch0000021?line=11'>12</a>\u001b[0m \u001b[39m#\u001b[39;00m\n\u001b[0;32m     <a href='vscode-notebook-cell:/c%3A/Users/femke/source/repos/Predictions/Prediction._analyse.ipynb#ch0000021?line=12'>13</a>\u001b[0m \u001b[39mprint\u001b[39m(ar_model\u001b[39m.\u001b[39msummary())\n",
      "\u001b[1;31mTypeError\u001b[0m: AutoReg.__init__() missing 1 required positional argument: 'lags'"
     ]
    }
   ],
   "source": [
    "from statsmodels.tsa.ar_model import AutoReg\n",
    "# Create training and test data\n",
    "for name, data in manufacturers:\n",
    "    train_data = data['Total'][:len(df)-100]\n",
    "    test_data = data['Total'][len(df)-100:]\n",
    "    #\n",
    "    # Instantiate and fit the AR model with training data\n",
    "    #\n",
    "    ar_model = AutoReg(train_data, lags=1).fit()\n",
    "    #\n",
    "    # Print Summary\n",
    "    #\n",
    "    print(ar_model.summary())\n",
    "    \n",
    "\n"
   ]
  },
  {
   "cell_type": "code",
   "execution_count": 85,
   "metadata": {},
   "outputs": [
    {
     "name": "stderr",
     "output_type": "stream",
     "text": [
      "C:\\Users\\femke\\AppData\\Roaming\\Python\\Python310\\site-packages\\statsmodels\\tsa\\base\\tsa_model.py:834: ValueWarning: No supported index is available. Prediction results will be given with an integer index beginning at `start`.\n",
      "  return get_prediction_index(\n",
      "C:\\Users\\femke\\AppData\\Roaming\\Python\\Python310\\site-packages\\statsmodels\\tsa\\deterministic.py:302: UserWarning: Only PeriodIndexes, DatetimeIndexes with a frequency set, RangesIndexes, and Index with a unit increment support extending. The index is set will contain the position relative to the data length.\n",
      "  fcast_index = self._extend_index(index, steps, forecast_index)\n"
     ]
    },
    {
     "data": {
      "text/plain": [
       "[<matplotlib.lines.Line2D at 0x2012c3e6b90>]"
      ]
     },
     "execution_count": 85,
     "metadata": {},
     "output_type": "execute_result"
    },
    {
     "data": {
      "image/png": "[encoded data removed]",
      "text/plain": [
       "<Figure size 432x288 with 1 Axes>"
      ]
     },
     "metadata": {
      "needs_background": "light"
     },
     "output_type": "display_data"
    }
   ],
   "source": [
    "pred = ar_model.predict(start=len(train_data), end=(len(df)-1), dynamic=False)\n",
    "#\n",
    "# Plot the prediction vs test data\n",
    "#\n",
    "from matplotlib import pyplot\n",
    "pyplot.plot(pred)\n",
    "pyplot.plot(test_data, color='red')"
   ]
  },
  {
   "cell_type": "code",
   "execution_count": 86,
   "metadata": {},
   "outputs": [
    {
     "name": "stdout",
     "output_type": "stream",
     "text": [
      "243.712260740744\n",
      "243.712260740744\n",
      "243.712260740744\n",
      "243.712260740744\n",
      "243.712260740744\n",
      "243.712260740744\n",
      "243.712260740744\n",
      "243.712260740744\n",
      "243.712260740744\n",
      "243.712260740744\n"
     ]
    },
    {
     "ename": "ValueError",
     "evalue": "Unrecognized character T in format string",
     "output_type": "error",
     "traceback": [
      "\u001b[1;31m---------------------------------------------------------------------------\u001b[0m",
      "\u001b[1;31mValueError\u001b[0m                                Traceback (most recent call last)",
      "\u001b[1;32mc:\\Users\\femke\\source\\repos\\Predictions\\Prediction._analyse.ipynb Cell 25'\u001b[0m in \u001b[0;36m<cell line: 18>\u001b[1;34m()\u001b[0m\n\u001b[0;32m     <a href='vscode-notebook-cell:/c%3A/Users/femke/source/repos/Predictions/Prediction._analyse.ipynb#ch0000024?line=14'>15</a>\u001b[0m     \u001b[39mfrom\u001b[39;00m \u001b[39mmatplotlib\u001b[39;00m \u001b[39mimport\u001b[39;00m pyplot\n\u001b[0;32m     <a href='vscode-notebook-cell:/c%3A/Users/femke/source/repos/Predictions/Prediction._analyse.ipynb#ch0000024?line=17'>18</a>\u001b[0m \u001b[39mfor\u001b[39;00m name, data \u001b[39min\u001b[39;00m manufacturers:\n\u001b[0;32m     <a href='vscode-notebook-cell:/c%3A/Users/femke/source/repos/Predictions/Prediction._analyse.ipynb#ch0000024?line=18'>19</a>\u001b[0m     \u001b[39m# line plot for Total Error with seaborn\u001b[39;00m\n\u001b[0;32m     <a href='vscode-notebook-cell:/c%3A/Users/femke/source/repos/Predictions/Prediction._analyse.ipynb#ch0000024?line=19'>20</a>\u001b[0m     \u001b[39m# if name == \"Abbott\":\u001b[39;00m\n\u001b[1;32m   (...)\u001b[0m\n\u001b[0;32m     <a href='vscode-notebook-cell:/c%3A/Users/femke/source/repos/Predictions/Prediction._analyse.ipynb#ch0000024?line=23'>24</a>\u001b[0m         \u001b[39m# l.set_title(name)\u001b[39;00m\n\u001b[0;32m     <a href='vscode-notebook-cell:/c%3A/Users/femke/source/repos/Predictions/Prediction._analyse.ipynb#ch0000024?line=24'>25</a>\u001b[0m         \u001b[39m# plt.show()\u001b[39;00m\n\u001b[1;32m---> <a href='vscode-notebook-cell:/c%3A/Users/femke/source/repos/Predictions/Prediction._analyse.ipynb#ch0000024?line=25'>26</a>\u001b[0m         pyplot\u001b[39m.\u001b[39;49mplot(\u001b[39m'\u001b[39;49m\u001b[39mYear\u001b[39;49m\u001b[39m'\u001b[39;49m,\u001b[39m'\u001b[39;49m\u001b[39mTotal Error\u001b[39;49m\u001b[39m'\u001b[39;49m,data\u001b[39m=\u001b[39;49mtempdf, color\u001b[39m=\u001b[39;49m\u001b[39m'\u001b[39;49m\u001b[39mred\u001b[39;49m\u001b[39m'\u001b[39;49m)\n\u001b[0;32m     <a href='vscode-notebook-cell:/c%3A/Users/femke/source/repos/Predictions/Prediction._analyse.ipynb#ch0000024?line=26'>27</a>\u001b[0m         pyplot\u001b[39m.\u001b[39mplot(\u001b[39m'\u001b[39m\u001b[39mYear\u001b[39m\u001b[39m'\u001b[39m,\u001b[39m'\u001b[39m\u001b[39mTotal Error\u001b[39m\u001b[39m'\u001b[39m, data\u001b[39m=\u001b[39mregressor\u001b[39m.\u001b[39mintercept_)\n",
      "File \u001b[1;32m~\\AppData\\Roaming\\Python\\Python310\\site-packages\\matplotlib\\pyplot.py:2757\u001b[0m, in \u001b[0;36mplot\u001b[1;34m(scalex, scaley, data, *args, **kwargs)\u001b[0m\n\u001b[0;32m   <a href='file:///c%3A/Users/femke/AppData/Roaming/Python/Python310/site-packages/matplotlib/pyplot.py?line=2754'>2755</a>\u001b[0m \u001b[39m@_copy_docstring_and_deprecators\u001b[39m(Axes\u001b[39m.\u001b[39mplot)\n\u001b[0;32m   <a href='file:///c%3A/Users/femke/AppData/Roaming/Python/Python310/site-packages/matplotlib/pyplot.py?line=2755'>2756</a>\u001b[0m \u001b[39mdef\u001b[39;00m \u001b[39mplot\u001b[39m(\u001b[39m*\u001b[39margs, scalex\u001b[39m=\u001b[39m\u001b[39mTrue\u001b[39;00m, scaley\u001b[39m=\u001b[39m\u001b[39mTrue\u001b[39;00m, data\u001b[39m=\u001b[39m\u001b[39mNone\u001b[39;00m, \u001b[39m*\u001b[39m\u001b[39m*\u001b[39mkwargs):\n\u001b[1;32m-> <a href='file:///c%3A/Users/femke/AppData/Roaming/Python/Python310/site-packages/matplotlib/pyplot.py?line=2756'>2757</a>\u001b[0m     \u001b[39mreturn\u001b[39;00m gca()\u001b[39m.\u001b[39mplot(\n\u001b[0;32m   <a href='file:///c%3A/Users/femke/AppData/Roaming/Python/Python310/site-packages/matplotlib/pyplot.py?line=2757'>2758</a>\u001b[0m         \u001b[39m*\u001b[39margs, scalex\u001b[39m=\u001b[39mscalex, scaley\u001b[39m=\u001b[39mscaley,\n\u001b[0;32m   <a href='file:///c%3A/Users/femke/AppData/Roaming/Python/Python310/site-packages/matplotlib/pyplot.py?line=2758'>2759</a>\u001b[0m         \u001b[39m*\u001b[39m\u001b[39m*\u001b[39m({\u001b[39m\"\u001b[39m\u001b[39mdata\u001b[39m\u001b[39m\"\u001b[39m: data} \u001b[39mif\u001b[39;00m data \u001b[39mis\u001b[39;00m \u001b[39mnot\u001b[39;00m \u001b[39mNone\u001b[39;00m \u001b[39melse\u001b[39;00m {}), \u001b[39m*\u001b[39m\u001b[39m*\u001b[39mkwargs)\n",
      "File \u001b[1;32m~\\AppData\\Roaming\\Python\\Python310\\site-packages\\matplotlib\\axes\\_axes.py:1632\u001b[0m, in \u001b[0;36mAxes.plot\u001b[1;34m(self, scalex, scaley, data, *args, **kwargs)\u001b[0m\n\u001b[0;32m   <a href='file:///c%3A/Users/femke/AppData/Roaming/Python/Python310/site-packages/matplotlib/axes/_axes.py?line=1389'>1390</a>\u001b[0m \u001b[39m\"\"\"\u001b[39;00m\n\u001b[0;32m   <a href='file:///c%3A/Users/femke/AppData/Roaming/Python/Python310/site-packages/matplotlib/axes/_axes.py?line=1390'>1391</a>\u001b[0m \u001b[39mPlot y versus x as lines and/or markers.\u001b[39;00m\n\u001b[0;32m   <a href='file:///c%3A/Users/femke/AppData/Roaming/Python/Python310/site-packages/matplotlib/axes/_axes.py?line=1391'>1392</a>\u001b[0m \n\u001b[1;32m   (...)\u001b[0m\n\u001b[0;32m   <a href='file:///c%3A/Users/femke/AppData/Roaming/Python/Python310/site-packages/matplotlib/axes/_axes.py?line=1628'>1629</a>\u001b[0m \u001b[39m(``'green'``) or hex strings (``'#008000'``).\u001b[39;00m\n\u001b[0;32m   <a href='file:///c%3A/Users/femke/AppData/Roaming/Python/Python310/site-packages/matplotlib/axes/_axes.py?line=1629'>1630</a>\u001b[0m \u001b[39m\"\"\"\u001b[39;00m\n\u001b[0;32m   <a href='file:///c%3A/Users/femke/AppData/Roaming/Python/Python310/site-packages/matplotlib/axes/_axes.py?line=1630'>1631</a>\u001b[0m kwargs \u001b[39m=\u001b[39m cbook\u001b[39m.\u001b[39mnormalize_kwargs(kwargs, mlines\u001b[39m.\u001b[39mLine2D)\n\u001b[1;32m-> <a href='file:///c%3A/Users/femke/AppData/Roaming/Python/Python310/site-packages/matplotlib/axes/_axes.py?line=1631'>1632</a>\u001b[0m lines \u001b[39m=\u001b[39m [\u001b[39m*\u001b[39m\u001b[39mself\u001b[39m\u001b[39m.\u001b[39m_get_lines(\u001b[39m*\u001b[39margs, data\u001b[39m=\u001b[39mdata, \u001b[39m*\u001b[39m\u001b[39m*\u001b[39mkwargs)]\n\u001b[0;32m   <a href='file:///c%3A/Users/femke/AppData/Roaming/Python/Python310/site-packages/matplotlib/axes/_axes.py?line=1632'>1633</a>\u001b[0m \u001b[39mfor\u001b[39;00m line \u001b[39min\u001b[39;00m lines:\n\u001b[0;32m   <a href='file:///c%3A/Users/femke/AppData/Roaming/Python/Python310/site-packages/matplotlib/axes/_axes.py?line=1633'>1634</a>\u001b[0m     \u001b[39mself\u001b[39m\u001b[39m.\u001b[39madd_line(line)\n",
      "File \u001b[1;32m~\\AppData\\Roaming\\Python\\Python310\\site-packages\\matplotlib\\axes\\_base.py:312\u001b[0m, in \u001b[0;36m_process_plot_var_args.__call__\u001b[1;34m(self, data, *args, **kwargs)\u001b[0m\n\u001b[0;32m    <a href='file:///c%3A/Users/femke/AppData/Roaming/Python/Python310/site-packages/matplotlib/axes/_base.py?line=309'>310</a>\u001b[0m     this \u001b[39m+\u001b[39m\u001b[39m=\u001b[39m args[\u001b[39m0\u001b[39m],\n\u001b[0;32m    <a href='file:///c%3A/Users/femke/AppData/Roaming/Python/Python310/site-packages/matplotlib/axes/_base.py?line=310'>311</a>\u001b[0m     args \u001b[39m=\u001b[39m args[\u001b[39m1\u001b[39m:]\n\u001b[1;32m--> <a href='file:///c%3A/Users/femke/AppData/Roaming/Python/Python310/site-packages/matplotlib/axes/_base.py?line=311'>312</a>\u001b[0m \u001b[39myield from\u001b[39;00m \u001b[39mself\u001b[39;49m\u001b[39m.\u001b[39;49m_plot_args(this, kwargs)\n",
      "File \u001b[1;32m~\\AppData\\Roaming\\Python\\Python310\\site-packages\\matplotlib\\axes\\_base.py:449\u001b[0m, in \u001b[0;36m_process_plot_var_args._plot_args\u001b[1;34m(self, tup, kwargs, return_kwargs)\u001b[0m\n\u001b[0;32m    <a href='file:///c%3A/Users/femke/AppData/Roaming/Python/Python310/site-packages/matplotlib/axes/_base.py?line=445'>446</a>\u001b[0m \u001b[39mif\u001b[39;00m \u001b[39mlen\u001b[39m(tup) \u001b[39m>\u001b[39m \u001b[39m1\u001b[39m \u001b[39mand\u001b[39;00m \u001b[39misinstance\u001b[39m(tup[\u001b[39m-\u001b[39m\u001b[39m1\u001b[39m], \u001b[39mstr\u001b[39m):\n\u001b[0;32m    <a href='file:///c%3A/Users/femke/AppData/Roaming/Python/Python310/site-packages/matplotlib/axes/_base.py?line=446'>447</a>\u001b[0m     \u001b[39m# xy is tup with fmt stripped (could still be (y,) only)\u001b[39;00m\n\u001b[0;32m    <a href='file:///c%3A/Users/femke/AppData/Roaming/Python/Python310/site-packages/matplotlib/axes/_base.py?line=447'>448</a>\u001b[0m     \u001b[39m*\u001b[39mxy, fmt \u001b[39m=\u001b[39m tup\n\u001b[1;32m--> <a href='file:///c%3A/Users/femke/AppData/Roaming/Python/Python310/site-packages/matplotlib/axes/_base.py?line=448'>449</a>\u001b[0m     linestyle, marker, color \u001b[39m=\u001b[39m _process_plot_format(fmt)\n\u001b[0;32m    <a href='file:///c%3A/Users/femke/AppData/Roaming/Python/Python310/site-packages/matplotlib/axes/_base.py?line=449'>450</a>\u001b[0m \u001b[39melif\u001b[39;00m \u001b[39mlen\u001b[39m(tup) \u001b[39m==\u001b[39m \u001b[39m3\u001b[39m:\n\u001b[0;32m    <a href='file:///c%3A/Users/femke/AppData/Roaming/Python/Python310/site-packages/matplotlib/axes/_base.py?line=450'>451</a>\u001b[0m     \u001b[39mraise\u001b[39;00m \u001b[39mValueError\u001b[39;00m(\u001b[39m'\u001b[39m\u001b[39mthird arg must be a format string\u001b[39m\u001b[39m'\u001b[39m)\n",
      "File \u001b[1;32m~\\AppData\\Roaming\\Python\\Python310\\site-packages\\matplotlib\\axes\\_base.py:199\u001b[0m, in \u001b[0;36m_process_plot_format\u001b[1;34m(fmt)\u001b[0m\n\u001b[0;32m    <a href='file:///c%3A/Users/femke/AppData/Roaming/Python/Python310/site-packages/matplotlib/axes/_base.py?line=196'>197</a>\u001b[0m         i \u001b[39m+\u001b[39m\u001b[39m=\u001b[39m \u001b[39m2\u001b[39m\n\u001b[0;32m    <a href='file:///c%3A/Users/femke/AppData/Roaming/Python/Python310/site-packages/matplotlib/axes/_base.py?line=197'>198</a>\u001b[0m     \u001b[39melse\u001b[39;00m:\n\u001b[1;32m--> <a href='file:///c%3A/Users/femke/AppData/Roaming/Python/Python310/site-packages/matplotlib/axes/_base.py?line=198'>199</a>\u001b[0m         \u001b[39mraise\u001b[39;00m \u001b[39mValueError\u001b[39;00m(\n\u001b[0;32m    <a href='file:///c%3A/Users/femke/AppData/Roaming/Python/Python310/site-packages/matplotlib/axes/_base.py?line=199'>200</a>\u001b[0m             \u001b[39m'\u001b[39m\u001b[39mUnrecognized character \u001b[39m\u001b[39m%c\u001b[39;00m\u001b[39m in format string\u001b[39m\u001b[39m'\u001b[39m \u001b[39m%\u001b[39m c)\n\u001b[0;32m    <a href='file:///c%3A/Users/femke/AppData/Roaming/Python/Python310/site-packages/matplotlib/axes/_base.py?line=201'>202</a>\u001b[0m \u001b[39mif\u001b[39;00m linestyle \u001b[39mis\u001b[39;00m \u001b[39mNone\u001b[39;00m \u001b[39mand\u001b[39;00m marker \u001b[39mis\u001b[39;00m \u001b[39mNone\u001b[39;00m:\n\u001b[0;32m    <a href='file:///c%3A/Users/femke/AppData/Roaming/Python/Python310/site-packages/matplotlib/axes/_base.py?line=202'>203</a>\u001b[0m     linestyle \u001b[39m=\u001b[39m mpl\u001b[39m.\u001b[39mrcParams[\u001b[39m'\u001b[39m\u001b[39mlines.linestyle\u001b[39m\u001b[39m'\u001b[39m]\n",
      "\u001b[1;31mValueError\u001b[0m: Unrecognized character T in format string"
     ]
    },
    {
     "data": {
      "image/png": "[encoded data removed]",
      "text/plain": [
       "<Figure size 432x288 with 1 Axes>"
      ]
     },
     "metadata": {
      "needs_background": "light"
     },
     "output_type": "display_data"
    }
   ],
   "source": [
    "for name, data in manufacturers:\n",
    "    tempdf = df[['Year', 'Total']].dropna()\n",
    "\n",
    "    X = tempdf.iloc[:, :-1].values\n",
    "    Y = tempdf.iloc[:, 1].values\n",
    "\n",
    "    from sklearn.model_selection import train_test_split\n",
    "    X_train, X_test, Y_train, Y_test = train_test_split(X, Y, test_size=0.3, random_state=0)\n",
    "\n",
    "    from sklearn.linear_model import LinearRegression\n",
    "    regressor = LinearRegression()\n",
    "    regressor.fit(X_train, Y_train)\n",
    "\n",
    "    print(regressor.intercept_)\n",
    "    from matplotlib import pyplot\n",
    "\n",
    "    \n",
    "for name, data in manufacturers:\n",
    "    # line plot for Total Error with seaborn\n",
    "    # if name == \"Abbott\":\n",
    "        # sns.set(rc = {'figure.figsize':(25,8)})\n",
    "        # l = sns.lineplot(x='Year', y='Total Error', data=data)\n",
    "        # sns.lineplot(x='Year', y={regressor.intercept_}, data=data)\n",
    "        # l.set_title(name)\n",
    "        # plt.show()\n",
    "        pyplot.plot('Year','Total Error',data=tempdf, color='red')\n",
    "        pyplot.plot('Year','Total Error', data=regressor.intercept_)\n"
   ]
  },
  {
   "cell_type": "code",
   "execution_count": null,
   "metadata": {},
   "outputs": [],
   "source": []
  }
 ],
 "metadata": {
  "interpreter": {
   "hash": "26de051ba29f2982a8de78e945f0abaf191376122a1563185a90213a26c5da77"
  },
  "kernelspec": {
   "display_name": "Python 3.10.4 64-bit",
   "language": "python",
   "name": "python3"
  },
  "language_info": {
   "codemirror_mode": {
    "name": "ipython",
    "version": 3
   },
   "file_extension": ".py",
   "mimetype": "text/x-python",
   "name": "python",
   "nbconvert_exporter": "python",
   "pygments_lexer": "ipython3",
   "version": "3.10.4"
  },
  "orig_nbformat": 4
 },
 "nbformat": 4,
 "nbformat_minor": 2
}
