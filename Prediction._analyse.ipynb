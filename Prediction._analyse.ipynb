{
 "cells": [
  {
   "cell_type": "markdown",
   "metadata": {},
   "source": [
    "# Inladen packages  & dataset"
   ]
  },
  {
   "cell_type": "code",
   "execution_count": 217,
   "metadata": {},
   "outputs": [],
   "source": [
    "import pandas as pd\n",
    "import numpy as np\n",
    "import matplotlib.pyplot as plt\n",
    "import seaborn as sns\n",
    "import sklearn\n",
    "from sklearn.model_selection import train_test_split\n",
    "from statsmodels.formula.api import ols\n",
    "\n",
    "df=pd.read_excel(\"Complete-dataset.xlsx\")"
   ]
  },
  {
   "cell_type": "code",
   "execution_count": 218,
   "metadata": {},
   "outputs": [
    {
     "data": {
      "text/html": [
       "<div>\n",
       "<style scoped>\n",
       "    .dataframe tbody tr th:only-of-type {\n",
       "        vertical-align: middle;\n",
       "    }\n",
       "\n",
       "    .dataframe tbody tr th {\n",
       "        vertical-align: top;\n",
       "    }\n",
       "\n",
       "    .dataframe thead th {\n",
       "        text-align: right;\n",
       "    }\n",
       "</style>\n",
       "<table border=\"1\" class=\"dataframe\">\n",
       "  <thead>\n",
       "    <tr style=\"text-align: right;\">\n",
       "      <th></th>\n",
       "      <th>Method name</th>\n",
       "      <th>N (no. labs)</th>\n",
       "      <th>Mean</th>\n",
       "      <th>Bias</th>\n",
       "      <th>CV</th>\n",
       "      <th>Sample</th>\n",
       "      <th>Reference Value</th>\n",
       "      <th>Year</th>\n",
       "      <th>Source (CAP/EurA1c)</th>\n",
       "      <th>Type (Fresh/frozen)</th>\n",
       "      <th>Manufacturer</th>\n",
       "      <th>Total Error</th>\n",
       "    </tr>\n",
       "  </thead>\n",
       "  <tbody>\n",
       "    <tr>\n",
       "      <th>0</th>\n",
       "      <td>(Ortho Clin Diag) Vitros 5.1 FS Chem System</td>\n",
       "      <td>183</td>\n",
       "      <td>6.14</td>\n",
       "      <td>-0.16</td>\n",
       "      <td>2.3</td>\n",
       "      <td>GH2-04</td>\n",
       "      <td>6.3</td>\n",
       "      <td>2011</td>\n",
       "      <td>CAP</td>\n",
       "      <td>Fresh</td>\n",
       "      <td>Vitros</td>\n",
       "      <td>4.508</td>\n",
       "    </tr>\n",
       "    <tr>\n",
       "      <th>1</th>\n",
       "      <td>(Ortho Clin Diag) Vitros 5.1 FS Chem System</td>\n",
       "      <td>183</td>\n",
       "      <td>7.59</td>\n",
       "      <td>-0.01</td>\n",
       "      <td>2.5</td>\n",
       "      <td>GH2-05</td>\n",
       "      <td>7.6</td>\n",
       "      <td>2011</td>\n",
       "      <td>CAP</td>\n",
       "      <td>Fresh</td>\n",
       "      <td>Vitros</td>\n",
       "      <td>4.900</td>\n",
       "    </tr>\n",
       "    <tr>\n",
       "      <th>2</th>\n",
       "      <td>(Ortho Clin Diag) Vitros 5.1 FS Chem System</td>\n",
       "      <td>183</td>\n",
       "      <td>9.42</td>\n",
       "      <td>0.22</td>\n",
       "      <td>3</td>\n",
       "      <td>GH2-06</td>\n",
       "      <td>9.2</td>\n",
       "      <td>2011</td>\n",
       "      <td>CAP</td>\n",
       "      <td>Fresh</td>\n",
       "      <td>Vitros</td>\n",
       "      <td>5.880</td>\n",
       "    </tr>\n",
       "    <tr>\n",
       "      <th>3</th>\n",
       "      <td>(Ortho Clin Diag) Vitros 5.1 FS Chem System</td>\n",
       "      <td>210</td>\n",
       "      <td>5.42</td>\n",
       "      <td>-0.18</td>\n",
       "      <td>2.3</td>\n",
       "      <td>GH2-01</td>\n",
       "      <td>5.6</td>\n",
       "      <td>2012</td>\n",
       "      <td>CAP</td>\n",
       "      <td>Fresh</td>\n",
       "      <td>Vitros</td>\n",
       "      <td>4.508</td>\n",
       "    </tr>\n",
       "    <tr>\n",
       "      <th>4</th>\n",
       "      <td>(Ortho Clin Diag) Vitros 5.1 FS Chem System</td>\n",
       "      <td>210</td>\n",
       "      <td>9.34</td>\n",
       "      <td>-0.06</td>\n",
       "      <td>2.6</td>\n",
       "      <td>GH2-02</td>\n",
       "      <td>9.4</td>\n",
       "      <td>2012</td>\n",
       "      <td>CAP</td>\n",
       "      <td>Fresh</td>\n",
       "      <td>Vitros</td>\n",
       "      <td>5.096</td>\n",
       "    </tr>\n",
       "  </tbody>\n",
       "</table>\n",
       "</div>"
      ],
      "text/plain": [
       "                                   Method name N (no. labs)   Mean   Bias  \\\n",
       "0  (Ortho Clin Diag) Vitros 5.1 FS Chem System          183  6.14   -0.16   \n",
       "1  (Ortho Clin Diag) Vitros 5.1 FS Chem System          183  7.59   -0.01   \n",
       "2  (Ortho Clin Diag) Vitros 5.1 FS Chem System          183  9.42    0.22   \n",
       "3  (Ortho Clin Diag) Vitros 5.1 FS Chem System          210   5.42  -0.18   \n",
       "4  (Ortho Clin Diag) Vitros 5.1 FS Chem System          210   9.34  -0.06   \n",
       "\n",
       "    CV  Sample  Reference Value  Year Source (CAP/EurA1c) Type (Fresh/frozen)  \\\n",
       "0  2.3  GH2-04              6.3  2011                 CAP               Fresh   \n",
       "1  2.5  GH2-05              7.6  2011                 CAP               Fresh   \n",
       "2    3  GH2-06              9.2  2011                 CAP               Fresh   \n",
       "3  2.3  GH2-01              5.6  2012                 CAP               Fresh   \n",
       "4  2.6  GH2-02              9.4  2012                 CAP               Fresh   \n",
       "\n",
       "  Manufacturer  Total Error  \n",
       "0       Vitros        4.508  \n",
       "1       Vitros        4.900  \n",
       "2       Vitros        5.880  \n",
       "3       Vitros        4.508  \n",
       "4       Vitros        5.096  "
      ]
     },
     "execution_count": 218,
     "metadata": {},
     "output_type": "execute_result"
    }
   ],
   "source": [
    "df.head()"
   ]
  },
  {
   "cell_type": "markdown",
   "metadata": {},
   "source": [
    "# Business understanding"
   ]
  },
  {
   "cell_type": "markdown",
   "metadata": {},
   "source": [
    "Deelvraag: Hoe verandert een merk over de jaren heen? (voorspelling total error)\n",
    "\n",
    "\n",
    "Voor het Isala ziekenhuis is het van belang om inzicht te hebben hoe verschillende metingen worden uitgevoerd. Door voorspellingen te doen, zou het Isala ziekenhuis tijdig kunnen ingrijpen. Doordat sommige meetmehodes maar één keer in het rapport voorkomen, focussen we ons eerst op de fabrikant.\n",
    "\n",
    "\n",
    "# Data understanding\n",
    "Welke databronnen zijn gegeven en in welk formaat:\n",
    "Een excel bestand genaamd: Complete-dataset.xlsx\n",
    "\n",
    "Hoe groot zijn deze databronnen:\n",
    "291 kB\n",
    "\n",
    "-4684 rows\n",
    "\n",
    "-12 cols"
   ]
  },
  {
   "cell_type": "code",
   "execution_count": 219,
   "metadata": {},
   "outputs": [
    {
     "name": "stdout",
     "output_type": "stream",
     "text": [
      "<class 'pandas.core.frame.DataFrame'>\n",
      "RangeIndex: 4684 entries, 0 to 4683\n",
      "Data columns (total 12 columns):\n",
      " #   Column               Non-Null Count  Dtype  \n",
      "---  ------               --------------  -----  \n",
      " 0   Method name          4684 non-null   object \n",
      " 1   N (no. labs)         4684 non-null   object \n",
      " 2   Mean                 4604 non-null   object \n",
      " 3   Bias                 4060 non-null   object \n",
      " 4   CV                   4586 non-null   object \n",
      " 5   Sample               4684 non-null   object \n",
      " 6   Reference Value      4656 non-null   float64\n",
      " 7   Year                 4684 non-null   int64  \n",
      " 8   Source (CAP/EurA1c)  4684 non-null   object \n",
      " 9   Type (Fresh/frozen)  4684 non-null   object \n",
      " 10  Manufacturer         4684 non-null   object \n",
      " 11  Total Error          4682 non-null   float64\n",
      "dtypes: float64(2), int64(1), object(9)\n",
      "memory usage: 439.2+ KB\n"
     ]
    }
   ],
   "source": [
    "df.info()"
   ]
  },
  {
   "cell_type": "code",
   "execution_count": 220,
   "metadata": {},
   "outputs": [
    {
     "data": {
      "text/html": [
       "<div>\n",
       "<style scoped>\n",
       "    .dataframe tbody tr th:only-of-type {\n",
       "        vertical-align: middle;\n",
       "    }\n",
       "\n",
       "    .dataframe tbody tr th {\n",
       "        vertical-align: top;\n",
       "    }\n",
       "\n",
       "    .dataframe thead th {\n",
       "        text-align: right;\n",
       "    }\n",
       "</style>\n",
       "<table border=\"1\" class=\"dataframe\">\n",
       "  <thead>\n",
       "    <tr style=\"text-align: right;\">\n",
       "      <th></th>\n",
       "      <th>Method name</th>\n",
       "      <th>N (no. labs)</th>\n",
       "      <th>Mean</th>\n",
       "      <th>Bias</th>\n",
       "      <th>CV</th>\n",
       "      <th>Sample</th>\n",
       "      <th>Reference Value</th>\n",
       "      <th>Year</th>\n",
       "      <th>Source (CAP/EurA1c)</th>\n",
       "      <th>Type (Fresh/frozen)</th>\n",
       "      <th>Manufacturer</th>\n",
       "      <th>Total Error</th>\n",
       "    </tr>\n",
       "  </thead>\n",
       "  <tbody>\n",
       "    <tr>\n",
       "      <th>0</th>\n",
       "      <td>(Ortho Clin Diag) Vitros 5.1 FS Chem System</td>\n",
       "      <td>183</td>\n",
       "      <td>6.14</td>\n",
       "      <td>-0.16</td>\n",
       "      <td>2.3</td>\n",
       "      <td>GH2-04</td>\n",
       "      <td>6.30</td>\n",
       "      <td>2011</td>\n",
       "      <td>CAP</td>\n",
       "      <td>Fresh</td>\n",
       "      <td>Vitros</td>\n",
       "      <td>4.508</td>\n",
       "    </tr>\n",
       "    <tr>\n",
       "      <th>1</th>\n",
       "      <td>(Ortho Clin Diag) Vitros 5.1 FS Chem System</td>\n",
       "      <td>183</td>\n",
       "      <td>7.59</td>\n",
       "      <td>-0.01</td>\n",
       "      <td>2.5</td>\n",
       "      <td>GH2-05</td>\n",
       "      <td>7.60</td>\n",
       "      <td>2011</td>\n",
       "      <td>CAP</td>\n",
       "      <td>Fresh</td>\n",
       "      <td>Vitros</td>\n",
       "      <td>4.900</td>\n",
       "    </tr>\n",
       "    <tr>\n",
       "      <th>2</th>\n",
       "      <td>(Ortho Clin Diag) Vitros 5.1 FS Chem System</td>\n",
       "      <td>183</td>\n",
       "      <td>9.42</td>\n",
       "      <td>0.22</td>\n",
       "      <td>3</td>\n",
       "      <td>GH2-06</td>\n",
       "      <td>9.20</td>\n",
       "      <td>2011</td>\n",
       "      <td>CAP</td>\n",
       "      <td>Fresh</td>\n",
       "      <td>Vitros</td>\n",
       "      <td>5.880</td>\n",
       "    </tr>\n",
       "    <tr>\n",
       "      <th>3</th>\n",
       "      <td>(Ortho Clin Diag) Vitros 5.1 FS Chem System</td>\n",
       "      <td>210</td>\n",
       "      <td>5.42</td>\n",
       "      <td>-0.18</td>\n",
       "      <td>2.3</td>\n",
       "      <td>GH2-01</td>\n",
       "      <td>5.60</td>\n",
       "      <td>2012</td>\n",
       "      <td>CAP</td>\n",
       "      <td>Fresh</td>\n",
       "      <td>Vitros</td>\n",
       "      <td>4.508</td>\n",
       "    </tr>\n",
       "    <tr>\n",
       "      <th>4</th>\n",
       "      <td>(Ortho Clin Diag) Vitros 5.1 FS Chem System</td>\n",
       "      <td>210</td>\n",
       "      <td>9.34</td>\n",
       "      <td>-0.06</td>\n",
       "      <td>2.6</td>\n",
       "      <td>GH2-02</td>\n",
       "      <td>9.40</td>\n",
       "      <td>2012</td>\n",
       "      <td>CAP</td>\n",
       "      <td>Fresh</td>\n",
       "      <td>Vitros</td>\n",
       "      <td>5.096</td>\n",
       "    </tr>\n",
       "    <tr>\n",
       "      <th>...</th>\n",
       "      <td>...</td>\n",
       "      <td>...</td>\n",
       "      <td>...</td>\n",
       "      <td>...</td>\n",
       "      <td>...</td>\n",
       "      <td>...</td>\n",
       "      <td>...</td>\n",
       "      <td>...</td>\n",
       "      <td>...</td>\n",
       "      <td>...</td>\n",
       "      <td>...</td>\n",
       "      <td>...</td>\n",
       "    </tr>\n",
       "    <tr>\n",
       "      <th>4679</th>\n",
       "      <td>Vitros 5.1 FS/4600/5600/XT7600 Chem. Systems</td>\n",
       "      <td>204</td>\n",
       "      <td>9.08</td>\n",
       "      <td>0.22</td>\n",
       "      <td>3.1</td>\n",
       "      <td>GH5-01</td>\n",
       "      <td>8.86</td>\n",
       "      <td>2021</td>\n",
       "      <td>CAP</td>\n",
       "      <td>Fresh</td>\n",
       "      <td>Vitros</td>\n",
       "      <td>6.076</td>\n",
       "    </tr>\n",
       "    <tr>\n",
       "      <th>4680</th>\n",
       "      <td>Vitros 5.1 FS/4600/5600/XT7600 Chem. Systems</td>\n",
       "      <td>204</td>\n",
       "      <td>6.86</td>\n",
       "      <td>0.02</td>\n",
       "      <td>2.6</td>\n",
       "      <td>GH5-02</td>\n",
       "      <td>6.84</td>\n",
       "      <td>2021</td>\n",
       "      <td>CAP</td>\n",
       "      <td>Fresh</td>\n",
       "      <td>Vitros</td>\n",
       "      <td>5.096</td>\n",
       "    </tr>\n",
       "    <tr>\n",
       "      <th>4681</th>\n",
       "      <td>Vitros 5.1 FS/4600/5600/XT7600 Chem. Systems</td>\n",
       "      <td>204</td>\n",
       "      <td>9.4</td>\n",
       "      <td>0.01</td>\n",
       "      <td>3.4</td>\n",
       "      <td>GH5-03</td>\n",
       "      <td>9.39</td>\n",
       "      <td>2021</td>\n",
       "      <td>CAP</td>\n",
       "      <td>Fresh</td>\n",
       "      <td>Vitros</td>\n",
       "      <td>6.664</td>\n",
       "    </tr>\n",
       "    <tr>\n",
       "      <th>4682</th>\n",
       "      <td>Vitros 5.1 FS/4600/5600/XT7600 Chem. Systems</td>\n",
       "      <td>204</td>\n",
       "      <td>6.14</td>\n",
       "      <td>0.01</td>\n",
       "      <td>2.5</td>\n",
       "      <td>GH5-04</td>\n",
       "      <td>6.13</td>\n",
       "      <td>2021</td>\n",
       "      <td>CAP</td>\n",
       "      <td>Fresh</td>\n",
       "      <td>Vitros</td>\n",
       "      <td>4.900</td>\n",
       "    </tr>\n",
       "    <tr>\n",
       "      <th>4683</th>\n",
       "      <td>Vitros 5.1 FS/4600/5600/XT7600 Chem. Systems</td>\n",
       "      <td>204</td>\n",
       "      <td>7.59</td>\n",
       "      <td>0.07</td>\n",
       "      <td>2.8</td>\n",
       "      <td>GH5-05</td>\n",
       "      <td>7.52</td>\n",
       "      <td>2021</td>\n",
       "      <td>CAP</td>\n",
       "      <td>Fresh</td>\n",
       "      <td>Vitros</td>\n",
       "      <td>5.488</td>\n",
       "    </tr>\n",
       "  </tbody>\n",
       "</table>\n",
       "<p>4058 rows × 12 columns</p>\n",
       "</div>"
      ],
      "text/plain": [
       "                                       Method name N (no. labs)   Mean   Bias  \\\n",
       "0      (Ortho Clin Diag) Vitros 5.1 FS Chem System          183  6.14   -0.16   \n",
       "1      (Ortho Clin Diag) Vitros 5.1 FS Chem System          183  7.59   -0.01   \n",
       "2      (Ortho Clin Diag) Vitros 5.1 FS Chem System          183  9.42    0.22   \n",
       "3      (Ortho Clin Diag) Vitros 5.1 FS Chem System          210   5.42  -0.18   \n",
       "4      (Ortho Clin Diag) Vitros 5.1 FS Chem System          210   9.34  -0.06   \n",
       "...                                            ...          ...    ...    ...   \n",
       "4679  Vitros 5.1 FS/4600/5600/XT7600 Chem. Systems          204   9.08   0.22   \n",
       "4680  Vitros 5.1 FS/4600/5600/XT7600 Chem. Systems          204   6.86   0.02   \n",
       "4681  Vitros 5.1 FS/4600/5600/XT7600 Chem. Systems          204    9.4   0.01   \n",
       "4682  Vitros 5.1 FS/4600/5600/XT7600 Chem. Systems          204   6.14   0.01   \n",
       "4683  Vitros 5.1 FS/4600/5600/XT7600 Chem. Systems          204   7.59   0.07   \n",
       "\n",
       "       CV  Sample  Reference Value  Year Source (CAP/EurA1c)  \\\n",
       "0     2.3  GH2-04             6.30  2011                 CAP   \n",
       "1     2.5  GH2-05             7.60  2011                 CAP   \n",
       "2       3  GH2-06             9.20  2011                 CAP   \n",
       "3     2.3  GH2-01             5.60  2012                 CAP   \n",
       "4     2.6  GH2-02             9.40  2012                 CAP   \n",
       "...   ...     ...              ...   ...                 ...   \n",
       "4679  3.1  GH5-01             8.86  2021                 CAP   \n",
       "4680  2.6  GH5-02             6.84  2021                 CAP   \n",
       "4681  3.4  GH5-03             9.39  2021                 CAP   \n",
       "4682  2.5  GH5-04             6.13  2021                 CAP   \n",
       "4683  2.8  GH5-05             7.52  2021                 CAP   \n",
       "\n",
       "     Type (Fresh/frozen) Manufacturer  Total Error  \n",
       "0                  Fresh       Vitros        4.508  \n",
       "1                  Fresh       Vitros        4.900  \n",
       "2                  Fresh       Vitros        5.880  \n",
       "3                  Fresh       Vitros        4.508  \n",
       "4                  Fresh       Vitros        5.096  \n",
       "...                  ...          ...          ...  \n",
       "4679               Fresh       Vitros        6.076  \n",
       "4680               Fresh       Vitros        5.096  \n",
       "4681               Fresh       Vitros        6.664  \n",
       "4682               Fresh       Vitros        4.900  \n",
       "4683               Fresh       Vitros        5.488  \n",
       "\n",
       "[4058 rows x 12 columns]"
      ]
     },
     "execution_count": 220,
     "metadata": {},
     "output_type": "execute_result"
    }
   ],
   "source": [
    "df.isna().sum()\n",
    "#Bias, CV? Leeg -> Geen total error\n",
    "df.dropna()"
   ]
  },
  {
   "cell_type": "code",
   "execution_count": 221,
   "metadata": {},
   "outputs": [
    {
     "data": {
      "text/html": [
       "<div>\n",
       "<style scoped>\n",
       "    .dataframe tbody tr th:only-of-type {\n",
       "        vertical-align: middle;\n",
       "    }\n",
       "\n",
       "    .dataframe tbody tr th {\n",
       "        vertical-align: top;\n",
       "    }\n",
       "\n",
       "    .dataframe thead th {\n",
       "        text-align: right;\n",
       "    }\n",
       "</style>\n",
       "<table border=\"1\" class=\"dataframe\">\n",
       "  <thead>\n",
       "    <tr style=\"text-align: right;\">\n",
       "      <th></th>\n",
       "      <th>count</th>\n",
       "      <th>mean</th>\n",
       "      <th>std</th>\n",
       "      <th>min</th>\n",
       "      <th>25%</th>\n",
       "      <th>50%</th>\n",
       "      <th>75%</th>\n",
       "      <th>max</th>\n",
       "    </tr>\n",
       "  </thead>\n",
       "  <tbody>\n",
       "    <tr>\n",
       "      <th>Reference Value</th>\n",
       "      <td>4656.0</td>\n",
       "      <td>7.361971</td>\n",
       "      <td>1.864492</td>\n",
       "      <td>4.92</td>\n",
       "      <td>5.80</td>\n",
       "      <td>7.100</td>\n",
       "      <td>8.65</td>\n",
       "      <td>13.000</td>\n",
       "    </tr>\n",
       "    <tr>\n",
       "      <th>Year</th>\n",
       "      <td>4684.0</td>\n",
       "      <td>2015.568531</td>\n",
       "      <td>4.261448</td>\n",
       "      <td>2006.00</td>\n",
       "      <td>2013.00</td>\n",
       "      <td>2017.000</td>\n",
       "      <td>2019.00</td>\n",
       "      <td>2021.000</td>\n",
       "    </tr>\n",
       "    <tr>\n",
       "      <th>Total Error</th>\n",
       "      <td>4682.0</td>\n",
       "      <td>5.759066</td>\n",
       "      <td>2.980117</td>\n",
       "      <td>0.00</td>\n",
       "      <td>3.92</td>\n",
       "      <td>5.096</td>\n",
       "      <td>6.86</td>\n",
       "      <td>28.216</td>\n",
       "    </tr>\n",
       "  </tbody>\n",
       "</table>\n",
       "</div>"
      ],
      "text/plain": [
       "                  count         mean       std      min      25%       50%  \\\n",
       "Reference Value  4656.0     7.361971  1.864492     4.92     5.80     7.100   \n",
       "Year             4684.0  2015.568531  4.261448  2006.00  2013.00  2017.000   \n",
       "Total Error      4682.0     5.759066  2.980117     0.00     3.92     5.096   \n",
       "\n",
       "                     75%       max  \n",
       "Reference Value     8.65    13.000  \n",
       "Year             2019.00  2021.000  \n",
       "Total Error         6.86    28.216  "
      ]
     },
     "execution_count": 221,
     "metadata": {},
     "output_type": "execute_result"
    }
   ],
   "source": [
    "df.describe().transpose()"
   ]
  },
  {
   "cell_type": "code",
   "execution_count": 222,
   "metadata": {},
   "outputs": [
    {
     "data": {
      "text/plain": [
       "Siemens                       982\n",
       "Bio-Rad                       788\n",
       "Roche                         618\n",
       "Beckman Coulter               384\n",
       "Tosoh                         349\n",
       "Abbott                        310\n",
       "Sebia                         203\n",
       "Trinity Biotech               188\n",
       "Vitros                        162\n",
       "Alere                         121\n",
       "Arkray                         95\n",
       "Axis-Shield                    57\n",
       "Roche Diagnostics              56\n",
       "Menarini                       52\n",
       "Primus                         42\n",
       "Roche/Hitachi                  42\n",
       "Bayer                          36\n",
       "Olympus                        30\n",
       "Metrika                        30\n",
       "Dade Behring                   24\n",
       "Synchron                       24\n",
       "Not specified                  20\n",
       "JEOL                           15\n",
       "Bayer/Metrika                  15\n",
       "Medinor                         6\n",
       "HemoCue                         6\n",
       "Lifotronic                      4\n",
       "EKF Diagnostics                 4\n",
       "Sysmex                          4\n",
       "Thermo Scientific               4\n",
       "BioMajesty                      4\n",
       "Pointe Scientific               3\n",
       "Ortho Clinical Diagnostics      2\n",
       "Mindray                         2\n",
       "Diasys                          2\n",
       "Name: Manufacturer, dtype: int64"
      ]
     },
     "execution_count": 222,
     "metadata": {},
     "output_type": "execute_result"
    }
   ],
   "source": [
    "#Hoeveel metingen per merk\n",
    "df[\"Manufacturer\"].value_counts()\n"
   ]
  },
  {
   "cell_type": "code",
   "execution_count": 223,
   "metadata": {},
   "outputs": [
    {
     "data": {
      "text/plain": [
       "35"
      ]
     },
     "execution_count": 223,
     "metadata": {},
     "output_type": "execute_result"
    }
   ],
   "source": [
    "#Hoeveel unieke merken\n",
    "df[\"Manufacturer\"].nunique()"
   ]
  },
  {
   "cell_type": "markdown",
   "metadata": {},
   "source": [
    "# Data preparation"
   ]
  },
  {
   "cell_type": "code",
   "execution_count": 224,
   "metadata": {},
   "outputs": [
    {
     "data": {
      "text/plain": [
       "Manufacturer\n",
       "Abbott                        310\n",
       "Alere                         121\n",
       "Arkray                         95\n",
       "Axis-Shield                    57\n",
       "Bayer                          36\n",
       "Bayer/Metrika                  15\n",
       "Beckman Coulter               384\n",
       "Bio-Rad                       788\n",
       "BioMajesty                      4\n",
       "Dade Behring                   24\n",
       "Diasys                          2\n",
       "EKF Diagnostics                 4\n",
       "HemoCue                         6\n",
       "JEOL                           15\n",
       "Lifotronic                      4\n",
       "Medinor                         6\n",
       "Menarini                       52\n",
       "Metrika                        30\n",
       "Mindray                         2\n",
       "Not specified                  20\n",
       "Olympus                        30\n",
       "Ortho Clinical Diagnostics      2\n",
       "Pointe Scientific               3\n",
       "Primus                         42\n",
       "Roche                         618\n",
       "Roche Diagnostics              56\n",
       "Roche/Hitachi                  42\n",
       "Sebia                         203\n",
       "Siemens                       982\n",
       "Synchron                       24\n",
       "Sysmex                          4\n",
       "Thermo Scientific               4\n",
       "Tosoh                         349\n",
       "Trinity Biotech               188\n",
       "Vitros                        162\n",
       "dtype: int64"
      ]
     },
     "execution_count": 224,
     "metadata": {},
     "output_type": "execute_result"
    }
   ],
   "source": [
    "manufacturers = df.groupby(\"Manufacturer\")\n",
    "manufacturers.size()"
   ]
  },
  {
   "cell_type": "code",
   "execution_count": 225,
   "metadata": {},
   "outputs": [
    {
     "data": {
      "text/plain": [
       "Siemens            982\n",
       "Bio-Rad            788\n",
       "Roche              618\n",
       "Beckman Coulter    384\n",
       "Tosoh              349\n",
       "Abbott             310\n",
       "Sebia              203\n",
       "Trinity Biotech    188\n",
       "Vitros             162\n",
       "Alere              121\n",
       "Name: Manufacturer, dtype: int64"
      ]
     },
     "execution_count": 225,
     "metadata": {},
     "output_type": "execute_result"
    }
   ],
   "source": [
    "list_top10 = df['Manufacturer'].value_counts()[:10].index.tolist()\n",
    "top10_manufacturers = df.loc[df['Manufacturer'].isin(list)]\n",
    "top10_manufacturers['Manufacturer'].value_counts()"
   ]
  },
  {
   "cell_type": "code",
   "execution_count": 226,
   "metadata": {},
   "outputs": [
    {
     "data": {
      "text/plain": [
       "(982, 12)"
      ]
     },
     "execution_count": 226,
     "metadata": {},
     "output_type": "execute_result"
    }
   ],
   "source": [
    "Siemens = top10_manufacturers[top10_manufacturers['Manufacturer'] == 'Siemens']\n",
    "Siemens.shape"
   ]
  },
  {
   "cell_type": "code",
   "execution_count": 227,
   "metadata": {},
   "outputs": [
    {
     "name": "stdout",
     "output_type": "stream",
     "text": [
      "<class 'pandas.core.frame.DataFrame'>\n",
      "Int64Index: 4105 entries, 0 to 4683\n",
      "Data columns (total 12 columns):\n",
      " #   Column               Non-Null Count  Dtype  \n",
      "---  ------               --------------  -----  \n",
      " 0   Method name          4105 non-null   object \n",
      " 1   N (no. labs)         4105 non-null   object \n",
      " 2   Mean                 4048 non-null   object \n",
      " 3   Bias                 3681 non-null   object \n",
      " 4   CV                   4039 non-null   object \n",
      " 5   Sample               4105 non-null   object \n",
      " 6   Reference Value      4080 non-null   float64\n",
      " 7   Year                 4105 non-null   int64  \n",
      " 8   Source (CAP/EurA1c)  4105 non-null   object \n",
      " 9   Type (Fresh/frozen)  4105 non-null   object \n",
      " 10  Manufacturer         4105 non-null   object \n",
      " 11  Total Error          4103 non-null   float64\n",
      "dtypes: float64(2), int64(1), object(9)\n",
      "memory usage: 416.9+ KB\n"
     ]
    }
   ],
   "source": [
    "top10_manufacturers.info()"
   ]
  },
  {
   "cell_type": "code",
   "execution_count": 228,
   "metadata": {},
   "outputs": [],
   "source": [
    "# Plot all total error of manufacturers\n",
    "# manufacturers.plot(x='Manufacturer',y='Total Error')"
   ]
  },
  {
   "cell_type": "code",
   "execution_count": 229,
   "metadata": {},
   "outputs": [
    {
     "data": {
      "text/plain": [
       "<AxesSubplot:xlabel='Year', ylabel='Total Error'>"
      ]
     },
     "execution_count": 229,
     "metadata": {},
     "output_type": "execute_result"
    },
    {
     "data": {
      "image/png": "[encoded data removed]",
      "text/plain": [
       "<Figure size 432x288 with 1 Axes>"
      ]
     },
     "metadata": {
      "needs_background": "light"
     },
     "output_type": "display_data"
    }
   ],
   "source": [
    "sns.lineplot(x=\"Year\", y=\"Total Error\",\n",
    "             hue=\"Manufacturer\", \n",
    "             data=top10_manufacturers)"
   ]
  },
  {
   "cell_type": "code",
   "execution_count": 230,
   "metadata": {},
   "outputs": [
    {
     "data": {
      "text/plain": [
       "Index(['Method name', 'N (no. labs)', 'Mean', 'Bias', 'CV', 'Sample',\n",
       "       'Reference Value', 'Year', 'Source (CAP/EurA1c)', 'Type (Fresh/frozen)',\n",
       "       'Manufacturer', 'Total'],\n",
       "      dtype='object')"
      ]
     },
     "execution_count": 230,
     "metadata": {},
     "output_type": "execute_result"
    }
   ],
   "source": [
    "top10_manufacturers.columns = top10_manufacturers.columns.str.replace('Total Error', 'Total')\n",
    "top10_manufacturers.columns"
   ]
  },
  {
   "cell_type": "code",
   "execution_count": 231,
   "metadata": {},
   "outputs": [
    {
     "data": {
      "text/plain": [
       "Index(['Method name', 'N (no. labs)', 'Mean', 'Bias', 'CV', 'Sample',\n",
       "       'Reference Value', 'Year', 'Source (CAP/EurA1c)', 'Type (Fresh/frozen)',\n",
       "       'Manufacturer', 'Total'],\n",
       "      dtype='object')"
      ]
     },
     "execution_count": 231,
     "metadata": {},
     "output_type": "execute_result"
    }
   ],
   "source": [
    "Siemens.columns = Siemens.columns.str.replace('Total Error', 'Total')\n",
    "Siemens.columns"
   ]
  },
  {
   "cell_type": "markdown",
   "metadata": {},
   "source": [
    "# Modeling"
   ]
  },
  {
   "cell_type": "code",
   "execution_count": 232,
   "metadata": {},
   "outputs": [
    {
     "name": "stdout",
     "output_type": "stream",
     "text": [
      "                            OLS Regression Results                            \n",
      "==============================================================================\n",
      "Dep. Variable:                   Year   R-squared:                       0.029\n",
      "Model:                            OLS   Adj. R-squared:                  0.027\n",
      "Method:                 Least Squares   F-statistic:                     18.91\n",
      "Date:                Thu, 19 May 2022   Prob (F-statistic):           1.60e-05\n",
      "Time:                        15:22:41   Log-Likelihood:                -1701.1\n",
      "No. Observations:                 638   AIC:                             3406.\n",
      "Df Residuals:                     636   BIC:                             3415.\n",
      "Df Model:                           1                                         \n",
      "Covariance Type:            nonrobust                                         \n",
      "==============================================================================\n",
      "                 coef    std err          t      P>|t|      [0.025      0.975]\n",
      "------------------------------------------------------------------------------\n",
      "Intercept   2017.0694      0.358   5634.559      0.000    2016.366    2017.772\n",
      "Total         -0.2380      0.055     -4.348      0.000      -0.346      -0.131\n",
      "==============================================================================\n",
      "Omnibus:                       88.775   Durbin-Watson:                   1.953\n",
      "Prob(Omnibus):                  0.000   Jarque-Bera (JB):               32.924\n",
      "Skew:                          -0.333   Prob(JB):                     7.09e-08\n",
      "Kurtosis:                       2.109   Cond. No.                         17.3\n",
      "==============================================================================\n",
      "\n",
      "Notes:\n",
      "[1] Standard Errors assume that the covariance matrix of the errors is correctly specified.\n"
     ]
    }
   ],
   "source": [
    "#model regressie trainen en testen\n",
    "#R2 zegt iets over de bruikbaarheid van je model\n",
    "traindata, testdata = train_test_split(Siemens, train_size=0.65, test_size=0.35, random_state=42)\n",
    "\n",
    "#eerst afhankelijke variabele, dus hierbij 'Manufacturer'\n",
    "mod1 = ols(formula='Year ~ Total', data=traindata).fit()\n",
    "print(mod1.summary())\n",
    "\n"
   ]
  },
  {
   "cell_type": "code",
   "execution_count": 233,
   "metadata": {},
   "outputs": [],
   "source": [
    "#weer afhankelijke variable\n",
    "# print(testdata[\"Manufacturer\"].corr(mod1.predict(testdata)) **2)"
   ]
  },
  {
   "cell_type": "code",
   "execution_count": 234,
   "metadata": {},
   "outputs": [
    {
     "data": {
      "text/plain": [
       "[<matplotlib.lines.Line2D at 0x1bb3cba00a0>]"
      ]
     },
     "execution_count": 234,
     "metadata": {},
     "output_type": "execute_result"
    },
    {
     "data": {
      "image/png": "[encoded data removed]",
      "text/plain": [
       "<Figure size 432x288 with 1 Axes>"
      ]
     },
     "metadata": {
      "needs_background": "light"
     },
     "output_type": "display_data"
    }
   ],
   "source": [
    "plt.plot(Siemens[\"Total\"],label='Total error')"
   ]
  }
 ],
 "metadata": {
  "interpreter": {
   "hash": "26de051ba29f2982a8de78e945f0abaf191376122a1563185a90213a26c5da77"
  },
  "kernelspec": {
   "display_name": "Python 3.10.4 64-bit",
   "language": "python",
   "name": "python3"
  },
  "language_info": {
   "codemirror_mode": {
    "name": "ipython",
    "version": 3
   },
   "file_extension": ".py",
   "mimetype": "text/x-python",
   "name": "python",
   "nbconvert_exporter": "python",
   "pygments_lexer": "ipython3",
   "version": "3.10.4"
  },
  "orig_nbformat": 4
 },
 "nbformat": 4,
 "nbformat_minor": 2
}
