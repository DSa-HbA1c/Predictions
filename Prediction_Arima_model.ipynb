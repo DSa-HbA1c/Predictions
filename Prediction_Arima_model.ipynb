{
 "cells": [
  {
   "cell_type": "markdown",
   "metadata": {},
   "source": [
    "# Over dit document\n",
    "In dit document wordt een CRISP-DM cycles doorlopen, welke vervolgens een dataproduct (visualisaties) op zal leveren. Tot slot wordt er een conclusie getrokken en advies gegeven. Bij dit advies zal het ethische aspect meegenomen worden en dat zal de meeste nadruk krijgen."
   ]
  },
  {
   "cell_type": "code",
   "execution_count": null,
   "metadata": {},
   "outputs": [],
   "source": [
    "import pandas as pd\n",
    "import numpy as np\n",
    "import matplotlib.pyplot as plt\n",
    "import seaborn as sns\n",
    "from statsmodels.tsa.arima_model import ARMA\n",
    "from sklearn.model_selection import train_test_split\n",
    "from statsmodels.formula.api import ols\n",
    "from sklearn import linear_model\n",
    "\n",
    "df=pd.read_excel(\"Complete-dataset-FINAL.xlsx\")"
   ]
  },
  {
   "cell_type": "markdown",
   "metadata": {},
   "source": [
    "\n",
    "# Business understanding\n",
    "Het ziekenhuis Isala wil de zorg voor diabetespatiënten verbeteren. Het gaat hier specifiek om het behandelproces door onnauwkeurigheden in metingen te filteren en hierop te baseren of een behandelplan aangepast moet worden of niet. Visualisaties zullen helpen bij het verkrijgen van inzicht van diverse meetmethoden om vervolgens conclusies te kunnen trekken. Die zijn er nog niet. Daarbij zou een visualisatie van een voorspelling meer inzicht brengen in hoe de total error mogelijk zal veranderen per jaar. Dit zou kunnen resulteren in toekomstige plannen voor het standaardiseren van de HbA1c meetmethoden.\n",
    "\n",
    "Om een voorspelling te realiseren & visualiseren wordt het ARIMA model gebruikt. Als eerste wordt er gekeken naar hoe stationair de data is. Vervolgens zullen de parameters (zie uitleg ARIMA model) voor dit model worden afgestemd op verschillende grafieken, ARIMA(p=?, d=?,q=?). Tot slot zal de voorspelling gevisualiseerd worden.\n",
    "\n",
    "#### Uitleg ARIMA model\n",
    "Het doel van een ARIMA model is het nabootsen van een tijdsserie. Dit wordt gedaan door de variaties in de data te modelleren door middel van de volgende drie opties: \n",
    "\n",
    "- AR (auto-regressief), voorgaande waardes worden gebruikt om nieuwe waardes te voorspellen.\n",
    "- I (integrated), niet de originele serie maar een gedifferentieerde tijdsserie wordt gebruikt. Dit om de tijdsserie stationair te maken. \n",
    "- MA (moving average), voorafgaande fouten worden gebruikt om nieuwe fouten voorspellen. Dit heeft een smoothing effect, een bewegend gemiddelde. \n",
    "\n",
    "Door deze effecten te mengen kun je de meeste tijdsseries nabootsen. In de volgende sectie gaan we de effecten van de AR en MA termen op een tijdsserie bekijken. \n",
    "\n",
    "Note\n",
    "\n",
    "In dit notebook zal er gefocust worden op het ARIMA model. Het aantal metingen per fabrikant verschilt enorm. Daarom wordt er nu gefocust op de top 10 fabrikanten met de meeste metingen.\n",
    "\n",
    "# Data understanding\n",
    "Welke databronnen zijn gegeven en in welk formaat:\n",
    "Een excel bestand genaamd: Complete-dataset-FINAL.xlsx\n",
    "##### note\n",
    "Het excel bestand dat gebruikt gaat worden, is het resultaat van rapporten die om zijn gezet naar excel. Dit is de meest recente versie waarin de meetmethoden zijn genormaliseerd en de waarden dubbelgecheckt zijn.\n",
    "\n",
    "Hoe groot zijn deze databronnen:\n",
    "355 kB\n",
    "\n",
    "-4685 rijen\n",
    "\n",
    "-12 kolommen\n",
    "\n",
    "\n",
    "\n",
    "Kolomnamen: Method name, N (no. labs), Mean, Bias, CV, Sample, Reference value, Year, Source, Type, Manufacturer (fabrikant).\n",
    "- Method name : Naam van het meetmethode\n",
    "- N\t: Aantal deelgenomen labs\n",
    "- Mean :  Gemiddelde van alle HbA1c waarde\n",
    "- Bias : Absolute toe- of afname van de hoeveelheid mmol/mol ten opzichte van de werkelijke waarde\n",
    "- CV : Laat zien wat de spreiding is de metingen\n",
    "- Sample : Hoeveelste meting in het jaar\n",
    "- Reference Value : Variabel die is gebaseerd op 95% van de gezonde populatie\t\t\n",
    "- Year : Welk jaar de meting is gedaan\n",
    "- Source\t: Amerikaanse of Europese data\n",
    "- Type : Vers of bevroren samples\n",
    "\n",
    "Datatypes: Object, float en int (jaar) \n",
    "\n",
    "# Data preparation\n",
    "De dataset wordt aangepast, zodat het bruikbaar is om tijdsreeksen mee te kunnen voorspellen."
   ]
  },
  {
   "cell_type": "code",
   "execution_count": null,
   "metadata": {},
   "outputs": [],
   "source": [
    "#Check to drop all empty values, adjust column name so it's usable\n",
    "df=df.dropna()\n",
    "df.columns = df.columns.str.replace('Total Error', 'Total')\n",
    "df.columns"
   ]
  },
  {
   "cell_type": "code",
   "execution_count": null,
   "metadata": {},
   "outputs": [],
   "source": [
    "df.Year.astype('int32')\n",
    "df['Year'] =pd.to_datetime(df.Year, format='%Y')\n",
    "df.info()"
   ]
  },
  {
   "cell_type": "code",
   "execution_count": null,
   "metadata": {},
   "outputs": [],
   "source": [
    "# df = df.set_index('Year')\n",
    "df.head()"
   ]
  },
  {
   "cell_type": "code",
   "execution_count": null,
   "metadata": {},
   "outputs": [],
   "source": [
    "# predict only top 10 manufacturers with most datapoints\n",
    "list_top10 = df['Manufacturer'].value_counts()[:10].index.tolist()\n",
    "top10_manufacturers = df.loc[df['Manufacturer'].isin(list_top10)]\n",
    "top10_manufacturers['Manufacturer'].value_counts()\n",
    "top10_manufacturers.info()"
   ]
  },
  {
   "cell_type": "code",
   "execution_count": null,
   "metadata": {},
   "outputs": [],
   "source": [
    "top10_manufacturers=top10_manufacturers[['Manufacturer', 'Total']]\n",
    "manufacturers = top10_manufacturers.groupby(\"Manufacturer\")\n",
    "manufacturers.size().nlargest(20)"
   ]
  },
  {
   "cell_type": "code",
   "execution_count": null,
   "metadata": {},
   "outputs": [],
   "source": [
    "#quick overview of the data\n",
    "for name, data in manufacturers:\n",
    "    print(name)\n",
    "    plt.plot(data.index, data['Total'])\n",
    "    plt.show()"
   ]
  },
  {
   "cell_type": "markdown",
   "metadata": {},
   "source": [
    "# Note\n",
    "Hier is te zien dat er niet een duidelijke lijn wordt weergegeven van door de jaren heen. Dit is een indicatie dat in de dataset de datapunten nog moeten worden gesorteerd. Bij de volgende grafieken zijn de datapunten gesorteerd."
   ]
  },
  {
   "cell_type": "code",
   "execution_count": null,
   "metadata": {},
   "outputs": [],
   "source": [
    "manufacturers_top10 = top10_manufacturers.sort_values(by=\"Year\")\n",
    "manufacturers_top10 = manufacturers_top10.reset_index()\n",
    "\n",
    "manufacturers_top10=manufacturers_top10[['Manufacturer', 'Total']]\n",
    "manufacturers_sorted = manufacturers_top10.groupby(\"Manufacturer\")\n",
    "\n",
    "for name, data in manufacturers_sorted:\n",
    "    print(name)\n",
    "    plt.plot(data.index, data['Total'])\n",
    "    plt.show()"
   ]
  },
  {
   "cell_type": "markdown",
   "metadata": {},
   "source": [
    "# Analyse lijnplot\n",
    "In de gesorteerde grafieken is redelijk een stationaire lijn te zien. Dit zal worden meegenomen in het bepalen van de parameters van het ARIMA model."
   ]
  },
  {
   "cell_type": "markdown",
   "metadata": {},
   "source": [
    "# Modeling : parameters ARIMA"
   ]
  },
  {
   "cell_type": "code",
   "execution_count": null,
   "metadata": {},
   "outputs": [],
   "source": [
    "# Check for stationarity of the time-series data\n",
    "# We will look for p-value. In case, p-value is less than 0.05, the time series data can said to have stationarity.\n",
    "from statsmodels.tsa.stattools import adfuller\n",
    "List_meetmethoden = []\n",
    "\n",
    "\n",
    "#AIC input is to compute the optimal number iteratively.\n",
    "for name, data in manufacturers: \n",
    "    data= data.dropna()\n",
    "    print(name) \n",
    "    df_stationarityTest = adfuller(data['Total'], autolag='AIC')    \n",
    "    \n",
    "    # data['Total'].plot(figsize=(16,10))\n",
    "    # plt.show() \n",
    "    print(\"\\n\")\n",
    "    print(f'ADF Statistic: {df_stationarityTest[0]}')\n",
    "    print(f'n_lags: {df_stationarityTest[1]}')\n",
    "    print(f'p-value: {df_stationarityTest[1]}')\n",
    "    for key, value in df_stationarityTest[4].items():\n",
    "        print('Critial Values:')\n",
    "        print(f'   {key}, {value}')    \n",
    "\n",
    "    \n",
    "    if df_stationarityTest[1] > 0.05:\n",
    "        List_meetmethoden.append(name)\n",
    "    print(\"\\n\")\n",
    "\n",
    "print(\"Meetmethoden met een p-waarden boven de 0.05:\")\n",
    "List_meetmethoden"
   ]
  },
  {
   "cell_type": "markdown",
   "metadata": {},
   "source": [
    "### Analyse van p-values\n",
    "Bij een p-value van 0.05 of er onder, betekent het dat je met zekerheid kan zeggen dat er een relatie is. Wanneer de p-value hoger is dan 0.05 betekent het dat er een kans is op een nulhypothese (voorspelling met geen effect of enige relatie).\n",
    "Om deze meetmethoden onder de 0.05 te krijgen, wordt het gedifferentieerd. \n",
    "\n",
    "#### Differentiatie van meetmethoden met p-value > 0.05"
   ]
  },
  {
   "cell_type": "code",
   "execution_count": null,
   "metadata": {},
   "outputs": [],
   "source": [
    "#Één keer diffrentiëren\n",
    "for name, data in manufacturers:\n",
    "    if name in List_meetmethoden:\n",
    "        print(\"\\n\" + name) \n",
    "        df_stationarityTest = adfuller(data['Total'].diff().dropna(), autolag='AIC')   \n",
    "        # data['Total'].diff().plot(figsize=(16,10))\n",
    "        plt.show() \n",
    "        \n",
    "        print(\"\")\n",
    "        print(f'ADF Statistic: {df_stationarityTest[0]}')\n",
    "        print(f'n_lags: {df_stationarityTest[1]}')\n",
    "        print(f'p-value: {df_stationarityTest[1]}')\n",
    "        for key, value in df_stationarityTest[4].items():\n",
    "            print('Critial Values:')\n",
    "            print(f'   {key}, {value}')    \n",
    "\n",
    "        "
   ]
  },
  {
   "cell_type": "code",
   "execution_count": null,
   "metadata": {},
   "outputs": [],
   "source": [
    "#2x diff = I (ARIMA)\n",
    "for name, data in manufacturers:\n",
    "    if name in List_meetmethoden:\n",
    "        print(\"\\n\")\n",
    "        print(name) \n",
    "        # data['Total'].diff().diff().plot(figsize=(16,10))\n",
    "        # plt.show()\n",
    "        data_diff = data['Total'].diff().diff().dropna()\n",
    "        \n",
    "        df_stationarityTest = adfuller(data_diff, autolag='AIC')    \n",
    "\n",
    "        print(f'ADF Statistic: {df_stationarityTest[0]}')\n",
    "        print(f'n_lags: {df_stationarityTest[1]}')\n",
    "        print(f'p-value: {df_stationarityTest[1]}')\n",
    "        for key, value in df_stationarityTest[4].items():\n",
    "            print('Critial Values:')\n",
    "            print(f'   {key}, {value}')    \n"
   ]
  },
  {
   "cell_type": "markdown",
   "metadata": {},
   "source": [
    "\n",
    "# Conclusie p-waarden\n",
    "Hier is te zien dat bij twee keer differentiëren dat de p-waarden juist groter worden. Voor het ARIMA model nemen we de kleinste p-waarde. Daarom nemen we 0 als parameter bij alle meetmethoden. Dus ARIMA(p=?,d=0,q=?)\n"
   ]
  },
  {
   "cell_type": "markdown",
   "metadata": {},
   "source": [
    "# ACF & PACF"
   ]
  },
  {
   "cell_type": "markdown",
   "metadata": {},
   "source": [
    "### ACF plot"
   ]
  },
  {
   "cell_type": "code",
   "execution_count": null,
   "metadata": {},
   "outputs": [],
   "source": [
    "from statsmodels.graphics.tsaplots import plot_acf\n",
    "for name, data in manufacturers: \n",
    "    acf =plot_acf(data['Total'], title=name, alpha=.05)\n",
    "    "
   ]
  },
  {
   "cell_type": "markdown",
   "metadata": {},
   "source": [
    "### Analyse van ACF plot\n",
    "In dit autocorrelatieplot liggen bijna alle waardes buiten het lichtblauwe onzekerheidsgebied (deze variantie in autocorrelatie kan mogelijk ook worden verklaard door ruis). Daarnaast zijn de meeste punten positief. Dit zou betekenen dat we juist wel moeten differentiëren.\n"
   ]
  },
  {
   "cell_type": "code",
   "execution_count": null,
   "metadata": {},
   "outputs": [],
   "source": [
    "from statsmodels.graphics.tsaplots import plot_acf\n",
    "for name, data in manufacturers: \n",
    "    acf =plot_acf(data['Total'].diff().dropna(), title=name, alpha=.05)"
   ]
  },
  {
   "cell_type": "markdown",
   "metadata": {},
   "source": [
    "# Analayse acf plot met differentiëren\n",
    "Na het differentiëren ziet de acf plot er gelijk beter uit. Zo is er een verdeling tussen positieve en negatieve waarden en vallen de meeste datapunten binnen het onzekerheidsgebied. In kort laat de Adfuller test en de acf plot verschillende uitgangspunten zien. \n",
    "\n",
    "Achteraf is hier feedback over gevraagd aan Ruben. Hieruit is gekomen dat de Adfullter test resultaat als uitgangspunt zal worden genomen.\n",
    "D is 0, dus ARIMA(p=?,d=0,q=?)\n",
    "Voor het bepalen van de q parameter kijken we naar de datapunten die buiten de onzekerheidgebied vallen in de acf plot."
   ]
  },
  {
   "cell_type": "code",
   "execution_count": null,
   "metadata": {},
   "outputs": [],
   "source": [
    "#This list is created by just counting the data points that are outside the confidence interval\n",
    "Lijst_MA = [3,2,1,6,4,1,2,2,5,1]"
   ]
  },
  {
   "cell_type": "markdown",
   "metadata": {},
   "source": [
    "# Pacf plot"
   ]
  },
  {
   "cell_type": "code",
   "execution_count": null,
   "metadata": {},
   "outputs": [],
   "source": [
    "from statsmodels.graphics.tsaplots import plot_pacf\n",
    "\n",
    "for name, data in manufacturers: \n",
    "    pacf = plot_pacf(data['Total'], title=name)"
   ]
  },
  {
   "cell_type": "markdown",
   "metadata": {},
   "source": [
    "### Analyse van pacf plot\n",
    "De partiële autocorrelatie geeft weer hoe sterk het verband is tussen de waarde van een lag en de waarde van voorgaande lags. Als er tussen de lags nog significante correlatie bestaat is dit een aanwijzing dat er auto-correlatie optreed en dat het instellen van de AR parameter een goed idee is.\n",
    "\n",
    "Bij alle grafieken is te zien dat de eerste lag het meest significant is. Daarom nemen we p met de waarde 1. Dus ARIMA(p=1,d=0,q=lijst_MA)"
   ]
  },
  {
   "cell_type": "markdown",
   "metadata": {},
   "source": [
    "# ARIMA modeling"
   ]
  },
  {
   "cell_type": "code",
   "execution_count": null,
   "metadata": {},
   "outputs": [],
   "source": [
    "from statsmodels.tsa.arima_model import ARIMA\n",
    "import statsmodels.api as sm\n",
    "from sklearn.model_selection import train_test_split\n",
    "import datetime"
   ]
  },
  {
   "cell_type": "markdown",
   "metadata": {},
   "source": [
    "## ARIMA summary output"
   ]
  },
  {
   "cell_type": "code",
   "execution_count": null,
   "metadata": {},
   "outputs": [],
   "source": [
    "counter= 0\n",
    "\n",
    "for name, data in manufacturers:\n",
    "    print(name)\n",
    "    data.index = pd.DatetimeIndex(data.index).to_period('M')\n",
    "\n",
    "    model = sm.tsa.arima.ARIMA(data['Total'].diff().dropna(), order=(1,0,Lijst_MA[counter]))\n",
    "    model_fit = model.fit()\n",
    "    print(model_fit.summary())\n",
    "    counter = counter +1\n",
    "    \n",
    "   \n",
    "#P>|z| significant? onder 0.01"
   ]
  },
  {
   "cell_type": "markdown",
   "metadata": {},
   "source": [
    "## ARIMA prediction visualisation"
   ]
  },
  {
   "cell_type": "code",
   "execution_count": null,
   "metadata": {},
   "outputs": [],
   "source": [
    "counter= 0\n",
    "from sklearn.model_selection import train_test_split\n",
    "\n",
    "import datetime\n",
    "for name, data in manufacturers:\n",
    "    tempdf = data[['Total']].dropna()\n",
    "    X = tempdf.iloc[:, :1].values\n",
    "    Y = tempdf.index.values\n",
    "    \n",
    "    X_train, X_test, y_train, y_test = train_test_split(X, Y, test_size=0.4, random_state=0)\n",
    "\n",
    "    model = sm.tsa.arima.ARIMA(X_train, order=(1,0,Lijst_MA[counter]))\n",
    "    model_fit = model.fit()\n",
    "    counter = counter +1 #next in list\n",
    "\n",
    "    y_pred = model_fit.predict(disp=0, exog=None, dynamic=False)\n",
    "    length_predicted_values = len(y_pred)\n",
    "\n",
    "\n",
    "    preddf = pd.DataFrame(y_pred, columns=['Total'])\n",
    "    preddf['Year'] = pd.to_datetime('2022-01-01')\n",
    "    preddf = preddf.set_index('Year')\n",
    "    \n",
    "    \n",
    "    # Add tempdf and preddf together and reset index\n",
    "    tempdf = pd.concat([tempdf, preddf], axis=0)\n",
    "\n",
    "    tempdf.reset_index(inplace=True)\n",
    "    \n",
    "    #find predicted value in concatenated dataframe\n",
    "    start_index_predValues = max(tempdf.index)-length_predicted_values    \n",
    "    real_values_df = tempdf.loc[:start_index_predValues]\n",
    "   \n",
    "    #sort by year and reset index so all years line up\n",
    "    real_values_df = real_values_df.sort_values(by=\"Year\")\n",
    "    real_values_df = real_values_df.reset_index()\n",
    "    \n",
    "    l = sns.lineplot(x=real_values_df.index, y='Total', data=real_values_df, hue=real_values_df['Year'])\n",
    "    l.set_title('Total error prediction: ' + name )\n",
    "    \n",
    "    #show predicted values\n",
    "    predict_values_df = tempdf.loc[start_index_predValues:]\n",
    "    sns.lineplot(x=predict_values_df.index, y='Total', data=predict_values_df, color='orange')\n",
    "    sns.set(rc = {'figure.figsize':(25,8)})\n",
    "    plt.show()"
   ]
  },
  {
   "cell_type": "markdown",
   "metadata": {},
   "source": [
    "# Evaluation\n"
   ]
  },
  {
   "cell_type": "markdown",
   "metadata": {},
   "source": [
    "Tijdens het bepalen van de arima modellen zijn bij 2 meetmethoden geen geschikte p-waarde gevonden. Namelijk bij de 'Abott' en 'Roche diagonistics'. Doordat de p-waarde niet onder de 0.05 is, moet er bij de voorspelling van deze meetmethoden rekening worden gehouden met een groter onzekerheidsgebied.\n",
    "\n",
    "\n",
    "#### Conclusie\n",
    "Er zijn bij alle de meetmethoden op te merken dat in het jaar 2022 (oranje-lijntje) een sterke daling of stijging wordt voorspeld, waarbij diverse meetmethoden nog wat pieken gaan krijgen en dan in de meeste gevallen zullen stabiliseren. \n",
    "\n",
    "\n",
    "#### Advies\n",
    "Het advies voor de opdrachtgever is derhalve om dit model en deze visualisaties slechts als indicatie te gebruiken. Dit wordt aanbevolen op basis van de ethische vraag 'Kunnen deze visualisaties leiden tot gepaste, ethische conclusies?'.\n",
    "\n",
    "Als het gaat om de waarde 'precisie', zullen deze visualisaties niet leiden tot gepaste ethische conclusies. De metingen die in de rapporten staan, zijn genoteerd zonder accurate datums. Hierdoor is de voorspelling gemaakt op data waarvan de datums niet bekend zijn, terwijl deze datums bij het gebruikte model een essentieel component zijn. Door dat deze datums niet zijn meegenomen, is de voorspelling derhalve minder nauwkeurig. Daarom is het advies om deze visualisaties slechts als indicatie te gebruiken en niet als richtlijn. \n",
    "\n",
    "    \n"
   ]
  },
  {
   "cell_type": "markdown",
   "metadata": {},
   "source": []
  }
 ],
 "metadata": {
  "interpreter": {
   "hash": "26de051ba29f2982a8de78e945f0abaf191376122a1563185a90213a26c5da77"
  },
  "kernelspec": {
   "display_name": "Python 3.10.4 64-bit",
   "language": "python",
   "name": "python3"
  },
  "language_info": {
   "codemirror_mode": {
    "name": "ipython",
    "version": 3
   },
   "file_extension": ".py",
   "mimetype": "text/x-python",
   "name": "python",
   "nbconvert_exporter": "python",
   "pygments_lexer": "ipython3",
   "version": "3.10.4"
  },
  "orig_nbformat": 4
 },
 "nbformat": 4,
 "nbformat_minor": 2
}
