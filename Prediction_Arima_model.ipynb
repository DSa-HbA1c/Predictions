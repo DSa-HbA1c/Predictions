{
 "cells": [
  {
   "cell_type": "code",
   "execution_count": null,
   "metadata": {},
   "outputs": [],
   "source": [
    "import pandas as pd\n",
    "import numpy as np\n",
    "import matplotlib.pyplot as plt\n",
    "import seaborn as sns\n",
    "from statsmodels.tsa.arima_model import ARMA\n",
    "from sklearn.model_selection import train_test_split\n",
    "from statsmodels.formula.api import ols\n",
    "from sklearn import linear_model\n",
    "\n",
    "df=pd.read_excel(\"Complete-dataset-FINAL.xlsx\")"
   ]
  },
  {
   "cell_type": "markdown",
   "metadata": {},
   "source": [
    "### Note\n",
    "Dit model is een alternatief voor de lineare regressie model. De algemene bunsiness & data understanding zijn te vinden in de Jupyter notebook van de lineare regressie. In deze notebook zal er gefocust worden op het voorspellingsmodel (ARIMA model).\n",
    "\n",
    "# Business understanding\n",
    "We gaan het ARIMA model gebruiken. Er wordt als eerste gekeken naar hoe stationair de data is. Dit zal betekenen dat een tijdsreeks niet afhankelijk is van tijd. En dan zullen de parameters voor het ARIMA model worden bepaald. ARIMA(p=?, d=?,q=?)\n",
    "\n",
    "### ARIMA model\n",
    "Het doel van een ARIMA model is het nabootsen van een tijdsserie. Dit wordt gedaan door de variaties in de data te modelleren door middel van de volgende drie opties: \n",
    "\n",
    "- AR (auto-regressief), voorgaande waardes worden gebruikt om nieuwe waardes te voorspellen.\n",
    "- I (integrated), niet de originele serie maar een gedifferentieerde tijdsserie wordt gebruikt. Dit om de tijdsserie stationair te maken. \n",
    "- MA (moving average), voorafgaande fouten worden gebruikt om nieuwe fouten voorspellen. Dit heeft een smoothing effect, een bewegend gemiddelde. \n",
    "\n",
    "Door deze effecten te mengen kun je de meeste tijdsseries nabootsen. In de volgende sectie gaan we de effecten van de AR en MA termen op een tijdsserie bekijken. \n",
    "\n",
    "\n",
    "\n",
    "# Data preparation"
   ]
  },
  {
   "cell_type": "code",
   "execution_count": null,
   "metadata": {},
   "outputs": [],
   "source": [
    "df=df.dropna()\n",
    "df.columns = df.columns.str.replace('Total Error', 'Total')\n",
    "df.columns"
   ]
  },
  {
   "cell_type": "code",
   "execution_count": null,
   "metadata": {},
   "outputs": [],
   "source": [
    "df.Year.astype('int32')\n",
    "df['Year'] =pd.to_datetime(df.Year, format='%Y')\n",
    "df.info()"
   ]
  },
  {
   "cell_type": "code",
   "execution_count": null,
   "metadata": {},
   "outputs": [],
   "source": [
    "df = df.set_index('Year')\n",
    "df.head()"
   ]
  },
  {
   "cell_type": "code",
   "execution_count": null,
   "metadata": {},
   "outputs": [],
   "source": [
    "# predict only top 10 manufacturers\n",
    "list_top10 = df['Manufacturer'].value_counts()[:10].index.tolist()\n",
    "top10_manufacturers = df.loc[df['Manufacturer'].isin(list_top10)]\n",
    "top10_manufacturers['Manufacturer'].value_counts()\n",
    "top10_manufacturers.info()"
   ]
  },
  {
   "cell_type": "code",
   "execution_count": null,
   "metadata": {},
   "outputs": [],
   "source": [
    "manufacturers = top10_manufacturers.groupby(\"Manufacturer\")\n",
    "manufacturers.size().nlargest(20)"
   ]
  },
  {
   "cell_type": "code",
   "execution_count": null,
   "metadata": {},
   "outputs": [],
   "source": [
    "top10_manufacturers = top10_manufacturers.dropna()\n",
    "top10_manufacturers=top10_manufacturers[['Manufacturer', 'Total']]\n",
    "top10_manufacturers.info()"
   ]
  },
  {
   "cell_type": "code",
   "execution_count": null,
   "metadata": {},
   "outputs": [],
   "source": [
    "for name, data in manufacturers:\n",
    "    print(name)\n",
    "    plt.plot(data.index, data['Total'])\n",
    "    plt.show()"
   ]
  },
  {
   "cell_type": "markdown",
   "metadata": {},
   "source": [
    "# Note\n",
    "Hier is te zien dat er niet een duidelijke lijn wordt weergegeven van door de jaren heen. Dit is een indicatie dat het ARIMA model mogelijk niet geschikt zal zijn."
   ]
  },
  {
   "cell_type": "markdown",
   "metadata": {},
   "source": [
    "# Modeling : parameters ARIMA"
   ]
  },
  {
   "cell_type": "code",
   "execution_count": null,
   "metadata": {},
   "outputs": [],
   "source": [
    "# top10_manufacturers= top10_manufacturers.dropna()\n",
    "# manufacturers = top10_manufacturers.groupby(\"Manufacturer\")"
   ]
  },
  {
   "cell_type": "code",
   "execution_count": null,
   "metadata": {},
   "outputs": [],
   "source": [
    "# Check for stationarity of the time-series data\n",
    "# We will look for p-value. In case, p-value is less than 0.05, the time series data can said to have stationarity.\n",
    "from statsmodels.tsa.stattools import adfuller\n",
    "List_meetmethoden = []\n",
    "\n",
    "\n",
    "#AIC input is to compute the optimal number iteratively.\n",
    "for name, data in manufacturers: \n",
    "    data= data.dropna()\n",
    "    print(name) \n",
    "    df_stationarityTest = adfuller(data['Total'], autolag='AIC')    \n",
    "    \n",
    "    data['Total'].plot(figsize=(16,10))\n",
    "    plt.show() \n",
    "    print(\"\\n\")\n",
    "    print(f'ADF Statistic: {df_stationarityTest[0]}')\n",
    "    print(f'n_lags: {df_stationarityTest[1]}')\n",
    "    print(f'p-value: {df_stationarityTest[1]}')\n",
    "    for key, value in df_stationarityTest[4].items():\n",
    "        print('Critial Values:')\n",
    "        print(f'   {key}, {value}')    \n",
    "\n",
    "    \n",
    "    if df_stationarityTest[1] > 0.05:\n",
    "        List_meetmethoden.append(name)\n",
    "    print(\"\\n\")\n",
    "\n",
    "print(\"Meetmethoden met een p-waarden van boven de 0.05:\")\n",
    "List_meetmethoden"
   ]
  },
  {
   "cell_type": "markdown",
   "metadata": {},
   "source": [
    "### Analyse van p-values\n",
    "Een p-value van 0.05 of er onder ligt, betekent dat de data stationair is. De resultaten laten zien dat bij sommige de meetmethoden de data niet stationair is. Dit betekent dat bij deze meetmethoden nullhypothese (voorspelt geen effect of relatie) mogelijk van toepassing is.\n",
    "Om deze meetmethoden stationair te maken, wordt het gedifferentieerd. \n",
    "\n",
    "#### Differentiatie van meetmethoden met p-value > 0.05"
   ]
  },
  {
   "cell_type": "code",
   "execution_count": null,
   "metadata": {},
   "outputs": [],
   "source": [
    "#Één keer diffrentiëren\n",
    "for name, data in manufacturers:\n",
    "    if name in List_meetmethoden:\n",
    "        print(\"\\n\" + name) \n",
    "        df_stationarityTest = adfuller(data['Total'].diff().dropna(), autolag='AIC')   \n",
    "        data['Total'].diff().plot(figsize=(16,10))\n",
    "        plt.show() \n",
    "        \n",
    "        print(\"\")\n",
    "        print(f'ADF Statistic: {df_stationarityTest[0]}')\n",
    "        print(f'n_lags: {df_stationarityTest[1]}')\n",
    "        print(f'p-value: {df_stationarityTest[1]}')\n",
    "        for key, value in df_stationarityTest[4].items():\n",
    "            print('Critial Values:')\n",
    "            print(f'   {key}, {value}')    \n",
    "\n",
    "        "
   ]
  },
  {
   "cell_type": "code",
   "execution_count": null,
   "metadata": {},
   "outputs": [],
   "source": [
    "#2x diff = I (ARIMA)\n",
    "for name, data in manufacturers:\n",
    "    if name in List_meetmethoden:\n",
    "        print(\"\\n\")\n",
    "        print(name) \n",
    "        # data['Total'].diff().diff().plot(figsize=(16,10))\n",
    "        # plt.show()\n",
    "        data_diff = data['Total'].diff().diff().dropna()\n",
    "        \n",
    "        df_stationarityTest = adfuller(data_diff, autolag='AIC')    \n",
    "\n",
    "        print(f'ADF Statistic: {df_stationarityTest[0]}')\n",
    "        print(f'n_lags: {df_stationarityTest[1]}')\n",
    "        print(f'p-value: {df_stationarityTest[1]}')\n",
    "        for key, value in df_stationarityTest[4].items():\n",
    "            print('Critial Values:')\n",
    "            print(f'   {key}, {value}')    \n"
   ]
  },
  {
   "cell_type": "markdown",
   "metadata": {},
   "source": [
    "\n",
    "# Conclusie p-waarden\n",
    "Hier is te zien dat bij 2 keer differentiëren dat de p-waarden juist groter worden. Voor het ARIMA model wordt de kleinste p-waarde gebruikt. Daarom nemen we 0 als parameter bij alle meetmethoden. Dus ARIMA(p=?,d=0,q=?)"
   ]
  },
  {
   "cell_type": "markdown",
   "metadata": {},
   "source": [
    "# Data preparation ACF & PACF"
   ]
  },
  {
   "cell_type": "markdown",
   "metadata": {},
   "source": [
    "### ACF plot"
   ]
  },
  {
   "cell_type": "code",
   "execution_count": null,
   "metadata": {},
   "outputs": [],
   "source": [
    "from statsmodels.graphics.tsaplots import plot_acf\n",
    "for name, data in manufacturers: \n",
    "    acf =plot_acf(data['Total'], title=name, alpha=.05)\n",
    "    "
   ]
  },
  {
   "cell_type": "markdown",
   "metadata": {},
   "source": [
    "### Analyse van ACF plot\n",
    "In dit autocorrelatieplot liggen bijna alle waardes niet binnen het lichtblauwe onzekerheidsgebied (deze variantie in autocorrelatie kan mogelijk worden verklaard door ruis). Dit betekent dat we juist wel MA-parameter moeten in te stellen (datapunten buiten het onzekerheidgebied).\n",
    "Per methode is er een andere MA waarden. "
   ]
  },
  {
   "cell_type": "code",
   "execution_count": null,
   "metadata": {},
   "outputs": [],
   "source": [
    "Lijst_MA = [13,2,11,13,26,5,15,8,7,2]"
   ]
  },
  {
   "cell_type": "code",
   "execution_count": null,
   "metadata": {},
   "outputs": [],
   "source": [
    "from statsmodels.graphics.tsaplots import plot_pacf\n",
    "\n",
    "for name, data in manufacturers: \n",
    "    pacf = plot_pacf(data['Total'], title=name)"
   ]
  },
  {
   "cell_type": "markdown",
   "metadata": {},
   "source": [
    "### Analyse van pacf plot\n",
    "De partiële autocorrelatie geeft weer hoe sterk het verband is tussen de waarde van een lag en de waarde van voorgaande lags. Als er tussen de lags nog significante correlatie bestaat is dit een aanwijzing dat er auto-correlatie optreed en dat het instellen van de AR parameter een goed idee is.\n",
    "\n",
    "Bij alle grafieken is te zien dat de eerste lag het meest significant is. Daarom nemen we p met de waarde 1. Dus ARIMA(p=1,d=0,q=lijst_MA)"
   ]
  },
  {
   "cell_type": "markdown",
   "metadata": {},
   "source": [
    "# ARIMA modeling"
   ]
  },
  {
   "cell_type": "code",
   "execution_count": null,
   "metadata": {},
   "outputs": [],
   "source": [
    "from statsmodels.tsa.arima_model import ARIMA\n",
    "import statsmodels.api as sm\n",
    "from sklearn.model_selection import train_test_split\n",
    "import datetime"
   ]
  },
  {
   "cell_type": "markdown",
   "metadata": {},
   "source": [
    "## ARIMA summary output"
   ]
  },
  {
   "cell_type": "code",
   "execution_count": null,
   "metadata": {},
   "outputs": [],
   "source": [
    "counter= 0\n",
    "\n",
    "for name, data in manufacturers:\n",
    "    print(name)\n",
    "    data.index = pd.DatetimeIndex(data.index).to_period('M')\n",
    "\n",
    "    model = sm.tsa.arima.ARIMA(data['Total'].diff().dropna(), order=(0,2,Lijst_MA[counter]))\n",
    "    model_fit = model.fit()\n",
    "    print(model_fit.summary())\n",
    "    counter = counter +1\n",
    "    \n",
    "   \n",
    "#P>|z| significant? onder 0.01"
   ]
  },
  {
   "cell_type": "markdown",
   "metadata": {},
   "source": [
    "## ARIMA prediction visualisation"
   ]
  },
  {
   "cell_type": "code",
   "execution_count": null,
   "metadata": {},
   "outputs": [],
   "source": [
    "counter= 0\n",
    "from sklearn.model_selection import train_test_split\n",
    "\n",
    "import datetime\n",
    "for name, data in manufacturers:\n",
    "    tempdf = data[['Total']].dropna()\n",
    "    X = tempdf.iloc[:, :1].values\n",
    "    Y = tempdf.index.values\n",
    "    \n",
    "    X_train, X_test, y_train, y_test = train_test_split(X, Y, test_size=0.4, random_state=0)\n",
    "\n",
    "    model = sm.tsa.arima.ARIMA(X_train, order=(0,2,Lijst_MA[counter]))\n",
    "    model_fit = model.fit()\n",
    "    counter = counter +1 #next in list\n",
    "\n",
    "    y_pred = model_fit.predict(disp=0, exog=None, dynamic=False)\n",
    "    length_predicted_values = len(y_pred)\n",
    "\n",
    "\n",
    "    preddf = pd.DataFrame(y_pred, columns=['Total'])\n",
    "    preddf['Year'] = pd.to_datetime('2022-01-01')\n",
    "    preddf = preddf.set_index('Year')\n",
    "    \n",
    "    \n",
    "    # Add tempdf and preddf together and reset index\n",
    "    tempdf = pd.concat([tempdf, preddf], axis=0)\n",
    "\n",
    "    tempdf.reset_index(inplace=True)\n",
    "    \n",
    "    #find predicted value in concatenated dataframe\n",
    "    start_index_predValues = max(tempdf.index)-length_predicted_values    \n",
    "    real_values_df = tempdf.loc[:start_index_predValues]\n",
    "   \n",
    "    #sort by year and reset index so all years line up\n",
    "    real_values_df = real_values_df.sort_values(by=\"Year\")\n",
    "    real_values_df = real_values_df.reset_index()\n",
    "    \n",
    "    l = sns.lineplot(x=real_values_df.index, y='Total', data=real_values_df, hue=real_values_df['Year'])\n",
    "    l.set_title('Total error prediction: ' + name )\n",
    "    \n",
    "    #show predicted values\n",
    "    predict_values_df = tempdf.loc[start_index_predValues:]\n",
    "    sns.lineplot(x=predict_values_df.index, y='Total', data=predict_values_df, color='orange')\n",
    "\n",
    "    sns.set(rc = {'figure.figsize':(25,8)})\n",
    "    plt.show()\n",
    "    "
   ]
  },
  {
   "cell_type": "code",
   "execution_count": null,
   "metadata": {},
   "outputs": [],
   "source": []
  }
 ],
 "metadata": {
  "interpreter": {
   "hash": "26de051ba29f2982a8de78e945f0abaf191376122a1563185a90213a26c5da77"
  },
  "kernelspec": {
   "display_name": "Python 3.10.4 64-bit",
   "language": "python",
   "name": "python3"
  },
  "language_info": {
   "codemirror_mode": {
    "name": "ipython",
    "version": 3
   },
   "file_extension": ".py",
   "mimetype": "text/x-python",
   "name": "python",
   "nbconvert_exporter": "python",
   "pygments_lexer": "ipython3",
   "version": "3.10.4"
  },
  "orig_nbformat": 4
 },
 "nbformat": 4,
 "nbformat_minor": 2
}
