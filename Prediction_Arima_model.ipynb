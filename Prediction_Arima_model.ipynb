{
 "cells": [
  {
   "cell_type": "code",
   "execution_count": 1,
   "metadata": {},
   "outputs": [],
   "source": [
    "import pandas as pd\n",
    "import numpy as np\n",
    "import matplotlib.pyplot as plt\n",
    "import seaborn as sns\n",
    "import sklearn\n",
    "from sklearn.model_selection import train_test_split\n",
    "from statsmodels.formula.api import ols\n",
    "from sklearn import linear_model\n",
    "\n",
    "df=pd.read_excel(\"Complete-dataset.xlsx\")"
   ]
  },
  {
   "cell_type": "code",
   "execution_count": null,
   "metadata": {},
   "outputs": [],
   "source": []
  },
  {
   "cell_type": "markdown",
   "metadata": {},
   "source": [
    "### Note\n",
    "Dit model is een alternatief voor de lineare regressie model. De bunsiness & data understanding zijn te vinden in de Jupyter notebook van de lineare regressie\n",
    "\n",
    "# Data preparation"
   ]
  },
  {
   "cell_type": "code",
   "execution_count": 2,
   "metadata": {},
   "outputs": [
    {
     "data": {
      "text/plain": [
       "Manufacturer\n",
       "Siemens              982\n",
       "Bio-Rad              788\n",
       "Roche                618\n",
       "Beckman Coulter      384\n",
       "Tosoh                349\n",
       "Abbott               310\n",
       "Sebia                203\n",
       "Trinity Biotech      188\n",
       "Vitros               162\n",
       "Alere                121\n",
       "Arkray                95\n",
       "Axis-Shield           57\n",
       "Roche Diagnostics     56\n",
       "Menarini              52\n",
       "Primus                42\n",
       "Roche/Hitachi         42\n",
       "Bayer                 36\n",
       "Metrika               30\n",
       "Olympus               30\n",
       "Dade Behring          24\n",
       "dtype: int64"
      ]
     },
     "execution_count": 2,
     "metadata": {},
     "output_type": "execute_result"
    }
   ],
   "source": [
    "manufacturers = df.groupby(\"Manufacturer\")\n",
    "manufacturers.size().nlargest(20)"
   ]
  },
  {
   "cell_type": "code",
   "execution_count": null,
   "metadata": {},
   "outputs": [],
   "source": [
    "df.columns = df.columns.str.replace('Total Error', 'Total')\n",
    "df.columns"
   ]
  },
  {
   "cell_type": "code",
   "execution_count": null,
   "metadata": {},
   "outputs": [],
   "source": [
    "list_top10 = df['Manufacturer'].value_counts()[:10].index.tolist()\n",
    "top10_manufacturers = df.loc[df['Manufacturer'].isin(list_top10)]\n",
    "top10_manufacturers['Manufacturer'].value_counts()\n",
    "top10_manufacturers = top10_manufacturers.dropna()"
   ]
  },
  {
   "cell_type": "code",
   "execution_count": null,
   "metadata": {},
   "outputs": [],
   "source": [
    "sns.lineplot(x=\"Year\", y=\"Total\",\n",
    "             hue=\"Manufacturer\", \n",
    "             data=top10_manufacturers)"
   ]
  },
  {
   "cell_type": "markdown",
   "metadata": {},
   "source": [
    "# Modeling"
   ]
  },
  {
   "cell_type": "markdown",
   "metadata": {},
   "source": [
    "#model regressie trainen en testen\n",
    "#R2 zegt iets over de bruikbaarheid van je model\n",
    "traindata, testdata = train_test_split(Siemens, train_size=0.65, test_size=0.35, random_state=42)\n",
    "\n",
    "#eerst afhankelijke variabele, dus hierbij 'Manufacturer'\n",
    "mod1 = ols(formula='Year ~ Total', data=traindata).fit()\n",
    "print(mod1.summary())"
   ]
  },
  {
   "cell_type": "code",
   "execution_count": null,
   "metadata": {},
   "outputs": [],
   "source": [
    "# traindata, testdata = train_test_split(df, train_size=0.65, test_size=0.35, random_state=42)\n",
    "df=df.dropna()\n",
    "X_train, X_test, Y_train, Y_test = train_test_split(df[\"Year\"].values, df[\"Manufacturer\"].values, test_size = .20, random_state = 40)\n",
    "\n",
    "\n",
    "# for name, data in manufacturers:\n",
    "#     model=ols(\"Manufacturer ~ Total\", data=traindata)\n",
    "#     # results = model.fit(traindata, testdata)\n",
    "#     # predicted=results.predict(testdata) \n",
    "#     results =model.fit(X_train, Y_train)\n",
    "#     predicted = results.predict(X_test)\n",
    "#     residuals = testdata['Manufacturer'] - predicted\n",
    "#     residual_data = pd.DataFrame({'Manufacturer': testdata['Manufacturer'], 'Total': testdata['Total']})\n",
    "#     print(residual_data)\n",
    "#     sns.lineplot(residual_data,x='Manufacturer', y='Total')\n",
    "\n",
    "#https://machinelearningmastery.com/make-predictions-scikit-learn/"
   ]
  },
  {
   "cell_type": "code",
   "execution_count": null,
   "metadata": {},
   "outputs": [],
   "source": [
    "#\n",
    "# Check for stationarity of the time-series data\n",
    "# We will look for p-value. In case, p-value is less than 0.05, the time series\n",
    "# data can said to have stationarity\n",
    "#\n",
    "from statsmodels.tsa.stattools import adfuller\n",
    "from statsmodels.graphics.tsaplots import plot_pacf\n",
    "manufacturers = top10_manufacturers.groupby(\"Manufacturer\")\n",
    "\n",
    "for name, data in manufacturers:\n",
    "    \n",
    "    df_stationarityTest = adfuller(data['Total'], autolag='AIC')\n",
    "    # Check the value of p\n",
    "    print(\"P-value: \", df_stationarityTest[1])\n",
    "    pacf = plot_pacf(data['Total'], title=name)"
   ]
  },
  {
   "cell_type": "code",
   "execution_count": null,
   "metadata": {},
   "outputs": [],
   "source": [
    "from statsmodels.tsa.ar_model import AutoReg\n",
    "# Create training and test data\n",
    "for name, data in manufacturers:\n",
    "    train_data = data['Total'][:len(df)-100]\n",
    "    test_data = data['Total'][len(df)-100:]\n",
    "    #\n",
    "    # Instantiate and fit the AR model with training data\n",
    "    #\n",
    "    ar_model = AutoReg(train_data, lags=1).fit()\n",
    "    #\n",
    "    # Print Summary\n",
    "    #\n",
    "    print(ar_model.summary())\n",
    "    "
   ]
  },
  {
   "cell_type": "code",
   "execution_count": null,
   "metadata": {},
   "outputs": [],
   "source": [
    "for name, data in manufacturers:\n",
    "    tempdf = df[['Year', 'Total']].dropna()\n",
    "\n",
    "    X = tempdf.iloc[:, :-1].values\n",
    "    Y = tempdf.iloc[:, 1].values\n",
    "\n",
    "    from sklearn.model_selection import train_test_split\n",
    "    X_train, X_test, Y_train, Y_test = train_test_split(X, Y, test_size=0.3, random_state=0)\n",
    "\n",
    "    from sklearn.linear_model import LinearRegression\n",
    "    regressor = LinearRegression()\n",
    "    regressor.fit(X_train, Y_train)\n",
    "\n",
    "    print(regressor.intercept_)\n",
    "    from matplotlib import pyplot\n",
    "\n",
    "    \n",
    "for name, data in manufacturers:\n",
    "    # line plot for Total Error with seaborn\n",
    "    # if name == \"Abbott\":\n",
    "        # sns.set(rc = {'figure.figsize':(25,8)})\n",
    "        # l = sns.lineplot(x='Year', y='Total Error', data=data)\n",
    "        # sns.lineplot(x='Year', y={regressor.intercept_}, data=data)\n",
    "        # l.set_title(name)\n",
    "        # plt.show()\n",
    "        pyplot.plot('Year','Total Error',data=tempdf, color='red')\n",
    "        pyplot.plot('Year','Total Error', data=regressor.intercept_)"
   ]
  }
 ],
 "metadata": {
  "interpreter": {
   "hash": "26de051ba29f2982a8de78e945f0abaf191376122a1563185a90213a26c5da77"
  },
  "kernelspec": {
   "display_name": "Python 3.10.4 64-bit",
   "language": "python",
   "name": "python3"
  },
  "language_info": {
   "codemirror_mode": {
    "name": "ipython",
    "version": 3
   },
   "file_extension": ".py",
   "mimetype": "text/x-python",
   "name": "python",
   "nbconvert_exporter": "python",
   "pygments_lexer": "ipython3",
   "version": "3.10.4"
  },
  "orig_nbformat": 4
 },
 "nbformat": 4,
 "nbformat_minor": 2
}
