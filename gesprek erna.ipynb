{
 "cells": [
  {
   "cell_type": "code",
   "execution_count": 3,
   "id": "3c5cac39",
   "metadata": {},
   "outputs": [
    {
     "data": {
      "text/html": [
       "        <script type=\"text/javascript\">\n",
       "        window.PlotlyConfig = {MathJaxConfig: 'local'};\n",
       "        if (window.MathJax && window.MathJax.Hub && window.MathJax.Hub.Config) {window.MathJax.Hub.Config({SVG: {font: \"STIX-Web\"}});}\n",
       "        if (typeof require !== 'undefined') {\n",
       "        require.undef(\"plotly\");\n",
       "        requirejs.config({\n",
       "            paths: {\n",
       "                'plotly': ['https://cdn.plot.ly/plotly-2.12.1.min']\n",
       "            }\n",
       "        });\n",
       "        require(['plotly'], function(Plotly) {\n",
       "            window._Plotly = Plotly;\n",
       "        });\n",
       "        }\n",
       "        </script>\n",
       "        "
      ]
     },
     "metadata": {},
     "output_type": "display_data"
    }
   ],
   "source": [
    "import pandas as pd\n",
    "import seaborn as sns\n",
    "import matplotlib.pyplot as plt\n",
    "from ipywidgets import interact, interactive, fixed, interact_manual\n",
    "import ipywidgets as widgets\n",
    "import plotly.express as px\n",
    "import cufflinks as cf\n",
    "import numpy as np\n",
    "cf.go_offline()\n",
    "cf.set_config_file(offline=False, world_readable=True)"
   ]
  },
  {
   "cell_type": "code",
   "execution_count": 29,
   "id": "e14ad899",
   "metadata": {},
   "outputs": [],
   "source": [
    "df = pd.read_excel('Complete-dataset-FINAL.xlsx')\n",
    "df = df.dropna()\n",
    "df2 = df.groupby(['Method name','Year']).mean().reset_index()\n",
    "df3 = df2.set_index('Method name')\n",
    "df4 = df.set_index('Method name')\n",
    "df5 = df3[['Year','Bias','CV','Total Error']]\n",
    "df6 = df.groupby(['Manufacturer','Year']).mean().reset_index().set_index('Manufacturer')\n",
    "df6 = df6[['Year','Bias','CV','Total Error']]\n",
    "df2020 = df.loc[df['Year'] == 2020]\n",
    "df2021 = df.loc[df['Year'] == 2021]\n",
    "resultbest = pd.concat([df2020, df2021])\n",
    "resultbest = resultbest.replace({'Sample':{'Sample 1' : 'GH5-01', 'Sample 2' : 'GH5-15' }})\n",
    "eersteValue = resultbest.loc[df['Sample'] == 'GH5-01']\n",
    "tweedeValue = resultbest.loc[df['Sample'] == 'GH5-15']\n",
    "endResult = pd.concat([eersteValue, tweedeValue])\n",
    "finish = endResult.groupby(['Manufacturer'], sort=True)['Total Error'].mean().diff()\n",
    "finish = finish.sort_values()"
   ]
  },
  {
   "cell_type": "code",
   "execution_count": 5,
   "id": "9c3d1f13",
   "metadata": {},
   "outputs": [],
   "source": [
    "def plotEverythingMethod(method):\n",
    "    df5.loc[[method]].iplot(\n",
    "                    xTitle='Year',\n",
    "                    x = 'Year',\n",
    "                    mode='lines+markers',\n",
    "                    yTitle='Total Error {}'.format(method)\n",
    "                    \n",
    "        \n",
    "                     )"
   ]
  },
  {
   "cell_type": "code",
   "execution_count": 17,
   "id": "81f86caa",
   "metadata": {},
   "outputs": [],
   "source": [
    "def plotEverythingManufacturer(method):\n",
    "    df6.loc[[method]].iplot(\n",
    "                    xTitle='Year',\n",
    "                    x = 'Year',\n",
    "                    mode='lines+markers',\n",
    "                    yTitle='Total Error {}'.format(method)\n",
    "                    \n",
    "        \n",
    "                     )"
   ]
  },
  {
   "cell_type": "markdown",
   "id": "ea999520",
   "metadata": {},
   "source": [
    "# De bias, cv en total error per methode per jaar"
   ]
  },
  {
   "cell_type": "code",
   "execution_count": 6,
   "id": "6e1283aa",
   "metadata": {},
   "outputs": [
    {
     "data": {
      "application/vnd.jupyter.widget-view+json": {
       "model_id": "f2cc795519884a09ae58bbc8d331ff7a",
       "version_major": 2,
       "version_minor": 0
      },
      "text/plain": [
       "interactive(children=(Dropdown(description='method', options=('A1cNOW', 'Abbott Alinity', 'Abbott Alinity ci s…"
      ]
     },
     "metadata": {},
     "output_type": "display_data"
    },
    {
     "data": {
      "text/plain": [
       "<function __main__.plotEverything(method)>"
      ]
     },
     "execution_count": 6,
     "metadata": {},
     "output_type": "execute_result"
    }
   ],
   "source": [
    "interact(plotEverythingMethod, method=df3.index.unique())"
   ]
  },
  {
   "cell_type": "markdown",
   "id": "8cfa0f9b",
   "metadata": {},
   "source": [
    "# De bias, cv en total error per manufacturer per jaar"
   ]
  },
  {
   "cell_type": "code",
   "execution_count": 19,
   "id": "118c9740",
   "metadata": {
    "scrolled": false
   },
   "outputs": [
    {
     "data": {
      "application/vnd.jupyter.widget-view+json": {
       "model_id": "6b1efe67bccc41d98cfa5ebe3f0251a9",
       "version_major": 2,
       "version_minor": 0
      },
      "text/plain": [
       "interactive(children=(Dropdown(description='method', options=('Abbott', 'Alere', 'Arkray', 'Axis-Shield', 'Bay…"
      ]
     },
     "metadata": {},
     "output_type": "display_data"
    },
    {
     "data": {
      "text/plain": [
       "<function __main__.plotEverythingManufacturer(method)>"
      ]
     },
     "execution_count": 19,
     "metadata": {},
     "output_type": "execute_result"
    }
   ],
   "source": [
    "interact(plotEverythingManufacturer, method=df6.index.unique())"
   ]
  },
  {
   "cell_type": "code",
   "execution_count": 31,
   "id": "f55a0f55",
   "metadata": {},
   "outputs": [],
   "source": [
    "# from msilib.schema import Patch\n",
    "\n",
    "# finish.drop(finish.index[finish.index == 'Abbott'], inplace=True)\n",
    "\n",
    "# #Verschil tussen de laatste sample gemiddelde en de eerste sample gemiddelde per Manufacturer van 2020 en 2021\n",
    "# barplot = finish.plot.barh(\n",
    "#     x='Manufacturer',\n",
    "#     y='Total Error',\n",
    "#     title='Total Error Gemiddelde per Manufacturers | Laatste - Eerste Meting | (2020/2021)',\n",
    "#     xlabel='Manufacturer',\n",
    "#     ylabel='Total Error',\n",
    "#     color=['red', 'red', 'red', 'red', 'green', 'green', 'green', 'green', 'green', 'green'],\n",
    "#     # legend=([\n",
    "#     #             Patch(facecolor='green'['Positieve Trend']),\n",
    "#     #             Patch(facecolor='red'['Negatieve Trend'])\n",
    "#     #         ], ['Positieve Trend', 'Negatieve Trend']\n",
    "#     #         )\n",
    "#     )\n",
    "# barplot.bar_label(barplot.containers[0])\n",
    "# plt.tight_layout()\n",
    "# plt.gcf().set_size_inches(30, 15)"
   ]
  }
 ],
 "metadata": {
  "kernelspec": {
   "display_name": "Python 3 (ipykernel)",
   "language": "python",
   "name": "python3"
  },
  "language_info": {
   "codemirror_mode": {
    "name": "ipython",
    "version": 3
   },
   "file_extension": ".py",
   "mimetype": "text/x-python",
   "name": "python",
   "nbconvert_exporter": "python",
   "pygments_lexer": "ipython3",
   "version": "3.9.7"
  }
 },
 "nbformat": 4,
 "nbformat_minor": 5
}
