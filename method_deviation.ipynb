{
 "cells": [
  {
   "cell_type": "code",
   "execution_count": 2,
   "metadata": {},
   "outputs": [],
   "source": [
    "import pandas as pd\n",
    "import numpy as np\n",
    "import matplotlib.pyplot as plt\n",
    "import seaborn as sns"
   ]
  },
  {
   "cell_type": "code",
   "execution_count": 3,
   "metadata": {},
   "outputs": [
    {
     "data": {
      "text/html": [
       "<div>\n",
       "<style scoped>\n",
       "    .dataframe tbody tr th:only-of-type {\n",
       "        vertical-align: middle;\n",
       "    }\n",
       "\n",
       "    .dataframe tbody tr th {\n",
       "        vertical-align: top;\n",
       "    }\n",
       "\n",
       "    .dataframe thead th {\n",
       "        text-align: right;\n",
       "    }\n",
       "</style>\n",
       "<table border=\"1\" class=\"dataframe\">\n",
       "  <thead>\n",
       "    <tr style=\"text-align: right;\">\n",
       "      <th></th>\n",
       "      <th>Method name</th>\n",
       "      <th>N (no. labs)</th>\n",
       "      <th>Mean</th>\n",
       "      <th>Bias</th>\n",
       "      <th>CV</th>\n",
       "      <th>Sample</th>\n",
       "      <th>Reference Value</th>\n",
       "      <th>Year</th>\n",
       "      <th>Source (CAP/EurA1c)</th>\n",
       "      <th>Type (Fresh/frozen)</th>\n",
       "      <th>Manufacturer</th>\n",
       "      <th>Total Error</th>\n",
       "    </tr>\n",
       "  </thead>\n",
       "  <tbody>\n",
       "    <tr>\n",
       "      <th>0</th>\n",
       "      <td>Vitros 5.1 FS. 4600. 5600</td>\n",
       "      <td>183</td>\n",
       "      <td>6.14</td>\n",
       "      <td>-0.16</td>\n",
       "      <td>2.3</td>\n",
       "      <td>GH2-04</td>\n",
       "      <td>6.3</td>\n",
       "      <td>2011</td>\n",
       "      <td>CAP</td>\n",
       "      <td>Fresh</td>\n",
       "      <td>Vitros</td>\n",
       "      <td>4.348</td>\n",
       "    </tr>\n",
       "    <tr>\n",
       "      <th>1</th>\n",
       "      <td>Vitros 5.1 FS. 4600. 5600</td>\n",
       "      <td>183</td>\n",
       "      <td>7.59</td>\n",
       "      <td>-0.01</td>\n",
       "      <td>2.5</td>\n",
       "      <td>GH2-05</td>\n",
       "      <td>7.6</td>\n",
       "      <td>2011</td>\n",
       "      <td>CAP</td>\n",
       "      <td>Fresh</td>\n",
       "      <td>Vitros</td>\n",
       "      <td>4.890</td>\n",
       "    </tr>\n",
       "    <tr>\n",
       "      <th>2</th>\n",
       "      <td>Vitros 5.1 FS. 4600. 5600</td>\n",
       "      <td>183</td>\n",
       "      <td>9.42</td>\n",
       "      <td>0.22</td>\n",
       "      <td>3.0</td>\n",
       "      <td>GH2-06</td>\n",
       "      <td>9.2</td>\n",
       "      <td>2011</td>\n",
       "      <td>CAP</td>\n",
       "      <td>Fresh</td>\n",
       "      <td>Vitros</td>\n",
       "      <td>6.100</td>\n",
       "    </tr>\n",
       "    <tr>\n",
       "      <th>3</th>\n",
       "      <td>Vitros 5.1 FS. 4600. 5600</td>\n",
       "      <td>210</td>\n",
       "      <td>5.42</td>\n",
       "      <td>-0.18</td>\n",
       "      <td>2.3</td>\n",
       "      <td>GH2-01</td>\n",
       "      <td>5.6</td>\n",
       "      <td>2012</td>\n",
       "      <td>CAP</td>\n",
       "      <td>Fresh</td>\n",
       "      <td>Vitros</td>\n",
       "      <td>4.328</td>\n",
       "    </tr>\n",
       "    <tr>\n",
       "      <th>4</th>\n",
       "      <td>Vitros 5.1 FS. 4600. 5600</td>\n",
       "      <td>210</td>\n",
       "      <td>9.34</td>\n",
       "      <td>-0.06</td>\n",
       "      <td>2.6</td>\n",
       "      <td>GH2-02</td>\n",
       "      <td>9.4</td>\n",
       "      <td>2012</td>\n",
       "      <td>CAP</td>\n",
       "      <td>Fresh</td>\n",
       "      <td>Vitros</td>\n",
       "      <td>5.036</td>\n",
       "    </tr>\n",
       "  </tbody>\n",
       "</table>\n",
       "</div>"
      ],
      "text/plain": [
       "                 Method name N (no. labs)  Mean  Bias   CV  Sample  \\\n",
       "0  Vitros 5.1 FS. 4600. 5600          183  6.14 -0.16  2.3  GH2-04   \n",
       "1  Vitros 5.1 FS. 4600. 5600          183  7.59 -0.01  2.5  GH2-05   \n",
       "2  Vitros 5.1 FS. 4600. 5600          183  9.42  0.22  3.0  GH2-06   \n",
       "3  Vitros 5.1 FS. 4600. 5600          210  5.42 -0.18  2.3  GH2-01   \n",
       "4  Vitros 5.1 FS. 4600. 5600          210  9.34 -0.06  2.6  GH2-02   \n",
       "\n",
       "   Reference Value  Year Source (CAP/EurA1c) Type (Fresh/frozen) Manufacturer  \\\n",
       "0              6.3  2011                 CAP               Fresh       Vitros   \n",
       "1              7.6  2011                 CAP               Fresh       Vitros   \n",
       "2              9.2  2011                 CAP               Fresh       Vitros   \n",
       "3              5.6  2012                 CAP               Fresh       Vitros   \n",
       "4              9.4  2012                 CAP               Fresh       Vitros   \n",
       "\n",
       "   Total Error  \n",
       "0        4.348  \n",
       "1        4.890  \n",
       "2        6.100  \n",
       "3        4.328  \n",
       "4        5.036  "
      ]
     },
     "execution_count": 3,
     "metadata": {},
     "output_type": "execute_result"
    }
   ],
   "source": [
    "df = pd.read_excel('Complete-dataset-FINAL.xlsx')\n",
    "df.head()\n",
    "\n"
   ]
  },
  {
   "cell_type": "code",
   "execution_count": 9,
   "metadata": {},
   "outputs": [
    {
     "data": {
      "image/png": "[encoded data removed]",
      "text/plain": [
       "<Figure size 432x288 with 1 Axes>"
      ]
     },
     "metadata": {
      "needs_background": "light"
     },
     "output_type": "display_data"
    }
   ],
   "source": [
    "df = pd.read_excel('Complete-dataset-FINAL.xlsx')\n",
    "\n",
    "groups = df.groupby(by=[\"Method name\"], dropna=True)\n",
    "\n",
    "for name, data in groups:\n",
    "    count = df[\"Method name\"].value_counts()[name]\n",
    "    df['Total Error AVG'] = df['Total Error'].rolling(count).mean()\n",
    "\n",
    "\n",
    "for name, data in groups:\n",
    "        graph = sns.lineplot(x='Year', y='Total Error', data=data)\n",
    "        graph = sns.lineplot(x='Year', y='Total Error AVG', data=data)\n",
    "        graph.set_title(name)\n",
    "\n",
    "        # plt.plot(data['Year'], data['Total Error'])\n",
    "        # plt.plot(data['Year'], data['Total Error AVG'])\n",
    "        # plt.title(name)\n",
    "        break\n",
    "\n",
    "        plt.show()\n",
    "     \n",
    "\n",
    "\n"
   ]
  }
 ],
 "metadata": {
  "interpreter": {
   "hash": "60659aadc3b7310f9e719bfb244dca1afbdbbf0dd4b71f5b8389e77da1a53da3"
  },
  "kernelspec": {
   "display_name": "Python 3.10.0 ('school')",
   "language": "python",
   "name": "python3"
  },
  "language_info": {
   "codemirror_mode": {
    "name": "ipython",
    "version": 3
   },
   "file_extension": ".py",
   "mimetype": "text/x-python",
   "name": "python",
   "nbconvert_exporter": "python",
   "pygments_lexer": "ipython3",
   "version": "3.10.0"
  },
  "orig_nbformat": 4
 },
 "nbformat": 4,
 "nbformat_minor": 2
}
