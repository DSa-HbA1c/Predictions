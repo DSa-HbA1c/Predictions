{
 "cells": [
  {
   "cell_type": "markdown",
   "metadata": {},
   "source": [
    "https://corporatefinanceinstitute.com/resources/knowledge/trading-investing/historical-volatility-hv/"
   ]
  },
  {
   "cell_type": "code",
   "execution_count": 4,
   "metadata": {},
   "outputs": [],
   "source": [
    "import pandas as pd\n",
    "\n",
    "df = df = pd.read_excel(\"Complete-dataset-FINAL.xlsx\")\n",
    "df['Year'] = pd.to_datetime(df[\"Year\"], format='%Y')\n",
    "\n",
    "cap = df.loc[df['Source (CAP/EurA1c)'] == 'CAP']\n",
    "eur = df.loc[df['Source (CAP/EurA1c)'] == 'EURA1c']"
   ]
  },
  {
   "cell_type": "code",
   "execution_count": 55,
   "metadata": {},
   "outputs": [],
   "source": [
    "cap_cv = cap[[\"Year\", \"Method name\", \"CV\"]].groupby([\"Method name\", \"Year\"]).mean()\n",
    "eur_cv = eur[[\"Year\", \"Method name\", \"CV\"]].groupby([\"Method name\", \"Year\"]).mean()"
   ]
  },
  {
   "cell_type": "code",
   "execution_count": 341,
   "metadata": {},
   "outputs": [
    {
     "data": {
      "text/html": [
       "<div>\n",
       "<style scoped>\n",
       "    .dataframe tbody tr th:only-of-type {\n",
       "        vertical-align: middle;\n",
       "    }\n",
       "\n",
       "    .dataframe tbody tr th {\n",
       "        vertical-align: top;\n",
       "    }\n",
       "\n",
       "    .dataframe thead th {\n",
       "        text-align: right;\n",
       "    }\n",
       "</style>\n",
       "<table border=\"1\" class=\"dataframe\">\n",
       "  <thead>\n",
       "    <tr style=\"text-align: right;\">\n",
       "      <th></th>\n",
       "      <th>Volatility</th>\n",
       "      <th>Data points amount</th>\n",
       "      <th>Class</th>\n",
       "    </tr>\n",
       "    <tr>\n",
       "      <th>Method</th>\n",
       "      <th></th>\n",
       "      <th></th>\n",
       "      <th></th>\n",
       "    </tr>\n",
       "  </thead>\n",
       "  <tbody>\n",
       "    <tr>\n",
       "      <th>Tosoh G8 Auto HPLC</th>\n",
       "      <td>0.257196</td>\n",
       "      <td>5</td>\n",
       "      <td>1</td>\n",
       "    </tr>\n",
       "    <tr>\n",
       "      <th>Bio-Rad D-10</th>\n",
       "      <td>0.279106</td>\n",
       "      <td>5</td>\n",
       "      <td>1</td>\n",
       "    </tr>\n",
       "    <tr>\n",
       "      <th>Alere Afinion</th>\n",
       "      <td>0.374700</td>\n",
       "      <td>5</td>\n",
       "      <td>1</td>\n",
       "    </tr>\n",
       "    <tr>\n",
       "      <th>Bio-Rad D-100</th>\n",
       "      <td>0.465994</td>\n",
       "      <td>5</td>\n",
       "      <td>1</td>\n",
       "    </tr>\n",
       "    <tr>\n",
       "      <th>Beckman Coulter AU Systems</th>\n",
       "      <td>0.475237</td>\n",
       "      <td>5</td>\n",
       "      <td>1</td>\n",
       "    </tr>\n",
       "    <tr>\n",
       "      <th>Arkray Adams HA-8180 series</th>\n",
       "      <td>0.488365</td>\n",
       "      <td>5</td>\n",
       "      <td>2</td>\n",
       "    </tr>\n",
       "    <tr>\n",
       "      <th>Siemens Dimension series</th>\n",
       "      <td>0.509313</td>\n",
       "      <td>5</td>\n",
       "      <td>2</td>\n",
       "    </tr>\n",
       "    <tr>\n",
       "      <th>Siemens DCA 2000/Vantage</th>\n",
       "      <td>0.568639</td>\n",
       "      <td>5</td>\n",
       "      <td>2</td>\n",
       "    </tr>\n",
       "    <tr>\n",
       "      <th>Arkray Adams HA-8160 series</th>\n",
       "      <td>0.605929</td>\n",
       "      <td>5</td>\n",
       "      <td>2</td>\n",
       "    </tr>\n",
       "    <tr>\n",
       "      <th>Beckman Coulter UniCel DxC</th>\n",
       "      <td>0.634508</td>\n",
       "      <td>5</td>\n",
       "      <td>2</td>\n",
       "    </tr>\n",
       "    <tr>\n",
       "      <th>Trinity Biotech Premier Hb9210</th>\n",
       "      <td>0.731676</td>\n",
       "      <td>5</td>\n",
       "      <td>3</td>\n",
       "    </tr>\n",
       "    <tr>\n",
       "      <th>Not specified/Other</th>\n",
       "      <td>0.810925</td>\n",
       "      <td>5</td>\n",
       "      <td>3</td>\n",
       "    </tr>\n",
       "    <tr>\n",
       "      <th>Tosoh G7 Auto HPLC</th>\n",
       "      <td>0.896298</td>\n",
       "      <td>5</td>\n",
       "      <td>3</td>\n",
       "    </tr>\n",
       "    <tr>\n",
       "      <th>Bio-Rad Variant series</th>\n",
       "      <td>1.124122</td>\n",
       "      <td>5</td>\n",
       "      <td>3</td>\n",
       "    </tr>\n",
       "    <tr>\n",
       "      <th>Siemens Advia</th>\n",
       "      <td>1.386579</td>\n",
       "      <td>5</td>\n",
       "      <td>3</td>\n",
       "    </tr>\n",
       "  </tbody>\n",
       "</table>\n",
       "</div>"
      ],
      "text/plain": [
       "                                Volatility  Data points amount  Class\n",
       "Method                                                               \n",
       "Tosoh G8 Auto HPLC                0.257196                   5      1\n",
       "Bio-Rad D-10                      0.279106                   5      1\n",
       "Alere Afinion                     0.374700                   5      1\n",
       "Bio-Rad D-100                     0.465994                   5      1\n",
       "Beckman Coulter AU Systems        0.475237                   5      1\n",
       "Arkray Adams HA-8180 series       0.488365                   5      2\n",
       "Siemens Dimension series          0.509313                   5      2\n",
       "Siemens DCA 2000/Vantage          0.568639                   5      2\n",
       "Arkray Adams HA-8160 series       0.605929                   5      2\n",
       "Beckman Coulter UniCel DxC        0.634508                   5      2\n",
       "Trinity Biotech Premier Hb9210    0.731676                   5      3\n",
       "Not specified/Other               0.810925                   5      3\n",
       "Tosoh G7 Auto HPLC                0.896298                   5      3\n",
       "Bio-Rad Variant series            1.124122                   5      3\n",
       "Siemens Advia                     1.386579                   5      3"
      ]
     },
     "execution_count": 341,
     "metadata": {},
     "output_type": "execute_result"
    }
   ],
   "source": [
    "# CAP\n",
    "df = eur_cv.copy()\n",
    "\n",
    "methods = eur_cv.index.get_level_values(0).unique()\n",
    "\n",
    "volatility = pd.DataFrame(columns=[\"Method\", \"Volatility\", \"Data points amount\"])\n",
    "\n",
    "for method in methods:\n",
    "    if len(df.loc[method]) < 5:\n",
    "        continue\n",
    "    cvs = df.loc[method]\n",
    "    variance = cvs.std(ddof=0)[0]\n",
    "    volatility = pd.concat([volatility, pd.DataFrame({\"Method\": [method], \"Volatility\": [variance]})])\n",
    "\n",
    "volatility.sort_values(by=[\"Volatility\"], inplace=True)\n",
    "volatility.reset_index(drop=True, inplace=True)\n",
    "volatility.set_index(\"Method\", inplace=True)\n",
    "\n",
    "for method in methods:\n",
    "    volatility.loc[method, \"Data points amount\"] = len(df.loc[method])\n",
    "\n",
    "classes = []\n",
    "count = 0\n",
    "while count < len(volatility):\n",
    "    classes.append(int(count/5) + 1)\n",
    "    count += 1\n",
    "volatility[\"Class\"] = classes\n",
    "volatility.dropna(inplace=True)\n",
    "volatility[\"Volatility\"] = volatility[\"Volatility\"].astype(float)\n",
    "volatility[\"Data points amount\"] = volatility[\"Data points amount\"].astype(int)\n",
    "\n",
    "volatility.head(20)"
   ]
  },
  {
   "cell_type": "code",
   "execution_count": 342,
   "metadata": {},
   "outputs": [
    {
     "data": {
      "text/plain": [
       "<AxesSubplot:>"
      ]
     },
     "execution_count": 342,
     "metadata": {},
     "output_type": "execute_result"
    },
    {
     "data": {
      "image/png": "[encoded data removed]",
      "text/plain": [
       "<Figure size 432x288 with 2 Axes>"
      ]
     },
     "metadata": {
      "needs_background": "light"
     },
     "output_type": "display_data"
    }
   ],
   "source": [
    "import seaborn as sns\n",
    "sns.heatmap(volatility.corr(), annot=True)"
   ]
  },
  {
   "cell_type": "code",
   "execution_count": 346,
   "metadata": {},
   "outputs": [
    {
     "name": "stdout",
     "output_type": "stream",
     "text": [
      "1 2\n",
      "0 0\n",
      "0 1\n"
     ]
    },
    {
     "data": {
      "image/png": "[encoded data removed]",
      "text/plain": [
       "<Figure size 720x360 with 2 Axes>"
      ]
     },
     "metadata": {
      "needs_background": "light"
     },
     "output_type": "display_data"
    }
   ],
   "source": [
    "import numpy as np\n",
    "from math import ceil, floor\n",
    "df[\"Class\"] = np.nan\n",
    "\n",
    "for method in volatility.index:\n",
    "    df.loc[method, \"Class\"] = volatility.loc[method, \"Class\"]\n",
    "\n",
    "class_amount = int(df[\"Class\"].max())\n",
    "\n",
    "rows = ceil(class_amount / 5)\n",
    "columns = ceil(class_amount / 2)\n",
    "\n",
    "print(rows, columns)\n",
    "\n",
    "fig, axes = plt.subplots(columns, rows, figsize=(10, 5), sharey=True, squeeze=False)\n",
    "\n",
    "fig.suptitle(\"CAP CV value per volatility class\")\n",
    "\n",
    "for i in range(1, class_amount):\n",
    "    selection = df.loc[df[\"Class\"] == i]\n",
    "    x = (i - 1) % rows\n",
    "    y = floor((i - 1) / rows)\n",
    "    print(x, y)\n",
    "    sns.lineplot(ax=axes[y, x], data=selection, x=\"Year\", y=\"CV\", hue=\"Method name\", legend=False)\n",
    "\n",
    "plt.show()\n"
   ]
  }
 ],
 "metadata": {
  "interpreter": {
   "hash": "4140d095908b3c81bb21a8436c6941f0a8659323fc9e8597453f2779205c227a"
  },
  "kernelspec": {
   "display_name": "Python 3.9.7 ('base')",
   "language": "python",
   "name": "python3"
  },
  "language_info": {
   "codemirror_mode": {
    "name": "ipython",
    "version": 3
   },
   "file_extension": ".py",
   "mimetype": "text/x-python",
   "name": "python",
   "nbconvert_exporter": "python",
   "pygments_lexer": "ipython3",
   "version": "3.9.7"
  },
  "orig_nbformat": 4
 },
 "nbformat": 4,
 "nbformat_minor": 2
}
